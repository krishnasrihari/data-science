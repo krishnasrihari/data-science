{
 "cells": [
  {
   "cell_type": "code",
   "execution_count": 1,
   "metadata": {},
   "outputs": [],
   "source": [
    "from scipy.stats import binom\n",
    "import matplotlib.pylab as plt\n",
    "import numpy as np"
   ]
  },
  {
   "cell_type": "markdown",
   "metadata": {},
   "source": [
    "### A Binomial distribution\n",
    "A binomial distribution is used to determine the probability of binary occurrences"
   ]
  },
  {
   "cell_type": "code",
   "execution_count": 2,
   "metadata": {},
   "outputs": [
    {
     "data": {
      "image/png": "[encoded data removed]",
      "text/plain": [
       "<Figure size 432x288 with 1 Axes>"
      ]
     },
     "metadata": {
      "needs_background": "light"
     },
     "output_type": "display_data"
    }
   ],
   "source": [
    "# binomial distribution\n",
    "# generating multiple plots on a screen\n",
    "fig, ax = plt.subplots(1,1) \n",
    "x = [0,1,2,3,4,5,6]\n",
    "#  takes in the number of attempts and the probability of success\n",
    "n, p = 6, 0.5\n",
    "rv = binom(n,p)\n",
    "# plot vertical lines\n",
    "ax.vlines(x, 0, rv.pmf(x), colors='k', linestyles='-', lw=1, label='Probability')\n",
    "ax.legend(loc='best', frameon=False)\n",
    "plt.show()"
   ]
  },
  {
   "cell_type": "code",
   "execution_count": 3,
   "metadata": {},
   "outputs": [
    {
     "data": {
      "image/png": "[encoded data removed]",
      "text/plain": [
       "<Figure size 432x288 with 1 Axes>"
      ]
     },
     "metadata": {
      "needs_background": "light"
     },
     "output_type": "display_data"
    }
   ],
   "source": [
    "# increase the number of attempts and see the distribution\n",
    "fig, ax = plt.subplots(1,1)\n",
    "x = range(101)\n",
    "n, p = 100, 0.5\n",
    "rv = binom(n, p)\n",
    "ax.vlines(x, 0, rv.pmf(x), colors='k', linestyles='-', lw=1, label='Probability')\n",
    "ax.legend(loc='best', frameon=False)\n",
    "plt.show()"
   ]
  },
  {
   "cell_type": "markdown",
   "metadata": {},
   "source": [
    "### A Poisson Distribution\n",
    "a Poisson distribution is used for count-based distributions"
   ]
  },
  {
   "cell_type": "code",
   "execution_count": 4,
   "metadata": {},
   "outputs": [
    {
     "data": {
      "text/plain": [
       "0.06688147366240117"
      ]
     },
     "execution_count": 4,
     "metadata": {},
     "output_type": "execute_result"
    }
   ],
   "source": [
    "# The number of cars that pass through a bridge in an hour is 20. \n",
    "# What would be the probability of 23 cars passing through the bridge in an hour?\n",
    "from scipy.stats import poisson\n",
    "rv = poisson(20) # mean\n",
    "rv.pmf(23) # probability"
   ]
  },
  {
   "cell_type": "markdown",
   "metadata": {},
   "source": [
    "### A Bernouli distribution\n",
    "You can perform an experiment with two possible outcomes: success or failure. Success has a probability of p, and failure has a probability of 1 - p. A random variable that takes a 1 value in case of a success and 0 in case of failure is called a Bernoulli distribution"
   ]
  },
  {
   "cell_type": "code",
   "execution_count": 5,
   "metadata": {},
   "outputs": [
    {
     "data": {
      "text/plain": [
       "array([0, 1, 0, 1, 0, 0, 1, 1, 1, 0, 0, 1, 1, 1, 1, 1, 0, 1, 0, 1, 1, 1,\n",
       "       1, 0, 0, 1, 0, 0, 1, 1, 1, 0, 1, 0, 0, 1, 1, 1, 0, 1, 0, 1, 0, 1,\n",
       "       0, 0, 1, 1, 1, 0, 1, 1, 0, 1, 1, 1, 1, 0, 1, 1, 1, 1, 0, 1, 0, 0,\n",
       "       1, 0, 0, 1, 0, 1, 1, 1, 1, 1, 1, 1, 1, 1, 1, 1, 0, 0, 1, 1, 1, 1,\n",
       "       1, 0, 1, 0, 1, 0, 1, 0, 1, 1, 0, 1])"
      ]
     },
     "execution_count": 5,
     "metadata": {},
     "output_type": "execute_result"
    }
   ],
   "source": [
    "# generates a Bernoulli distribution with a probability of 0.7\n",
    "from scipy import stats\n",
    "stats.bernoulli.rvs(0.7, size=100)"
   ]
  },
  {
   "cell_type": "markdown",
   "metadata": {},
   "source": [
    "### Z-Score\n",
    "A z-score, in simple terms, is a score that expresses the value of a distribution in standard deviation with respect to the mean."
   ]
  },
  {
   "cell_type": "code",
   "execution_count": 6,
   "metadata": {},
   "outputs": [
    {
     "data": {
      "text/plain": [
       "array([51., 42., 57., 47., 63., 57., 67., 61., 31., 39., 39., 48., 52.,\n",
       "       41., 39., 55., 35., 39., 44., 31., 42., 56., 42., 62., 51., 45.,\n",
       "       46., 56., 57., 55., 52., 63., 53., 52., 40., 43., 47., 59., 62.,\n",
       "       73., 53., 58., 52., 41., 36., 57., 56., 52., 42., 53., 77., 54.,\n",
       "       56., 45., 41., 48., 63., 62., 40., 49.])"
      ]
     },
     "execution_count": 6,
     "metadata": {},
     "output_type": "execute_result"
    }
   ],
   "source": [
    "# A classroom has 60 students in it and they have just got their mathematics examination score\n",
    "class_score = np.random.normal(50,10,60).round() #50 is mean, 10 is sd, 60 is no of values to generate\n",
    "class_score"
   ]
  },
  {
   "cell_type": "code",
   "execution_count": 7,
   "metadata": {},
   "outputs": [
    {
     "name": "stderr",
     "output_type": "stream",
     "text": [
      "/anaconda3/lib/python3.7/site-packages/matplotlib/axes/_axes.py:6571: UserWarning: The 'normed' kwarg is deprecated, and has been replaced by the 'density' kwarg.\n",
      "  warnings.warn(\"The 'normed' kwarg is deprecated, and has been \"\n"
     ]
    },
    {
     "data": {
      "image/png": "[encoded data removed]",
      "text/plain": [
       "<Figure size 432x288 with 1 Axes>"
      ]
     },
     "metadata": {
      "needs_background": "light"
     },
     "output_type": "display_data"
    }
   ],
   "source": [
    "plt.hist(class_score, 30, normed=True) # number of breaks is 30\n",
    "plt.show()"
   ]
  },
  {
   "cell_type": "code",
   "execution_count": 8,
   "metadata": {},
   "outputs": [
    {
     "data": {
      "text/plain": [
       "array([ 0.05302291, -0.87060204,  0.66877289, -0.35747707,  1.28452286,\n",
       "        0.66877289,  1.69502284,  1.07927287, -1.99947699, -1.17847703,\n",
       "       -1.17847703, -0.25485207,  0.15564791, -0.97322704, -1.17847703,\n",
       "        0.4635229 , -1.58897701, -1.17847703, -0.66535205, -1.99947699,\n",
       "       -0.87060204,  0.56614789, -0.87060204,  1.18189786,  0.05302291,\n",
       "       -0.56272706, -0.46010206,  0.56614789,  0.66877289,  0.4635229 ,\n",
       "        0.15564791,  1.28452286,  0.25827291,  0.15564791, -1.07585204,\n",
       "       -0.76797705, -0.35747707,  0.87402288,  1.18189786,  2.31077281,\n",
       "        0.25827291,  0.77139788,  0.15564791, -0.97322704, -1.48635202,\n",
       "        0.66877289,  0.56614789,  0.15564791, -0.87060204,  0.25827291,\n",
       "        2.7212728 ,  0.3608979 ,  0.56614789, -0.56272706, -0.97322704,\n",
       "       -0.25485207,  1.28452286,  1.18189786, -1.07585204, -0.15222708])"
      ]
     },
     "execution_count": 8,
     "metadata": {},
     "output_type": "execute_result"
    }
   ],
   "source": [
    "stats.zscore(class_score)"
   ]
  },
  {
   "cell_type": "code",
   "execution_count": 9,
   "metadata": {},
   "outputs": [
    {
     "data": {
      "text/plain": [
       "0.0911019282653599"
      ]
     },
     "execution_count": 9,
     "metadata": {},
     "output_type": "execute_result"
    }
   ],
   "source": [
    "# In other words, 0.09 is the probability of getting marks above 60.\n",
    "prob = 1- stats.norm.cdf(1.334)\n",
    "prob"
   ]
  },
  {
   "cell_type": "code",
   "execution_count": 10,
   "metadata": {},
   "outputs": [
    {
     "data": {
      "text/plain": [
       "0.8416212335729143"
      ]
     },
     "execution_count": 10,
     "metadata": {},
     "output_type": "execute_result"
    }
   ],
   "source": [
    "# to get the z-score at which the top 20% score marks, we can use the ppf\n",
    "stats.norm.ppf(0.80)"
   ]
  },
  {
   "cell_type": "code",
   "execution_count": 11,
   "metadata": {},
   "outputs": [
    {
     "data": {
      "text/plain": [
       "58.668473771957466"
      ]
     },
     "execution_count": 11,
     "metadata": {},
     "output_type": "execute_result"
    }
   ],
   "source": [
    "(0.84 * class_score.std()) + class_score.mean()"
   ]
  },
  {
   "cell_type": "markdown",
   "metadata": {},
   "source": [
    "### A p-value\n",
    "A p-value is the probability of rejecting a null-hypothesis when the hypothesis is proven true. If the p-value is equal to or less than the significance level (α), then the null hypothesis is inconsistent and it needs to be rejected.\n"
   ]
  },
  {
   "cell_type": "code",
   "execution_count": 14,
   "metadata": {},
   "outputs": [
    {
     "data": {
      "text/plain": [
       "1.7976478363849955"
      ]
     },
     "execution_count": 14,
     "metadata": {},
     "output_type": "execute_result"
    }
   ],
   "source": [
    "# get z-score of score 68\n",
    "zscore = (68 - class_score.mean()) / class_score.std()\n",
    "zscore"
   ]
  },
  {
   "cell_type": "code",
   "execution_count": 16,
   "metadata": {},
   "outputs": [
    {
     "data": {
      "text/plain": [
       "0.03611641631121609"
      ]
     },
     "execution_count": 16,
     "metadata": {},
     "output_type": "execute_result"
    }
   ],
   "source": [
    "# prob is 03% which is lower than significance value(5%) so null hypothis rejected\n",
    "prob = 1 - stats.norm.cdf(zscore)\n",
    "prob"
   ]
  },
  {
   "cell_type": "markdown",
   "metadata": {},
   "source": [
    "### One tailed and two tailed testing\n",
    "In a two-tailed test, when a significance level of 5% is used, then it is distributed equally in the both directions, that is, 2.5% of it in one direction and 2.5% in the other direction."
   ]
  },
  {
   "cell_type": "code",
   "execution_count": 21,
   "metadata": {},
   "outputs": [
    {
     "data": {
      "text/plain": [
       "0.009815328628645334"
      ]
     },
     "execution_count": 21,
     "metadata": {},
     "output_type": "execute_result"
    }
   ],
   "source": [
    "# The mean score of the mathematics exam at a national level is 60 marks and the standard deviation is 3 marks\n",
    "# The mean marks of a class are 53.\n",
    "# Let's test this hypothesis by first getting the z-score 60:\n",
    "zscore = (53-60)/3\n",
    "prob = stats.norm.cdf(zscore)\n",
    "prob"
   ]
  },
  {
   "cell_type": "markdown",
   "metadata": {},
   "source": [
    "### A Confidence interval\n",
    "The confidence interval helps in determining the interval at which the population mean can be defined."
   ]
  },
  {
   "cell_type": "code",
   "execution_count": 25,
   "metadata": {},
   "outputs": [],
   "source": [
    "# Let's take the height of every man in Kenya and determine with 95% confidence interval the average of height\n",
    "# of Kenyan men at a national level.\n",
    "height_data = np.array([ 186.0, 180.0, 195.0, 189.0, 191.0,\n",
    "    177.0, 161.0, 177.0, 192.0, 182.0, 185.0, 192.0,\n",
    "  173.0, 172.0, 191.0, 184.0, 193.0, 182.0, 190.0, 185.0, 181.0,\n",
    "    188.0, 179.0, 188.0,\n",
    "  170.0, 179.0, 180.0, 189.0, 188.0, 185.0, 170.0, 197.0, 187.0,\n",
    "    182.0, 173.0, 179.0,\n",
    "  184.0, 177.0, 190.0, 174.0, 203.0, 206.0, 173.0, 169.0, 178.0,\n",
    "    201.0, 198.0, 166.0,\n",
    "  171.0, 180.0])"
   ]
  },
  {
   "cell_type": "code",
   "execution_count": 26,
   "metadata": {},
   "outputs": [
    {
     "name": "stderr",
     "output_type": "stream",
     "text": [
      "/anaconda3/lib/python3.7/site-packages/matplotlib/axes/_axes.py:6571: UserWarning: The 'normed' kwarg is deprecated, and has been replaced by the 'density' kwarg.\n",
      "  warnings.warn(\"The 'normed' kwarg is deprecated, and has been \"\n"
     ]
    },
    {
     "data": {
      "image/png": "[encoded data removed]",
      "text/plain": [
       "<Figure size 432x288 with 1 Axes>"
      ]
     },
     "metadata": {
      "needs_background": "light"
     },
     "output_type": "display_data"
    }
   ],
   "source": [
    "plt.hist(height_data, 30, normed=True)\n",
    "plt.show()"
   ]
  },
  {
   "cell_type": "code",
   "execution_count": 27,
   "metadata": {},
   "outputs": [
    {
     "data": {
      "text/plain": [
       "183.24"
      ]
     },
     "execution_count": 27,
     "metadata": {},
     "output_type": "execute_result"
    }
   ],
   "source": [
    "height_data.mean()"
   ]
  },
  {
   "cell_type": "code",
   "execution_count": 30,
   "metadata": {},
   "outputs": [
    {
     "data": {
      "text/plain": [
       "1.3787187190005248"
      ]
     },
     "execution_count": 30,
     "metadata": {},
     "output_type": "execute_result"
    }
   ],
   "source": [
    "# To determine the confidence interval, we'll now define the standard error of the mean.\n",
    "stats.sem(height_data)\n",
    "# there is a standard error of the mean of 1.38 cm"
   ]
  },
  {
   "cell_type": "code",
   "execution_count": 34,
   "metadata": {},
   "outputs": [
    {
     "data": {
      "text/plain": [
       "185.94228868924102"
      ]
     },
     "execution_count": 34,
     "metadata": {},
     "output_type": "execute_result"
    }
   ],
   "source": [
    "# The lower and upper limit of the confidence interval can be determined by using the following formula:\n",
    "# Upper/Lower limit = mean(height) + / - sigma * SEmean(x)\n",
    "# A 1.96 standard deviation covers 95% of area in the normal distribution.\n",
    "# lower limit\n",
    "lower_limit = height_data.mean() + (1.96 * stats.sem(height_data)) \n",
    "lower_limit"
   ]
  },
  {
   "cell_type": "code",
   "execution_count": 36,
   "metadata": {},
   "outputs": [
    {
     "data": {
      "text/plain": [
       "180.537711310759"
      ]
     },
     "execution_count": 36,
     "metadata": {},
     "output_type": "execute_result"
    }
   ],
   "source": [
    "# upper limit\n",
    "upper_limit = height_data.mean() - (1.96 * stats.sem(height_data))\n",
    "upper_limit\n",
    "# We can confidently say that the population mean lies between 180.53 cm and 185.94 cm of height."
   ]
  },
  {
   "cell_type": "code",
   "execution_count": null,
   "metadata": {},
   "outputs": [],
   "source": []
  },
  {
   "cell_type": "code",
   "execution_count": null,
   "metadata": {},
   "outputs": [],
   "source": []
  },
  {
   "cell_type": "code",
   "execution_count": null,
   "metadata": {},
   "outputs": [],
   "source": []
  }
 ],
 "metadata": {
  "kernelspec": {
   "display_name": "Python 3",
   "language": "python",
   "name": "python3"
  },
  "language_info": {
   "codemirror_mode": {
    "name": "ipython",
    "version": 3
   },
   "file_extension": ".py",
   "mimetype": "text/x-python",
   "name": "python",
   "nbconvert_exporter": "python",
   "pygments_lexer": "ipython3",
   "version": "3.7.0"
  }
 },
 "nbformat": 4,
 "nbformat_minor": 2
}
