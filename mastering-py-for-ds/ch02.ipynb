{
 "cells": [
  {
   "cell_type": "markdown",
   "metadata": {},
   "source": [
    "### The data structure of pandas\n",
    "\n",
    "1. Series\n",
    "2. DataFrame \n",
    "3. Panel"
   ]
  },
  {
   "cell_type": "markdown",
   "metadata": {},
   "source": [
    "### Series\n",
    "Series is a one-dimensional array, which can hold any type of data, such as integers, floats, strings, and Python objects too."
   ]
  },
  {
   "cell_type": "code",
   "execution_count": 1,
   "metadata": {},
   "outputs": [
    {
     "data": {
      "text/plain": [
       "0    1.026744\n",
       "1    0.710258\n",
       "2   -1.702517\n",
       "3    0.359361\n",
       "4    2.818192\n",
       "dtype: float64"
      ]
     },
     "execution_count": 1,
     "metadata": {},
     "output_type": "execute_result"
    }
   ],
   "source": [
    "import pandas as pd\n",
    "import numpy as np\n",
    "pd.Series(np.random.randn(5))"
   ]
  },
  {
   "cell_type": "code",
   "execution_count": 2,
   "metadata": {},
   "outputs": [
    {
     "data": {
      "text/plain": [
       "a    0.068467\n",
       "b    0.403448\n",
       "c    0.303408\n",
       "d   -0.361557\n",
       "e    0.650737\n",
       "dtype: float64"
      ]
     },
     "execution_count": 2,
     "metadata": {},
     "output_type": "execute_result"
    }
   ],
   "source": [
    "# The index of the series can be customized\n",
    "pd.Series(np.random.randn(5), index=['a','b','c','d','e'])"
   ]
  },
  {
   "cell_type": "code",
   "execution_count": 3,
   "metadata": {},
   "outputs": [
    {
     "data": {
      "text/plain": [
       "{'A': 10, 'B': 20, 'C': 30}"
      ]
     },
     "execution_count": 3,
     "metadata": {},
     "output_type": "execute_result"
    }
   ],
   "source": [
    "# A series can be derived from a Python dict too\n",
    "d = {'A': 10, 'B': 20, 'C': 30}\n",
    "d"
   ]
  },
  {
   "cell_type": "code",
   "execution_count": 4,
   "metadata": {},
   "outputs": [
    {
     "data": {
      "text/plain": [
       "A    10\n",
       "B    20\n",
       "C    30\n",
       "dtype: int64"
      ]
     },
     "execution_count": 4,
     "metadata": {},
     "output_type": "execute_result"
    }
   ],
   "source": [
    "pd.Series(d)"
   ]
  },
  {
   "cell_type": "markdown",
   "metadata": {},
   "source": [
    "### Dataframe\n",
    "DataFrame is a 2D data structure with columns that can be of different datatypes."
   ]
  },
  {
   "cell_type": "markdown",
   "metadata": {},
   "source": [
    "A DataFrame can be formed from the following data structures:\n",
    "1. A NumPy array\n",
    "2. Lists\n",
    "3. Dicts\n",
    "4. Series\n",
    "5. A 2D NumPy array"
   ]
  },
  {
   "cell_type": "code",
   "execution_count": 5,
   "metadata": {},
   "outputs": [
    {
     "data": {
      "text/html": [
       "<div>\n",
       "<style scoped>\n",
       "    .dataframe tbody tr th:only-of-type {\n",
       "        vertical-align: middle;\n",
       "    }\n",
       "\n",
       "    .dataframe tbody tr th {\n",
       "        vertical-align: top;\n",
       "    }\n",
       "\n",
       "    .dataframe thead th {\n",
       "        text-align: right;\n",
       "    }\n",
       "</style>\n",
       "<table border=\"1\" class=\"dataframe\">\n",
       "  <thead>\n",
       "    <tr style=\"text-align: right;\">\n",
       "      <th></th>\n",
       "      <th>c1</th>\n",
       "      <th>c2</th>\n",
       "    </tr>\n",
       "  </thead>\n",
       "  <tbody>\n",
       "    <tr>\n",
       "      <th>0</th>\n",
       "      <td>A</td>\n",
       "      <td>1.0</td>\n",
       "    </tr>\n",
       "    <tr>\n",
       "      <th>1</th>\n",
       "      <td>B</td>\n",
       "      <td>2.0</td>\n",
       "    </tr>\n",
       "    <tr>\n",
       "      <th>2</th>\n",
       "      <td>C</td>\n",
       "      <td>3.0</td>\n",
       "    </tr>\n",
       "    <tr>\n",
       "      <th>3</th>\n",
       "      <td>NaN</td>\n",
       "      <td>4.0</td>\n",
       "    </tr>\n",
       "  </tbody>\n",
       "</table>\n",
       "</div>"
      ],
      "text/plain": [
       "    c1   c2\n",
       "0    A  1.0\n",
       "1    B  2.0\n",
       "2    C  3.0\n",
       "3  NaN  4.0"
      ]
     },
     "execution_count": 5,
     "metadata": {},
     "output_type": "execute_result"
    }
   ],
   "source": [
    "# A dataframe can be created from a dict of series\n",
    "d = {'c1': pd.Series(['A','B','C']), 'c2': pd.Series([1,2., 3., 4.])}\n",
    "df = pd.DataFrame(d)\n",
    "df"
   ]
  },
  {
   "cell_type": "code",
   "execution_count": 6,
   "metadata": {},
   "outputs": [
    {
     "data": {
      "text/html": [
       "<div>\n",
       "<style scoped>\n",
       "    .dataframe tbody tr th:only-of-type {\n",
       "        vertical-align: middle;\n",
       "    }\n",
       "\n",
       "    .dataframe tbody tr th {\n",
       "        vertical-align: top;\n",
       "    }\n",
       "\n",
       "    .dataframe thead th {\n",
       "        text-align: right;\n",
       "    }\n",
       "</style>\n",
       "<table border=\"1\" class=\"dataframe\">\n",
       "  <thead>\n",
       "    <tr style=\"text-align: right;\">\n",
       "      <th></th>\n",
       "      <th>c1</th>\n",
       "      <th>c2</th>\n",
       "    </tr>\n",
       "  </thead>\n",
       "  <tbody>\n",
       "    <tr>\n",
       "      <th>0</th>\n",
       "      <td>A</td>\n",
       "      <td>1.0</td>\n",
       "    </tr>\n",
       "    <tr>\n",
       "      <th>1</th>\n",
       "      <td>B</td>\n",
       "      <td>2.0</td>\n",
       "    </tr>\n",
       "    <tr>\n",
       "      <th>2</th>\n",
       "      <td>C</td>\n",
       "      <td>3.0</td>\n",
       "    </tr>\n",
       "    <tr>\n",
       "      <th>3</th>\n",
       "      <td>D</td>\n",
       "      <td>4.0</td>\n",
       "    </tr>\n",
       "  </tbody>\n",
       "</table>\n",
       "</div>"
      ],
      "text/plain": [
       "  c1   c2\n",
       "0  A  1.0\n",
       "1  B  2.0\n",
       "2  C  3.0\n",
       "3  D  4.0"
      ]
     },
     "execution_count": 6,
     "metadata": {},
     "output_type": "execute_result"
    }
   ],
   "source": [
    "# A dataframe can be created using a dict of list \n",
    "d = {'c1': ['A','B','C','D'], 'c2': [1, 2.0, 3.0, 4.0]}\n",
    "df = pd.DataFrame(d)\n",
    "df"
   ]
  },
  {
   "cell_type": "markdown",
   "metadata": {},
   "source": [
    "### Panel\n",
    "A Panel is a data structure that handles 3D data"
   ]
  },
  {
   "cell_type": "code",
   "execution_count": 7,
   "metadata": {},
   "outputs": [],
   "source": [
    "d = {'Item1': pd.DataFrame(np.random.randn(4,3)), 'item2': pd.DataFrame(np.random.randn(4,2))}"
   ]
  },
  {
   "cell_type": "code",
   "execution_count": 8,
   "metadata": {},
   "outputs": [
    {
     "name": "stderr",
     "output_type": "stream",
     "text": [
      "/anaconda3/lib/python3.7/site-packages/IPython/core/interactiveshell.py:2961: FutureWarning: \n",
      "Panel is deprecated and will be removed in a future version.\n",
      "The recommended way to represent these types of 3-dimensional data are with a MultiIndex on a DataFrame, via the Panel.to_frame() method\n",
      "Alternatively, you can use the xarray package http://xarray.pydata.org/en/stable/.\n",
      "Pandas provides a `.to_xarray()` method to help automate this conversion.\n",
      "\n",
      "  exec(code_obj, self.user_global_ns, self.user_ns)\n"
     ]
    },
    {
     "data": {
      "text/plain": [
       "<class 'pandas.core.panel.Panel'>\n",
       "Dimensions: 2 (items) x 4 (major_axis) x 3 (minor_axis)\n",
       "Items axis: Item1 to item2\n",
       "Major_axis axis: 0 to 3\n",
       "Minor_axis axis: 0 to 2"
      ]
     },
     "execution_count": 8,
     "metadata": {},
     "output_type": "execute_result"
    }
   ],
   "source": [
    "pd.Panel(d)"
   ]
  },
  {
   "cell_type": "markdown",
   "metadata": {},
   "source": [
    "### Inserting and Exporting data"
   ]
  },
  {
   "cell_type": "code",
   "execution_count": 12,
   "metadata": {},
   "outputs": [
    {
     "data": {
      "text/plain": [
       "0    RAVENA COEYMANS SELKIRK CENTRAL SCHOOL DISTRICT\n",
       "1    RAVENA COEYMANS SELKIRK CENTRAL SCHOOL DISTRICT\n",
       "2    RAVENA COEYMANS SELKIRK CENTRAL SCHOOL DISTRICT\n",
       "3                        COHOES CITY SCHOOL DISTRICT\n",
       "4                        COHOES CITY SCHOOL DISTRICT\n",
       "Name: AREA NAME, dtype: object"
      ]
     },
     "execution_count": 12,
     "metadata": {},
     "output_type": "execute_result"
    }
   ],
   "source": [
    "d = pd.read_csv('data/Student_Weight_Status_Category_Reporting_Results__Beginning_2010.csv')\n",
    "d[0:5]['AREA NAME']"
   ]
  },
  {
   "cell_type": "code",
   "execution_count": 15,
   "metadata": {},
   "outputs": [],
   "source": [
    "d = {'c1': pd.Series(['A','B','C']), 'c2': pd.Series([1,2,3,4])}\n",
    "df = pd.DataFrame(d)\n",
    "df.to_csv('sample_data.csv')"
   ]
  },
  {
   "cell_type": "markdown",
   "metadata": {},
   "source": [
    "### Checking missing data"
   ]
  },
  {
   "cell_type": "code",
   "execution_count": 29,
   "metadata": {},
   "outputs": [
    {
     "data": {
      "text/plain": [
       "0       False\n",
       "1       False\n",
       "2       False\n",
       "3       False\n",
       "4       False\n",
       "5       False\n",
       "6       False\n",
       "7       False\n",
       "8       False\n",
       "9       False\n",
       "10      False\n",
       "11      False\n",
       "12      False\n",
       "13      False\n",
       "14      False\n",
       "15      False\n",
       "16      False\n",
       "17      False\n",
       "18      False\n",
       "19      False\n",
       "20      False\n",
       "21      False\n",
       "22      False\n",
       "23      False\n",
       "24      False\n",
       "25      False\n",
       "26      False\n",
       "27      False\n",
       "28      False\n",
       "29      False\n",
       "        ...  \n",
       "3240    False\n",
       "3241    False\n",
       "3242    False\n",
       "3243    False\n",
       "3244    False\n",
       "3245    False\n",
       "3246    False\n",
       "3247    False\n",
       "3248    False\n",
       "3249    False\n",
       "3250    False\n",
       "3251    False\n",
       "3252    False\n",
       "3253    False\n",
       "3254    False\n",
       "3255    False\n",
       "3256    False\n",
       "3257    False\n",
       "3258    False\n",
       "3259    False\n",
       "3260    False\n",
       "3261    False\n",
       "3262    False\n",
       "3263    False\n",
       "3264    False\n",
       "3265    False\n",
       "3266    False\n",
       "3267     True\n",
       "3268     True\n",
       "3269     True\n",
       "Name: Location 1, Length: 3270, dtype: bool"
      ]
     },
     "execution_count": 29,
     "metadata": {},
     "output_type": "execute_result"
    }
   ],
   "source": [
    "df = pd.read_csv('data/Student_Weight_Status_Category_Reporting_Results__Beginning_2010.csv')\n",
    "df['Location 1'].isnull()"
   ]
  },
  {
   "cell_type": "code",
   "execution_count": 30,
   "metadata": {},
   "outputs": [
    {
     "data": {
      "text/plain": [
       "False    3246\n",
       "True       24\n",
       "Name: Location 1, dtype: int64"
      ]
     },
     "execution_count": 30,
     "metadata": {},
     "output_type": "execute_result"
    }
   ],
   "source": [
    "df['Location 1'].isnull().value_counts()"
   ]
  },
  {
   "cell_type": "code",
   "execution_count": 32,
   "metadata": {},
   "outputs": [
    {
     "data": {
      "text/plain": [
       "0       15 MOUNTAIN RD\\nRAVENA, NY 12143\\n(42.47227638...\n",
       "1       15 MOUNTAIN RD\\nRAVENA, NY 12143\\n(42.47227638...\n",
       "2       15 MOUNTAIN RD\\nRAVENA, NY 12143\\n(42.47227638...\n",
       "3       7 BEVAN ST\\nCOHOES, NY 12047\\n(42.771285452000...\n",
       "4       7 BEVAN ST\\nCOHOES, NY 12047\\n(42.771285452000...\n",
       "5       7 BEVAN ST\\nCOHOES, NY 12047\\n(42.771285452000...\n",
       "6       102 LORALEE DR\\nALBANY, NY 12205\\n(42.73352407...\n",
       "7       102 LORALEE DR\\nALBANY, NY 12205\\n(42.73352407...\n",
       "8       102 LORALEE DR\\nALBANY, NY 12205\\n(42.73352407...\n",
       "9       91 FIDDLERS LN\\nLATHAM, NY 12110\\n(42.72935391...\n",
       "10      91 FIDDLERS LN\\nLATHAM, NY 12110\\n(42.72935391...\n",
       "11      91 FIDDLERS LN\\nLATHAM, NY 12110\\n(42.72935391...\n",
       "12      171 HUDSON AVE\\nGREEN ISLAND, NY 12183\\n(42.74...\n",
       "13      171 HUDSON AVE\\nGREEN ISLAND, NY 12183\\n(42.74...\n",
       "14      171 HUDSON AVE\\nGREEN ISLAND, NY 12183\\n(42.74...\n",
       "15      8 SCHOOL RD\\nGUILDERLAND CENTER, NY 12085\\n(42...\n",
       "16      8 SCHOOL RD\\nGUILDERLAND CENTER, NY 12085\\n(42...\n",
       "17      8 SCHOOL RD\\nGUILDERLAND CENTER, NY 12085\\n(42...\n",
       "18      6795 RT 21\\nALMOND, NY 14804\\n(42.295582036000...\n",
       "19      6795 RT 21\\nALMOND, NY 14804\\n(42.295582036000...\n",
       "20      6795 RT 21\\nALMOND, NY 14804\\n(42.295582036000...\n",
       "21      4-8 MAIN ST\\nCANASERAGA, NY 14822\\n(42.4613066...\n",
       "22      4-8 MAIN ST\\nCANASERAGA, NY 14822\\n(42.4613066...\n",
       "23      4-8 MAIN ST\\nCANASERAGA, NY 14822\\n(42.4613066...\n",
       "24      46 W MAIN ST\\nFRIENDSHIP, NY 14739\\n(42.206627...\n",
       "25      46 W MAIN ST\\nFRIENDSHIP, NY 14739\\n(42.206627...\n",
       "26      46 W MAIN ST\\nFRIENDSHIP, NY 14739\\n(42.206627...\n",
       "27      692 MAIN ST\\nWHITESVILLE, NY 14897\\n(42.038002...\n",
       "28      692 MAIN ST\\nWHITESVILLE, NY 14897\\n(42.038002...\n",
       "29      692 MAIN ST\\nWHITESVILLE, NY 14897\\n(42.038002...\n",
       "                              ...                        \n",
       "3237                                  (40.9354, -73.8995)\n",
       "3238                                  (40.9354, -73.8995)\n",
       "3239                                  (40.9354, -73.8995)\n",
       "3240                                  (41.3296, -73.8282)\n",
       "3241                                  (41.3296, -73.8282)\n",
       "3242                                  (41.3296, -73.8282)\n",
       "3243                                  (41.2948, -73.8023)\n",
       "3244                                  (41.2948, -73.8023)\n",
       "3245                                  (41.2948, -73.8023)\n",
       "3246                                  (42.8618, -78.2603)\n",
       "3247                                  (42.8618, -78.2603)\n",
       "3248                                  (42.8618, -78.2603)\n",
       "3249                                  (42.6301, -78.1154)\n",
       "3250                                  (42.6301, -78.1154)\n",
       "3251                                  (42.6301, -78.1154)\n",
       "3252                                  (42.8213, -78.0944)\n",
       "3253                                  (42.8213, -78.0944)\n",
       "3254                                  (42.8213, -78.0944)\n",
       "3255                                   (42.7236, -78.003)\n",
       "3256                                   (42.7236, -78.003)\n",
       "3257                                   (42.7236, -78.003)\n",
       "3258                                  (42.7403, -78.1382)\n",
       "3259                                  (42.7403, -78.1382)\n",
       "3260                                  (42.7403, -78.1382)\n",
       "3261                                   (42.6671, -77.063)\n",
       "3262                                   (42.6671, -77.063)\n",
       "3263                                   (42.6671, -77.063)\n",
       "3264                                  (42.5263, -76.9771)\n",
       "3265                                  (42.5263, -76.9771)\n",
       "3266                                  (42.5263, -76.9771)\n",
       "Name: Location 1, Length: 3246, dtype: object"
      ]
     },
     "execution_count": 32,
     "metadata": {},
     "output_type": "execute_result"
    }
   ],
   "source": [
    "# To remove the rows\n",
    "df['Location 1'].dropna()\n"
   ]
  },
  {
   "cell_type": "markdown",
   "metadata": {},
   "source": [
    "### Filling the missing data"
   ]
  },
  {
   "cell_type": "code",
   "execution_count": 34,
   "metadata": {},
   "outputs": [
    {
     "data": {
      "text/html": [
       "<div>\n",
       "<style scoped>\n",
       "    .dataframe tbody tr th:only-of-type {\n",
       "        vertical-align: middle;\n",
       "    }\n",
       "\n",
       "    .dataframe tbody tr th {\n",
       "        vertical-align: top;\n",
       "    }\n",
       "\n",
       "    .dataframe thead th {\n",
       "        text-align: right;\n",
       "    }\n",
       "</style>\n",
       "<table border=\"1\" class=\"dataframe\">\n",
       "  <thead>\n",
       "    <tr style=\"text-align: right;\">\n",
       "      <th></th>\n",
       "      <th>X</th>\n",
       "      <th>Y</th>\n",
       "      <th>Z</th>\n",
       "    </tr>\n",
       "  </thead>\n",
       "  <tbody>\n",
       "    <tr>\n",
       "      <th>a0</th>\n",
       "      <td>1.365116</td>\n",
       "      <td>-1.747360</td>\n",
       "      <td>-0.483754</td>\n",
       "    </tr>\n",
       "    <tr>\n",
       "      <th>a10</th>\n",
       "      <td>-1.153489</td>\n",
       "      <td>-0.682604</td>\n",
       "      <td>-2.445870</td>\n",
       "    </tr>\n",
       "    <tr>\n",
       "      <th>a20</th>\n",
       "      <td>-0.103668</td>\n",
       "      <td>0.758928</td>\n",
       "      <td>0.305022</td>\n",
       "    </tr>\n",
       "    <tr>\n",
       "      <th>a30</th>\n",
       "      <td>-0.106463</td>\n",
       "      <td>-0.519923</td>\n",
       "      <td>-0.121175</td>\n",
       "    </tr>\n",
       "    <tr>\n",
       "      <th>a40</th>\n",
       "      <td>-1.123002</td>\n",
       "      <td>0.926606</td>\n",
       "      <td>-0.393299</td>\n",
       "    </tr>\n",
       "  </tbody>\n",
       "</table>\n",
       "</div>"
      ],
      "text/plain": [
       "            X         Y         Z\n",
       "a0   1.365116 -1.747360 -0.483754\n",
       "a10 -1.153489 -0.682604 -2.445870\n",
       "a20 -0.103668  0.758928  0.305022\n",
       "a30 -0.106463 -0.519923 -0.121175\n",
       "a40 -1.123002  0.926606 -0.393299"
      ]
     },
     "execution_count": 34,
     "metadata": {},
     "output_type": "execute_result"
    }
   ],
   "source": [
    "df = pd.DataFrame(np.random.randn(5,3), index=['a0','a10','a20','a30','a40'], columns=['X','Y','Z'])\n",
    "df"
   ]
  },
  {
   "cell_type": "code",
   "execution_count": 36,
   "metadata": {},
   "outputs": [
    {
     "data": {
      "text/html": [
       "<div>\n",
       "<style scoped>\n",
       "    .dataframe tbody tr th:only-of-type {\n",
       "        vertical-align: middle;\n",
       "    }\n",
       "\n",
       "    .dataframe tbody tr th {\n",
       "        vertical-align: top;\n",
       "    }\n",
       "\n",
       "    .dataframe thead th {\n",
       "        text-align: right;\n",
       "    }\n",
       "</style>\n",
       "<table border=\"1\" class=\"dataframe\">\n",
       "  <thead>\n",
       "    <tr style=\"text-align: right;\">\n",
       "      <th></th>\n",
       "      <th>X</th>\n",
       "      <th>Y</th>\n",
       "      <th>Z</th>\n",
       "    </tr>\n",
       "  </thead>\n",
       "  <tbody>\n",
       "    <tr>\n",
       "      <th>a0</th>\n",
       "      <td>1.365116</td>\n",
       "      <td>-1.747360</td>\n",
       "      <td>-0.483754</td>\n",
       "    </tr>\n",
       "    <tr>\n",
       "      <th>a1</th>\n",
       "      <td>NaN</td>\n",
       "      <td>NaN</td>\n",
       "      <td>NaN</td>\n",
       "    </tr>\n",
       "    <tr>\n",
       "      <th>a10</th>\n",
       "      <td>-1.153489</td>\n",
       "      <td>-0.682604</td>\n",
       "      <td>-2.445870</td>\n",
       "    </tr>\n",
       "    <tr>\n",
       "      <th>a11</th>\n",
       "      <td>NaN</td>\n",
       "      <td>NaN</td>\n",
       "      <td>NaN</td>\n",
       "    </tr>\n",
       "    <tr>\n",
       "      <th>a20</th>\n",
       "      <td>-0.103668</td>\n",
       "      <td>0.758928</td>\n",
       "      <td>0.305022</td>\n",
       "    </tr>\n",
       "    <tr>\n",
       "      <th>a21</th>\n",
       "      <td>NaN</td>\n",
       "      <td>NaN</td>\n",
       "      <td>NaN</td>\n",
       "    </tr>\n",
       "    <tr>\n",
       "      <th>a30</th>\n",
       "      <td>-0.106463</td>\n",
       "      <td>-0.519923</td>\n",
       "      <td>-0.121175</td>\n",
       "    </tr>\n",
       "    <tr>\n",
       "      <th>a31</th>\n",
       "      <td>NaN</td>\n",
       "      <td>NaN</td>\n",
       "      <td>NaN</td>\n",
       "    </tr>\n",
       "    <tr>\n",
       "      <th>a40</th>\n",
       "      <td>-1.123002</td>\n",
       "      <td>0.926606</td>\n",
       "      <td>-0.393299</td>\n",
       "    </tr>\n",
       "    <tr>\n",
       "      <th>a41</th>\n",
       "      <td>NaN</td>\n",
       "      <td>NaN</td>\n",
       "      <td>NaN</td>\n",
       "    </tr>\n",
       "  </tbody>\n",
       "</table>\n",
       "</div>"
      ],
      "text/plain": [
       "            X         Y         Z\n",
       "a0   1.365116 -1.747360 -0.483754\n",
       "a1        NaN       NaN       NaN\n",
       "a10 -1.153489 -0.682604 -2.445870\n",
       "a11       NaN       NaN       NaN\n",
       "a20 -0.103668  0.758928  0.305022\n",
       "a21       NaN       NaN       NaN\n",
       "a30 -0.106463 -0.519923 -0.121175\n",
       "a31       NaN       NaN       NaN\n",
       "a40 -1.123002  0.926606 -0.393299\n",
       "a41       NaN       NaN       NaN"
      ]
     },
     "execution_count": 36,
     "metadata": {},
     "output_type": "execute_result"
    }
   ],
   "source": [
    "df2 = df.reindex(['a0','a1','a10','a11','a20','a21','a30','a31','a40','a41'])\n",
    "df2"
   ]
  },
  {
   "cell_type": "code",
   "execution_count": 41,
   "metadata": {},
   "outputs": [
    {
     "data": {
      "text/html": [
       "<div>\n",
       "<style scoped>\n",
       "    .dataframe tbody tr th:only-of-type {\n",
       "        vertical-align: middle;\n",
       "    }\n",
       "\n",
       "    .dataframe tbody tr th {\n",
       "        vertical-align: top;\n",
       "    }\n",
       "\n",
       "    .dataframe thead th {\n",
       "        text-align: right;\n",
       "    }\n",
       "</style>\n",
       "<table border=\"1\" class=\"dataframe\">\n",
       "  <thead>\n",
       "    <tr style=\"text-align: right;\">\n",
       "      <th></th>\n",
       "      <th>X</th>\n",
       "      <th>Y</th>\n",
       "      <th>Z</th>\n",
       "    </tr>\n",
       "  </thead>\n",
       "  <tbody>\n",
       "    <tr>\n",
       "      <th>a0</th>\n",
       "      <td>1.365116</td>\n",
       "      <td>-1.747360</td>\n",
       "      <td>-0.483754</td>\n",
       "    </tr>\n",
       "    <tr>\n",
       "      <th>a1</th>\n",
       "      <td>0.000000</td>\n",
       "      <td>0.000000</td>\n",
       "      <td>0.000000</td>\n",
       "    </tr>\n",
       "    <tr>\n",
       "      <th>a10</th>\n",
       "      <td>-1.153489</td>\n",
       "      <td>-0.682604</td>\n",
       "      <td>-2.445870</td>\n",
       "    </tr>\n",
       "    <tr>\n",
       "      <th>a11</th>\n",
       "      <td>0.000000</td>\n",
       "      <td>0.000000</td>\n",
       "      <td>0.000000</td>\n",
       "    </tr>\n",
       "    <tr>\n",
       "      <th>a20</th>\n",
       "      <td>-0.103668</td>\n",
       "      <td>0.758928</td>\n",
       "      <td>0.305022</td>\n",
       "    </tr>\n",
       "    <tr>\n",
       "      <th>a21</th>\n",
       "      <td>0.000000</td>\n",
       "      <td>0.000000</td>\n",
       "      <td>0.000000</td>\n",
       "    </tr>\n",
       "    <tr>\n",
       "      <th>a30</th>\n",
       "      <td>-0.106463</td>\n",
       "      <td>-0.519923</td>\n",
       "      <td>-0.121175</td>\n",
       "    </tr>\n",
       "    <tr>\n",
       "      <th>a31</th>\n",
       "      <td>0.000000</td>\n",
       "      <td>0.000000</td>\n",
       "      <td>0.000000</td>\n",
       "    </tr>\n",
       "    <tr>\n",
       "      <th>a40</th>\n",
       "      <td>-1.123002</td>\n",
       "      <td>0.926606</td>\n",
       "      <td>-0.393299</td>\n",
       "    </tr>\n",
       "    <tr>\n",
       "      <th>a41</th>\n",
       "      <td>0.000000</td>\n",
       "      <td>0.000000</td>\n",
       "      <td>0.000000</td>\n",
       "    </tr>\n",
       "  </tbody>\n",
       "</table>\n",
       "</div>"
      ],
      "text/plain": [
       "            X         Y         Z\n",
       "a0   1.365116 -1.747360 -0.483754\n",
       "a1   0.000000  0.000000  0.000000\n",
       "a10 -1.153489 -0.682604 -2.445870\n",
       "a11  0.000000  0.000000  0.000000\n",
       "a20 -0.103668  0.758928  0.305022\n",
       "a21  0.000000  0.000000  0.000000\n",
       "a30 -0.106463 -0.519923 -0.121175\n",
       "a31  0.000000  0.000000  0.000000\n",
       "a40 -1.123002  0.926606 -0.393299\n",
       "a41  0.000000  0.000000  0.000000"
      ]
     },
     "execution_count": 41,
     "metadata": {},
     "output_type": "execute_result"
    }
   ],
   "source": [
    "# Replace null values with zero\n",
    "df2.fillna(0)"
   ]
  },
  {
   "cell_type": "code",
   "execution_count": 43,
   "metadata": {},
   "outputs": [
    {
     "data": {
      "text/html": [
       "<div>\n",
       "<style scoped>\n",
       "    .dataframe tbody tr th:only-of-type {\n",
       "        vertical-align: middle;\n",
       "    }\n",
       "\n",
       "    .dataframe tbody tr th {\n",
       "        vertical-align: top;\n",
       "    }\n",
       "\n",
       "    .dataframe thead th {\n",
       "        text-align: right;\n",
       "    }\n",
       "</style>\n",
       "<table border=\"1\" class=\"dataframe\">\n",
       "  <thead>\n",
       "    <tr style=\"text-align: right;\">\n",
       "      <th></th>\n",
       "      <th>X</th>\n",
       "      <th>Y</th>\n",
       "      <th>Z</th>\n",
       "    </tr>\n",
       "  </thead>\n",
       "  <tbody>\n",
       "    <tr>\n",
       "      <th>a0</th>\n",
       "      <td>1.365116</td>\n",
       "      <td>-1.747360</td>\n",
       "      <td>-0.483754</td>\n",
       "    </tr>\n",
       "    <tr>\n",
       "      <th>a1</th>\n",
       "      <td>1.365116</td>\n",
       "      <td>-1.747360</td>\n",
       "      <td>-0.483754</td>\n",
       "    </tr>\n",
       "    <tr>\n",
       "      <th>a10</th>\n",
       "      <td>-1.153489</td>\n",
       "      <td>-0.682604</td>\n",
       "      <td>-2.445870</td>\n",
       "    </tr>\n",
       "    <tr>\n",
       "      <th>a11</th>\n",
       "      <td>-1.153489</td>\n",
       "      <td>-0.682604</td>\n",
       "      <td>-2.445870</td>\n",
       "    </tr>\n",
       "    <tr>\n",
       "      <th>a20</th>\n",
       "      <td>-0.103668</td>\n",
       "      <td>0.758928</td>\n",
       "      <td>0.305022</td>\n",
       "    </tr>\n",
       "    <tr>\n",
       "      <th>a21</th>\n",
       "      <td>-0.103668</td>\n",
       "      <td>0.758928</td>\n",
       "      <td>0.305022</td>\n",
       "    </tr>\n",
       "    <tr>\n",
       "      <th>a30</th>\n",
       "      <td>-0.106463</td>\n",
       "      <td>-0.519923</td>\n",
       "      <td>-0.121175</td>\n",
       "    </tr>\n",
       "    <tr>\n",
       "      <th>a31</th>\n",
       "      <td>-0.106463</td>\n",
       "      <td>-0.519923</td>\n",
       "      <td>-0.121175</td>\n",
       "    </tr>\n",
       "    <tr>\n",
       "      <th>a40</th>\n",
       "      <td>-1.123002</td>\n",
       "      <td>0.926606</td>\n",
       "      <td>-0.393299</td>\n",
       "    </tr>\n",
       "    <tr>\n",
       "      <th>a41</th>\n",
       "      <td>-1.123002</td>\n",
       "      <td>0.926606</td>\n",
       "      <td>-0.393299</td>\n",
       "    </tr>\n",
       "  </tbody>\n",
       "</table>\n",
       "</div>"
      ],
      "text/plain": [
       "            X         Y         Z\n",
       "a0   1.365116 -1.747360 -0.483754\n",
       "a1   1.365116 -1.747360 -0.483754\n",
       "a10 -1.153489 -0.682604 -2.445870\n",
       "a11 -1.153489 -0.682604 -2.445870\n",
       "a20 -0.103668  0.758928  0.305022\n",
       "a21 -0.103668  0.758928  0.305022\n",
       "a30 -0.106463 -0.519923 -0.121175\n",
       "a31 -0.106463 -0.519923 -0.121175\n",
       "a40 -1.123002  0.926606 -0.393299\n",
       "a41 -1.123002  0.926606 -0.393299"
      ]
     },
     "execution_count": 43,
     "metadata": {},
     "output_type": "execute_result"
    }
   ],
   "source": [
    "# fill with forward propagation, \n",
    "# which means that the value previous to the null value in the column will be used to fill the null value\n",
    "df2.fillna(method='pad')"
   ]
  },
  {
   "cell_type": "code",
   "execution_count": 44,
   "metadata": {},
   "outputs": [
    {
     "data": {
      "text/html": [
       "<div>\n",
       "<style scoped>\n",
       "    .dataframe tbody tr th:only-of-type {\n",
       "        vertical-align: middle;\n",
       "    }\n",
       "\n",
       "    .dataframe tbody tr th {\n",
       "        vertical-align: top;\n",
       "    }\n",
       "\n",
       "    .dataframe thead th {\n",
       "        text-align: right;\n",
       "    }\n",
       "</style>\n",
       "<table border=\"1\" class=\"dataframe\">\n",
       "  <thead>\n",
       "    <tr style=\"text-align: right;\">\n",
       "      <th></th>\n",
       "      <th>X</th>\n",
       "      <th>Y</th>\n",
       "      <th>Z</th>\n",
       "    </tr>\n",
       "  </thead>\n",
       "  <tbody>\n",
       "    <tr>\n",
       "      <th>a0</th>\n",
       "      <td>1.365116</td>\n",
       "      <td>-1.747360</td>\n",
       "      <td>-0.483754</td>\n",
       "    </tr>\n",
       "    <tr>\n",
       "      <th>a1</th>\n",
       "      <td>-0.224301</td>\n",
       "      <td>-0.252870</td>\n",
       "      <td>-0.627815</td>\n",
       "    </tr>\n",
       "    <tr>\n",
       "      <th>a10</th>\n",
       "      <td>-1.153489</td>\n",
       "      <td>-0.682604</td>\n",
       "      <td>-2.445870</td>\n",
       "    </tr>\n",
       "    <tr>\n",
       "      <th>a11</th>\n",
       "      <td>-0.224301</td>\n",
       "      <td>-0.252870</td>\n",
       "      <td>-0.627815</td>\n",
       "    </tr>\n",
       "    <tr>\n",
       "      <th>a20</th>\n",
       "      <td>-0.103668</td>\n",
       "      <td>0.758928</td>\n",
       "      <td>0.305022</td>\n",
       "    </tr>\n",
       "    <tr>\n",
       "      <th>a21</th>\n",
       "      <td>-0.224301</td>\n",
       "      <td>-0.252870</td>\n",
       "      <td>-0.627815</td>\n",
       "    </tr>\n",
       "    <tr>\n",
       "      <th>a30</th>\n",
       "      <td>-0.106463</td>\n",
       "      <td>-0.519923</td>\n",
       "      <td>-0.121175</td>\n",
       "    </tr>\n",
       "    <tr>\n",
       "      <th>a31</th>\n",
       "      <td>-0.224301</td>\n",
       "      <td>-0.252870</td>\n",
       "      <td>-0.627815</td>\n",
       "    </tr>\n",
       "    <tr>\n",
       "      <th>a40</th>\n",
       "      <td>-1.123002</td>\n",
       "      <td>0.926606</td>\n",
       "      <td>-0.393299</td>\n",
       "    </tr>\n",
       "    <tr>\n",
       "      <th>a41</th>\n",
       "      <td>-0.224301</td>\n",
       "      <td>-0.252870</td>\n",
       "      <td>-0.627815</td>\n",
       "    </tr>\n",
       "  </tbody>\n",
       "</table>\n",
       "</div>"
      ],
      "text/plain": [
       "            X         Y         Z\n",
       "a0   1.365116 -1.747360 -0.483754\n",
       "a1  -0.224301 -0.252870 -0.627815\n",
       "a10 -1.153489 -0.682604 -2.445870\n",
       "a11 -0.224301 -0.252870 -0.627815\n",
       "a20 -0.103668  0.758928  0.305022\n",
       "a21 -0.224301 -0.252870 -0.627815\n",
       "a30 -0.106463 -0.519923 -0.121175\n",
       "a31 -0.224301 -0.252870 -0.627815\n",
       "a40 -1.123002  0.926606 -0.393299\n",
       "a41 -0.224301 -0.252870 -0.627815"
      ]
     },
     "execution_count": 44,
     "metadata": {},
     "output_type": "execute_result"
    }
   ],
   "source": [
    "# fill with column mean\n",
    "df2.fillna(df2.mean())"
   ]
  },
  {
   "cell_type": "code",
   "execution_count": null,
   "metadata": {},
   "outputs": [],
   "source": []
  },
  {
   "cell_type": "code",
   "execution_count": null,
   "metadata": {},
   "outputs": [],
   "source": []
  },
  {
   "cell_type": "code",
   "execution_count": null,
   "metadata": {},
   "outputs": [],
   "source": []
  },
  {
   "cell_type": "code",
   "execution_count": null,
   "metadata": {},
   "outputs": [],
   "source": []
  },
  {
   "cell_type": "code",
   "execution_count": null,
   "metadata": {},
   "outputs": [],
   "source": []
  },
  {
   "cell_type": "code",
   "execution_count": null,
   "metadata": {},
   "outputs": [],
   "source": []
  }
 ],
 "metadata": {
  "kernelspec": {
   "display_name": "Python 3",
   "language": "python",
   "name": "python3"
  },
  "language_info": {
   "codemirror_mode": {
    "name": "ipython",
    "version": 3
   },
   "file_extension": ".py",
   "mimetype": "text/x-python",
   "name": "python",
   "nbconvert_exporter": "python",
   "pygments_lexer": "ipython3",
   "version": "3.7.0"
  }
 },
 "nbformat": 4,
 "nbformat_minor": 2
}
