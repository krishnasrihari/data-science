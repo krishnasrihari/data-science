{
 "cells": [
  {
   "cell_type": "markdown",
   "metadata": {},
   "source": [
    "# Pushing the boundaries with Ensemble Models"
   ]
  },
  {
   "cell_type": "code",
   "execution_count": 70,
   "metadata": {
    "collapsed": false
   },
   "outputs": [],
   "source": [
    "%matplotlib inline\n",
    "import numpy as np\n",
    "import pandas as pd\n",
    "import matplotlib.pyplot as plt\n",
    "from patsy import dmatrices\n",
    "from sklearn import tree\n",
    "from sklearn.externals.six import StringIO  \n",
    "from sklearn import linear_model,cross_validation"
   ]
  },
  {
   "cell_type": "markdown",
   "metadata": {},
   "source": [
    "Random forest is a non parametric modeling technique where multiple decision trees are created during the training time and then the result of these decision trees are averaged to give the required output.\n",
    "\n",
    "An analogy would be to guess the number pebbles in a glass jar. There are group of people who are trying to guess the number of people pebbles in the jar. Individually each person  would be very wrong in guessing the number of pebbles in the glass jar but when you average each of their guesses, the resulting averaged guess would be pretty close to the actual number of pebbles in the glass jar.\n"
   ]
  },
  {
   "cell_type": "markdown",
   "metadata": {},
   "source": [
    "## Census Income Dataset"
   ]
  },
  {
   "cell_type": "markdown",
   "metadata": {},
   "source": [
    "The following dataset by University of California, Irvine on the census data of the income\n",
    "\n",
    "<table>\n",
    "<tr>\n",
    "    <th>Columns</th>\n",
    "    <th>Descriptions</th>\n",
    "</tr>\n",
    "<tr>\n",
    "    <td>age</td>\n",
    "    <td> Age of the Person</td>\n",
    "</tr>\n",
    "<tr>\n",
    "    <td>workclass</td>\n",
    "    <td>The type of employment of the person</td>\n",
    "</tr>\n",
    "<tr>\n",
    "    <td>education</td>\n",
    "    <td>Education level of the person</td>\n",
    "</tr>\n",
    "<tr>\n",
    "    <td>marital_status</td>\n",
    "    <td>If the person if married or not</td>\n",
    "</tr>\n",
    "<tr>\n",
    "    <td>Occupation</td>\n",
    "    <td>What type of jobs does the person do</td>\n",
    "</tr>\n",
    "<tr>\n",
    "    <td>relationship</td>\n",
    "    <td>Type of relationship of the person</td>\n",
    "</tr>\n",
    "<tr>\n",
    "    <td>race</td>\n",
    "    <td>Ethinicity of the person</td>\n",
    "</tr>\n",
    "<tr>\n",
    "    <td>gender</td>\n",
    "    <td>Gender of the person </td>\n",
    "</tr>\n",
    "<tr>\n",
    "    <td>hours_per_week</td>\n",
    "    <td>Average hours worked per week</td>\n",
    "</tr>\n",
    "<tr>\n",
    "    <td>native_country</td>\n",
    "    <td>Country of origin</td>\n",
    "</tr>\n",
    "<tr>\n",
    "    <td>greater_than_50k</td>\n",
    "    <td>Flag which indicates if the person is earning more than 50K dollars in a year</td>\n",
    "</tr>\n",
    "</table>"
   ]
  },
  {
   "cell_type": "markdown",
   "metadata": {},
   "source": [
    "Let's load the data"
   ]
  },
  {
   "cell_type": "code",
   "execution_count": 9,
   "metadata": {
    "collapsed": false
   },
   "outputs": [
    {
     "data": {
      "text/html": [
       "<div>\n",
       "<table border=\"1\" class=\"dataframe\">\n",
       "  <thead>\n",
       "    <tr style=\"text-align: right;\">\n",
       "      <th></th>\n",
       "      <th>age</th>\n",
       "      <th>workclass</th>\n",
       "      <th>education</th>\n",
       "      <th>education_num</th>\n",
       "      <th>marital_status</th>\n",
       "      <th>occupation</th>\n",
       "      <th>relationship</th>\n",
       "      <th>race</th>\n",
       "      <th>gender</th>\n",
       "      <th>capital_gain</th>\n",
       "      <th>capital_loss</th>\n",
       "      <th>hours_per_week</th>\n",
       "      <th>native_country</th>\n",
       "      <th>greater_than_50k</th>\n",
       "    </tr>\n",
       "  </thead>\n",
       "  <tbody>\n",
       "    <tr>\n",
       "      <th>0</th>\n",
       "      <td>39</td>\n",
       "      <td>State-gov</td>\n",
       "      <td>Bachelors</td>\n",
       "      <td>13</td>\n",
       "      <td>Never-married</td>\n",
       "      <td>Adm-clerical</td>\n",
       "      <td>Not-in-family</td>\n",
       "      <td>White</td>\n",
       "      <td>Male</td>\n",
       "      <td>2174</td>\n",
       "      <td>0</td>\n",
       "      <td>40</td>\n",
       "      <td>United-States</td>\n",
       "      <td>0</td>\n",
       "    </tr>\n",
       "    <tr>\n",
       "      <th>1</th>\n",
       "      <td>50</td>\n",
       "      <td>Self-emp-not-inc</td>\n",
       "      <td>Bachelors</td>\n",
       "      <td>13</td>\n",
       "      <td>Married-civ-spouse</td>\n",
       "      <td>Exec-managerial</td>\n",
       "      <td>Husband</td>\n",
       "      <td>White</td>\n",
       "      <td>Male</td>\n",
       "      <td>0</td>\n",
       "      <td>0</td>\n",
       "      <td>13</td>\n",
       "      <td>United-States</td>\n",
       "      <td>0</td>\n",
       "    </tr>\n",
       "    <tr>\n",
       "      <th>2</th>\n",
       "      <td>38</td>\n",
       "      <td>Private</td>\n",
       "      <td>HS-grad</td>\n",
       "      <td>9</td>\n",
       "      <td>Divorced</td>\n",
       "      <td>Handlers-cleaners</td>\n",
       "      <td>Not-in-family</td>\n",
       "      <td>White</td>\n",
       "      <td>Male</td>\n",
       "      <td>0</td>\n",
       "      <td>0</td>\n",
       "      <td>40</td>\n",
       "      <td>United-States</td>\n",
       "      <td>0</td>\n",
       "    </tr>\n",
       "    <tr>\n",
       "      <th>3</th>\n",
       "      <td>53</td>\n",
       "      <td>Private</td>\n",
       "      <td>11th</td>\n",
       "      <td>7</td>\n",
       "      <td>Married-civ-spouse</td>\n",
       "      <td>Handlers-cleaners</td>\n",
       "      <td>Husband</td>\n",
       "      <td>Black</td>\n",
       "      <td>Male</td>\n",
       "      <td>0</td>\n",
       "      <td>0</td>\n",
       "      <td>40</td>\n",
       "      <td>United-States</td>\n",
       "      <td>0</td>\n",
       "    </tr>\n",
       "    <tr>\n",
       "      <th>4</th>\n",
       "      <td>28</td>\n",
       "      <td>Private</td>\n",
       "      <td>Bachelors</td>\n",
       "      <td>13</td>\n",
       "      <td>Married-civ-spouse</td>\n",
       "      <td>Prof-specialty</td>\n",
       "      <td>Wife</td>\n",
       "      <td>Black</td>\n",
       "      <td>Female</td>\n",
       "      <td>0</td>\n",
       "      <td>0</td>\n",
       "      <td>40</td>\n",
       "      <td>Cuba</td>\n",
       "      <td>0</td>\n",
       "    </tr>\n",
       "    <tr>\n",
       "      <th>5</th>\n",
       "      <td>37</td>\n",
       "      <td>Private</td>\n",
       "      <td>Masters</td>\n",
       "      <td>14</td>\n",
       "      <td>Married-civ-spouse</td>\n",
       "      <td>Exec-managerial</td>\n",
       "      <td>Wife</td>\n",
       "      <td>White</td>\n",
       "      <td>Female</td>\n",
       "      <td>0</td>\n",
       "      <td>0</td>\n",
       "      <td>40</td>\n",
       "      <td>United-States</td>\n",
       "      <td>0</td>\n",
       "    </tr>\n",
       "    <tr>\n",
       "      <th>6</th>\n",
       "      <td>49</td>\n",
       "      <td>Private</td>\n",
       "      <td>9th</td>\n",
       "      <td>5</td>\n",
       "      <td>Married-spouse-absent</td>\n",
       "      <td>Other-service</td>\n",
       "      <td>Not-in-family</td>\n",
       "      <td>Black</td>\n",
       "      <td>Female</td>\n",
       "      <td>0</td>\n",
       "      <td>0</td>\n",
       "      <td>16</td>\n",
       "      <td>Jamaica</td>\n",
       "      <td>0</td>\n",
       "    </tr>\n",
       "    <tr>\n",
       "      <th>7</th>\n",
       "      <td>52</td>\n",
       "      <td>Self-emp-not-inc</td>\n",
       "      <td>HS-grad</td>\n",
       "      <td>9</td>\n",
       "      <td>Married-civ-spouse</td>\n",
       "      <td>Exec-managerial</td>\n",
       "      <td>Husband</td>\n",
       "      <td>White</td>\n",
       "      <td>Male</td>\n",
       "      <td>0</td>\n",
       "      <td>0</td>\n",
       "      <td>45</td>\n",
       "      <td>United-States</td>\n",
       "      <td>1</td>\n",
       "    </tr>\n",
       "    <tr>\n",
       "      <th>8</th>\n",
       "      <td>31</td>\n",
       "      <td>Private</td>\n",
       "      <td>Masters</td>\n",
       "      <td>14</td>\n",
       "      <td>Never-married</td>\n",
       "      <td>Prof-specialty</td>\n",
       "      <td>Not-in-family</td>\n",
       "      <td>White</td>\n",
       "      <td>Female</td>\n",
       "      <td>14084</td>\n",
       "      <td>0</td>\n",
       "      <td>50</td>\n",
       "      <td>United-States</td>\n",
       "      <td>1</td>\n",
       "    </tr>\n",
       "    <tr>\n",
       "      <th>9</th>\n",
       "      <td>42</td>\n",
       "      <td>Private</td>\n",
       "      <td>Bachelors</td>\n",
       "      <td>13</td>\n",
       "      <td>Married-civ-spouse</td>\n",
       "      <td>Exec-managerial</td>\n",
       "      <td>Husband</td>\n",
       "      <td>White</td>\n",
       "      <td>Male</td>\n",
       "      <td>5178</td>\n",
       "      <td>0</td>\n",
       "      <td>40</td>\n",
       "      <td>United-States</td>\n",
       "      <td>1</td>\n",
       "    </tr>\n",
       "    <tr>\n",
       "      <th>10</th>\n",
       "      <td>37</td>\n",
       "      <td>Private</td>\n",
       "      <td>Some-college</td>\n",
       "      <td>10</td>\n",
       "      <td>Married-civ-spouse</td>\n",
       "      <td>Exec-managerial</td>\n",
       "      <td>Husband</td>\n",
       "      <td>Black</td>\n",
       "      <td>Male</td>\n",
       "      <td>0</td>\n",
       "      <td>0</td>\n",
       "      <td>80</td>\n",
       "      <td>United-States</td>\n",
       "      <td>1</td>\n",
       "    </tr>\n",
       "    <tr>\n",
       "      <th>11</th>\n",
       "      <td>30</td>\n",
       "      <td>State-gov</td>\n",
       "      <td>Bachelors</td>\n",
       "      <td>13</td>\n",
       "      <td>Married-civ-spouse</td>\n",
       "      <td>Prof-specialty</td>\n",
       "      <td>Husband</td>\n",
       "      <td>Asian-Pac-Islander</td>\n",
       "      <td>Male</td>\n",
       "      <td>0</td>\n",
       "      <td>0</td>\n",
       "      <td>40</td>\n",
       "      <td>India</td>\n",
       "      <td>1</td>\n",
       "    </tr>\n",
       "    <tr>\n",
       "      <th>12</th>\n",
       "      <td>23</td>\n",
       "      <td>Private</td>\n",
       "      <td>Bachelors</td>\n",
       "      <td>13</td>\n",
       "      <td>Never-married</td>\n",
       "      <td>Adm-clerical</td>\n",
       "      <td>Own-child</td>\n",
       "      <td>White</td>\n",
       "      <td>Female</td>\n",
       "      <td>0</td>\n",
       "      <td>0</td>\n",
       "      <td>30</td>\n",
       "      <td>United-States</td>\n",
       "      <td>0</td>\n",
       "    </tr>\n",
       "    <tr>\n",
       "      <th>13</th>\n",
       "      <td>32</td>\n",
       "      <td>Private</td>\n",
       "      <td>Assoc-acdm</td>\n",
       "      <td>12</td>\n",
       "      <td>Never-married</td>\n",
       "      <td>Sales</td>\n",
       "      <td>Not-in-family</td>\n",
       "      <td>Black</td>\n",
       "      <td>Male</td>\n",
       "      <td>0</td>\n",
       "      <td>0</td>\n",
       "      <td>50</td>\n",
       "      <td>United-States</td>\n",
       "      <td>0</td>\n",
       "    </tr>\n",
       "    <tr>\n",
       "      <th>14</th>\n",
       "      <td>40</td>\n",
       "      <td>Private</td>\n",
       "      <td>Assoc-voc</td>\n",
       "      <td>11</td>\n",
       "      <td>Married-civ-spouse</td>\n",
       "      <td>Craft-repair</td>\n",
       "      <td>Husband</td>\n",
       "      <td>Asian-Pac-Islander</td>\n",
       "      <td>Male</td>\n",
       "      <td>0</td>\n",
       "      <td>0</td>\n",
       "      <td>40</td>\n",
       "      <td>NaN</td>\n",
       "      <td>1</td>\n",
       "    </tr>\n",
       "    <tr>\n",
       "      <th>15</th>\n",
       "      <td>34</td>\n",
       "      <td>Private</td>\n",
       "      <td>7th-8th</td>\n",
       "      <td>4</td>\n",
       "      <td>Married-civ-spouse</td>\n",
       "      <td>Transport-moving</td>\n",
       "      <td>Husband</td>\n",
       "      <td>Amer-Indian-Eskimo</td>\n",
       "      <td>Male</td>\n",
       "      <td>0</td>\n",
       "      <td>0</td>\n",
       "      <td>45</td>\n",
       "      <td>Mexico</td>\n",
       "      <td>0</td>\n",
       "    </tr>\n",
       "    <tr>\n",
       "      <th>16</th>\n",
       "      <td>25</td>\n",
       "      <td>Self-emp-not-inc</td>\n",
       "      <td>HS-grad</td>\n",
       "      <td>9</td>\n",
       "      <td>Never-married</td>\n",
       "      <td>Farming-fishing</td>\n",
       "      <td>Own-child</td>\n",
       "      <td>White</td>\n",
       "      <td>Male</td>\n",
       "      <td>0</td>\n",
       "      <td>0</td>\n",
       "      <td>35</td>\n",
       "      <td>United-States</td>\n",
       "      <td>0</td>\n",
       "    </tr>\n",
       "    <tr>\n",
       "      <th>17</th>\n",
       "      <td>32</td>\n",
       "      <td>Private</td>\n",
       "      <td>HS-grad</td>\n",
       "      <td>9</td>\n",
       "      <td>Never-married</td>\n",
       "      <td>Machine-op-inspct</td>\n",
       "      <td>Unmarried</td>\n",
       "      <td>White</td>\n",
       "      <td>Male</td>\n",
       "      <td>0</td>\n",
       "      <td>0</td>\n",
       "      <td>40</td>\n",
       "      <td>United-States</td>\n",
       "      <td>0</td>\n",
       "    </tr>\n",
       "    <tr>\n",
       "      <th>18</th>\n",
       "      <td>38</td>\n",
       "      <td>Private</td>\n",
       "      <td>11th</td>\n",
       "      <td>7</td>\n",
       "      <td>Married-civ-spouse</td>\n",
       "      <td>Sales</td>\n",
       "      <td>Husband</td>\n",
       "      <td>White</td>\n",
       "      <td>Male</td>\n",
       "      <td>0</td>\n",
       "      <td>0</td>\n",
       "      <td>50</td>\n",
       "      <td>United-States</td>\n",
       "      <td>0</td>\n",
       "    </tr>\n",
       "    <tr>\n",
       "      <th>19</th>\n",
       "      <td>43</td>\n",
       "      <td>Self-emp-not-inc</td>\n",
       "      <td>Masters</td>\n",
       "      <td>14</td>\n",
       "      <td>Divorced</td>\n",
       "      <td>Exec-managerial</td>\n",
       "      <td>Unmarried</td>\n",
       "      <td>White</td>\n",
       "      <td>Female</td>\n",
       "      <td>0</td>\n",
       "      <td>0</td>\n",
       "      <td>45</td>\n",
       "      <td>United-States</td>\n",
       "      <td>1</td>\n",
       "    </tr>\n",
       "    <tr>\n",
       "      <th>20</th>\n",
       "      <td>40</td>\n",
       "      <td>Private</td>\n",
       "      <td>Doctorate</td>\n",
       "      <td>16</td>\n",
       "      <td>Married-civ-spouse</td>\n",
       "      <td>Prof-specialty</td>\n",
       "      <td>Husband</td>\n",
       "      <td>White</td>\n",
       "      <td>Male</td>\n",
       "      <td>0</td>\n",
       "      <td>0</td>\n",
       "      <td>60</td>\n",
       "      <td>United-States</td>\n",
       "      <td>1</td>\n",
       "    </tr>\n",
       "    <tr>\n",
       "      <th>21</th>\n",
       "      <td>54</td>\n",
       "      <td>Private</td>\n",
       "      <td>HS-grad</td>\n",
       "      <td>9</td>\n",
       "      <td>Separated</td>\n",
       "      <td>Other-service</td>\n",
       "      <td>Unmarried</td>\n",
       "      <td>Black</td>\n",
       "      <td>Female</td>\n",
       "      <td>0</td>\n",
       "      <td>0</td>\n",
       "      <td>20</td>\n",
       "      <td>United-States</td>\n",
       "      <td>0</td>\n",
       "    </tr>\n",
       "    <tr>\n",
       "      <th>22</th>\n",
       "      <td>35</td>\n",
       "      <td>Federal-gov</td>\n",
       "      <td>9th</td>\n",
       "      <td>5</td>\n",
       "      <td>Married-civ-spouse</td>\n",
       "      <td>Farming-fishing</td>\n",
       "      <td>Husband</td>\n",
       "      <td>Black</td>\n",
       "      <td>Male</td>\n",
       "      <td>0</td>\n",
       "      <td>0</td>\n",
       "      <td>40</td>\n",
       "      <td>United-States</td>\n",
       "      <td>0</td>\n",
       "    </tr>\n",
       "    <tr>\n",
       "      <th>23</th>\n",
       "      <td>43</td>\n",
       "      <td>Private</td>\n",
       "      <td>11th</td>\n",
       "      <td>7</td>\n",
       "      <td>Married-civ-spouse</td>\n",
       "      <td>Transport-moving</td>\n",
       "      <td>Husband</td>\n",
       "      <td>White</td>\n",
       "      <td>Male</td>\n",
       "      <td>0</td>\n",
       "      <td>2042</td>\n",
       "      <td>40</td>\n",
       "      <td>United-States</td>\n",
       "      <td>0</td>\n",
       "    </tr>\n",
       "    <tr>\n",
       "      <th>24</th>\n",
       "      <td>59</td>\n",
       "      <td>Private</td>\n",
       "      <td>HS-grad</td>\n",
       "      <td>9</td>\n",
       "      <td>Divorced</td>\n",
       "      <td>Tech-support</td>\n",
       "      <td>Unmarried</td>\n",
       "      <td>White</td>\n",
       "      <td>Female</td>\n",
       "      <td>0</td>\n",
       "      <td>0</td>\n",
       "      <td>40</td>\n",
       "      <td>United-States</td>\n",
       "      <td>0</td>\n",
       "    </tr>\n",
       "    <tr>\n",
       "      <th>25</th>\n",
       "      <td>56</td>\n",
       "      <td>Local-gov</td>\n",
       "      <td>Bachelors</td>\n",
       "      <td>13</td>\n",
       "      <td>Married-civ-spouse</td>\n",
       "      <td>Tech-support</td>\n",
       "      <td>Husband</td>\n",
       "      <td>White</td>\n",
       "      <td>Male</td>\n",
       "      <td>0</td>\n",
       "      <td>0</td>\n",
       "      <td>40</td>\n",
       "      <td>United-States</td>\n",
       "      <td>1</td>\n",
       "    </tr>\n",
       "    <tr>\n",
       "      <th>26</th>\n",
       "      <td>19</td>\n",
       "      <td>Private</td>\n",
       "      <td>HS-grad</td>\n",
       "      <td>9</td>\n",
       "      <td>Never-married</td>\n",
       "      <td>Craft-repair</td>\n",
       "      <td>Own-child</td>\n",
       "      <td>White</td>\n",
       "      <td>Male</td>\n",
       "      <td>0</td>\n",
       "      <td>0</td>\n",
       "      <td>40</td>\n",
       "      <td>United-States</td>\n",
       "      <td>0</td>\n",
       "    </tr>\n",
       "    <tr>\n",
       "      <th>27</th>\n",
       "      <td>54</td>\n",
       "      <td>NaN</td>\n",
       "      <td>Some-college</td>\n",
       "      <td>10</td>\n",
       "      <td>Married-civ-spouse</td>\n",
       "      <td>NaN</td>\n",
       "      <td>Husband</td>\n",
       "      <td>Asian-Pac-Islander</td>\n",
       "      <td>Male</td>\n",
       "      <td>0</td>\n",
       "      <td>0</td>\n",
       "      <td>60</td>\n",
       "      <td>South</td>\n",
       "      <td>1</td>\n",
       "    </tr>\n",
       "    <tr>\n",
       "      <th>28</th>\n",
       "      <td>39</td>\n",
       "      <td>Private</td>\n",
       "      <td>HS-grad</td>\n",
       "      <td>9</td>\n",
       "      <td>Divorced</td>\n",
       "      <td>Exec-managerial</td>\n",
       "      <td>Not-in-family</td>\n",
       "      <td>White</td>\n",
       "      <td>Male</td>\n",
       "      <td>0</td>\n",
       "      <td>0</td>\n",
       "      <td>80</td>\n",
       "      <td>United-States</td>\n",
       "      <td>0</td>\n",
       "    </tr>\n",
       "    <tr>\n",
       "      <th>29</th>\n",
       "      <td>49</td>\n",
       "      <td>Private</td>\n",
       "      <td>HS-grad</td>\n",
       "      <td>9</td>\n",
       "      <td>Married-civ-spouse</td>\n",
       "      <td>Craft-repair</td>\n",
       "      <td>Husband</td>\n",
       "      <td>White</td>\n",
       "      <td>Male</td>\n",
       "      <td>0</td>\n",
       "      <td>0</td>\n",
       "      <td>40</td>\n",
       "      <td>United-States</td>\n",
       "      <td>0</td>\n",
       "    </tr>\n",
       "    <tr>\n",
       "      <th>...</th>\n",
       "      <td>...</td>\n",
       "      <td>...</td>\n",
       "      <td>...</td>\n",
       "      <td>...</td>\n",
       "      <td>...</td>\n",
       "      <td>...</td>\n",
       "      <td>...</td>\n",
       "      <td>...</td>\n",
       "      <td>...</td>\n",
       "      <td>...</td>\n",
       "      <td>...</td>\n",
       "      <td>...</td>\n",
       "      <td>...</td>\n",
       "      <td>...</td>\n",
       "    </tr>\n",
       "    <tr>\n",
       "      <th>32530</th>\n",
       "      <td>30</td>\n",
       "      <td>NaN</td>\n",
       "      <td>Bachelors</td>\n",
       "      <td>13</td>\n",
       "      <td>Never-married</td>\n",
       "      <td>NaN</td>\n",
       "      <td>Not-in-family</td>\n",
       "      <td>Asian-Pac-Islander</td>\n",
       "      <td>Female</td>\n",
       "      <td>0</td>\n",
       "      <td>0</td>\n",
       "      <td>99</td>\n",
       "      <td>United-States</td>\n",
       "      <td>0</td>\n",
       "    </tr>\n",
       "    <tr>\n",
       "      <th>32531</th>\n",
       "      <td>34</td>\n",
       "      <td>Private</td>\n",
       "      <td>Doctorate</td>\n",
       "      <td>16</td>\n",
       "      <td>Married-civ-spouse</td>\n",
       "      <td>Prof-specialty</td>\n",
       "      <td>Husband</td>\n",
       "      <td>White</td>\n",
       "      <td>Male</td>\n",
       "      <td>0</td>\n",
       "      <td>0</td>\n",
       "      <td>60</td>\n",
       "      <td>United-States</td>\n",
       "      <td>1</td>\n",
       "    </tr>\n",
       "    <tr>\n",
       "      <th>32532</th>\n",
       "      <td>54</td>\n",
       "      <td>Private</td>\n",
       "      <td>Bachelors</td>\n",
       "      <td>13</td>\n",
       "      <td>Married-civ-spouse</td>\n",
       "      <td>Exec-managerial</td>\n",
       "      <td>Husband</td>\n",
       "      <td>Asian-Pac-Islander</td>\n",
       "      <td>Male</td>\n",
       "      <td>0</td>\n",
       "      <td>0</td>\n",
       "      <td>50</td>\n",
       "      <td>Japan</td>\n",
       "      <td>1</td>\n",
       "    </tr>\n",
       "    <tr>\n",
       "      <th>32533</th>\n",
       "      <td>37</td>\n",
       "      <td>Private</td>\n",
       "      <td>Some-college</td>\n",
       "      <td>10</td>\n",
       "      <td>Divorced</td>\n",
       "      <td>Adm-clerical</td>\n",
       "      <td>Unmarried</td>\n",
       "      <td>White</td>\n",
       "      <td>Female</td>\n",
       "      <td>0</td>\n",
       "      <td>0</td>\n",
       "      <td>39</td>\n",
       "      <td>United-States</td>\n",
       "      <td>0</td>\n",
       "    </tr>\n",
       "    <tr>\n",
       "      <th>32534</th>\n",
       "      <td>22</td>\n",
       "      <td>Private</td>\n",
       "      <td>12th</td>\n",
       "      <td>8</td>\n",
       "      <td>Never-married</td>\n",
       "      <td>Protective-serv</td>\n",
       "      <td>Own-child</td>\n",
       "      <td>Black</td>\n",
       "      <td>Male</td>\n",
       "      <td>0</td>\n",
       "      <td>0</td>\n",
       "      <td>35</td>\n",
       "      <td>United-States</td>\n",
       "      <td>0</td>\n",
       "    </tr>\n",
       "    <tr>\n",
       "      <th>32535</th>\n",
       "      <td>34</td>\n",
       "      <td>Private</td>\n",
       "      <td>Bachelors</td>\n",
       "      <td>13</td>\n",
       "      <td>Never-married</td>\n",
       "      <td>Exec-managerial</td>\n",
       "      <td>Not-in-family</td>\n",
       "      <td>White</td>\n",
       "      <td>Female</td>\n",
       "      <td>0</td>\n",
       "      <td>0</td>\n",
       "      <td>55</td>\n",
       "      <td>United-States</td>\n",
       "      <td>1</td>\n",
       "    </tr>\n",
       "    <tr>\n",
       "      <th>32536</th>\n",
       "      <td>30</td>\n",
       "      <td>Private</td>\n",
       "      <td>HS-grad</td>\n",
       "      <td>9</td>\n",
       "      <td>Never-married</td>\n",
       "      <td>Craft-repair</td>\n",
       "      <td>Not-in-family</td>\n",
       "      <td>Black</td>\n",
       "      <td>Male</td>\n",
       "      <td>0</td>\n",
       "      <td>0</td>\n",
       "      <td>46</td>\n",
       "      <td>United-States</td>\n",
       "      <td>0</td>\n",
       "    </tr>\n",
       "    <tr>\n",
       "      <th>32537</th>\n",
       "      <td>38</td>\n",
       "      <td>Private</td>\n",
       "      <td>Bachelors</td>\n",
       "      <td>13</td>\n",
       "      <td>Divorced</td>\n",
       "      <td>Prof-specialty</td>\n",
       "      <td>Unmarried</td>\n",
       "      <td>Black</td>\n",
       "      <td>Female</td>\n",
       "      <td>15020</td>\n",
       "      <td>0</td>\n",
       "      <td>45</td>\n",
       "      <td>United-States</td>\n",
       "      <td>1</td>\n",
       "    </tr>\n",
       "    <tr>\n",
       "      <th>32538</th>\n",
       "      <td>71</td>\n",
       "      <td>NaN</td>\n",
       "      <td>Doctorate</td>\n",
       "      <td>16</td>\n",
       "      <td>Married-civ-spouse</td>\n",
       "      <td>NaN</td>\n",
       "      <td>Husband</td>\n",
       "      <td>White</td>\n",
       "      <td>Male</td>\n",
       "      <td>0</td>\n",
       "      <td>0</td>\n",
       "      <td>10</td>\n",
       "      <td>United-States</td>\n",
       "      <td>1</td>\n",
       "    </tr>\n",
       "    <tr>\n",
       "      <th>32539</th>\n",
       "      <td>45</td>\n",
       "      <td>State-gov</td>\n",
       "      <td>HS-grad</td>\n",
       "      <td>9</td>\n",
       "      <td>Separated</td>\n",
       "      <td>Adm-clerical</td>\n",
       "      <td>Own-child</td>\n",
       "      <td>White</td>\n",
       "      <td>Female</td>\n",
       "      <td>0</td>\n",
       "      <td>0</td>\n",
       "      <td>40</td>\n",
       "      <td>United-States</td>\n",
       "      <td>0</td>\n",
       "    </tr>\n",
       "    <tr>\n",
       "      <th>32540</th>\n",
       "      <td>41</td>\n",
       "      <td>NaN</td>\n",
       "      <td>HS-grad</td>\n",
       "      <td>9</td>\n",
       "      <td>Separated</td>\n",
       "      <td>NaN</td>\n",
       "      <td>Not-in-family</td>\n",
       "      <td>Black</td>\n",
       "      <td>Female</td>\n",
       "      <td>0</td>\n",
       "      <td>0</td>\n",
       "      <td>32</td>\n",
       "      <td>United-States</td>\n",
       "      <td>0</td>\n",
       "    </tr>\n",
       "    <tr>\n",
       "      <th>32541</th>\n",
       "      <td>72</td>\n",
       "      <td>NaN</td>\n",
       "      <td>HS-grad</td>\n",
       "      <td>9</td>\n",
       "      <td>Married-civ-spouse</td>\n",
       "      <td>NaN</td>\n",
       "      <td>Husband</td>\n",
       "      <td>White</td>\n",
       "      <td>Male</td>\n",
       "      <td>0</td>\n",
       "      <td>0</td>\n",
       "      <td>25</td>\n",
       "      <td>United-States</td>\n",
       "      <td>0</td>\n",
       "    </tr>\n",
       "    <tr>\n",
       "      <th>32542</th>\n",
       "      <td>45</td>\n",
       "      <td>Local-gov</td>\n",
       "      <td>Assoc-acdm</td>\n",
       "      <td>12</td>\n",
       "      <td>Divorced</td>\n",
       "      <td>Prof-specialty</td>\n",
       "      <td>Unmarried</td>\n",
       "      <td>White</td>\n",
       "      <td>Female</td>\n",
       "      <td>0</td>\n",
       "      <td>0</td>\n",
       "      <td>48</td>\n",
       "      <td>United-States</td>\n",
       "      <td>0</td>\n",
       "    </tr>\n",
       "    <tr>\n",
       "      <th>32543</th>\n",
       "      <td>31</td>\n",
       "      <td>Private</td>\n",
       "      <td>Masters</td>\n",
       "      <td>14</td>\n",
       "      <td>Divorced</td>\n",
       "      <td>Other-service</td>\n",
       "      <td>Not-in-family</td>\n",
       "      <td>Other</td>\n",
       "      <td>Female</td>\n",
       "      <td>0</td>\n",
       "      <td>0</td>\n",
       "      <td>30</td>\n",
       "      <td>United-States</td>\n",
       "      <td>0</td>\n",
       "    </tr>\n",
       "    <tr>\n",
       "      <th>32544</th>\n",
       "      <td>39</td>\n",
       "      <td>Local-gov</td>\n",
       "      <td>Assoc-acdm</td>\n",
       "      <td>12</td>\n",
       "      <td>Married-civ-spouse</td>\n",
       "      <td>Adm-clerical</td>\n",
       "      <td>Wife</td>\n",
       "      <td>White</td>\n",
       "      <td>Female</td>\n",
       "      <td>0</td>\n",
       "      <td>0</td>\n",
       "      <td>20</td>\n",
       "      <td>United-States</td>\n",
       "      <td>1</td>\n",
       "    </tr>\n",
       "    <tr>\n",
       "      <th>32545</th>\n",
       "      <td>37</td>\n",
       "      <td>Private</td>\n",
       "      <td>Assoc-acdm</td>\n",
       "      <td>12</td>\n",
       "      <td>Divorced</td>\n",
       "      <td>Tech-support</td>\n",
       "      <td>Not-in-family</td>\n",
       "      <td>White</td>\n",
       "      <td>Female</td>\n",
       "      <td>0</td>\n",
       "      <td>0</td>\n",
       "      <td>40</td>\n",
       "      <td>United-States</td>\n",
       "      <td>0</td>\n",
       "    </tr>\n",
       "    <tr>\n",
       "      <th>32546</th>\n",
       "      <td>43</td>\n",
       "      <td>Private</td>\n",
       "      <td>HS-grad</td>\n",
       "      <td>9</td>\n",
       "      <td>Married-civ-spouse</td>\n",
       "      <td>Machine-op-inspct</td>\n",
       "      <td>Husband</td>\n",
       "      <td>White</td>\n",
       "      <td>Male</td>\n",
       "      <td>0</td>\n",
       "      <td>0</td>\n",
       "      <td>40</td>\n",
       "      <td>Mexico</td>\n",
       "      <td>0</td>\n",
       "    </tr>\n",
       "    <tr>\n",
       "      <th>32547</th>\n",
       "      <td>65</td>\n",
       "      <td>Self-emp-not-inc</td>\n",
       "      <td>Prof-school</td>\n",
       "      <td>15</td>\n",
       "      <td>Never-married</td>\n",
       "      <td>Prof-specialty</td>\n",
       "      <td>Not-in-family</td>\n",
       "      <td>White</td>\n",
       "      <td>Male</td>\n",
       "      <td>1086</td>\n",
       "      <td>0</td>\n",
       "      <td>60</td>\n",
       "      <td>United-States</td>\n",
       "      <td>0</td>\n",
       "    </tr>\n",
       "    <tr>\n",
       "      <th>32548</th>\n",
       "      <td>43</td>\n",
       "      <td>State-gov</td>\n",
       "      <td>Some-college</td>\n",
       "      <td>10</td>\n",
       "      <td>Divorced</td>\n",
       "      <td>Adm-clerical</td>\n",
       "      <td>Other-relative</td>\n",
       "      <td>White</td>\n",
       "      <td>Female</td>\n",
       "      <td>0</td>\n",
       "      <td>0</td>\n",
       "      <td>40</td>\n",
       "      <td>United-States</td>\n",
       "      <td>0</td>\n",
       "    </tr>\n",
       "    <tr>\n",
       "      <th>32549</th>\n",
       "      <td>43</td>\n",
       "      <td>Self-emp-not-inc</td>\n",
       "      <td>Some-college</td>\n",
       "      <td>10</td>\n",
       "      <td>Married-civ-spouse</td>\n",
       "      <td>Craft-repair</td>\n",
       "      <td>Husband</td>\n",
       "      <td>White</td>\n",
       "      <td>Male</td>\n",
       "      <td>0</td>\n",
       "      <td>0</td>\n",
       "      <td>50</td>\n",
       "      <td>United-States</td>\n",
       "      <td>0</td>\n",
       "    </tr>\n",
       "    <tr>\n",
       "      <th>32550</th>\n",
       "      <td>32</td>\n",
       "      <td>Private</td>\n",
       "      <td>10th</td>\n",
       "      <td>6</td>\n",
       "      <td>Married-civ-spouse</td>\n",
       "      <td>Handlers-cleaners</td>\n",
       "      <td>Husband</td>\n",
       "      <td>Amer-Indian-Eskimo</td>\n",
       "      <td>Male</td>\n",
       "      <td>0</td>\n",
       "      <td>0</td>\n",
       "      <td>40</td>\n",
       "      <td>United-States</td>\n",
       "      <td>0</td>\n",
       "    </tr>\n",
       "    <tr>\n",
       "      <th>32551</th>\n",
       "      <td>43</td>\n",
       "      <td>Private</td>\n",
       "      <td>Assoc-voc</td>\n",
       "      <td>11</td>\n",
       "      <td>Married-civ-spouse</td>\n",
       "      <td>Sales</td>\n",
       "      <td>Husband</td>\n",
       "      <td>White</td>\n",
       "      <td>Male</td>\n",
       "      <td>0</td>\n",
       "      <td>0</td>\n",
       "      <td>45</td>\n",
       "      <td>United-States</td>\n",
       "      <td>0</td>\n",
       "    </tr>\n",
       "    <tr>\n",
       "      <th>32552</th>\n",
       "      <td>32</td>\n",
       "      <td>Private</td>\n",
       "      <td>Masters</td>\n",
       "      <td>14</td>\n",
       "      <td>Never-married</td>\n",
       "      <td>Tech-support</td>\n",
       "      <td>Not-in-family</td>\n",
       "      <td>Asian-Pac-Islander</td>\n",
       "      <td>Male</td>\n",
       "      <td>0</td>\n",
       "      <td>0</td>\n",
       "      <td>11</td>\n",
       "      <td>Taiwan</td>\n",
       "      <td>0</td>\n",
       "    </tr>\n",
       "    <tr>\n",
       "      <th>32553</th>\n",
       "      <td>53</td>\n",
       "      <td>Private</td>\n",
       "      <td>Masters</td>\n",
       "      <td>14</td>\n",
       "      <td>Married-civ-spouse</td>\n",
       "      <td>Exec-managerial</td>\n",
       "      <td>Husband</td>\n",
       "      <td>White</td>\n",
       "      <td>Male</td>\n",
       "      <td>0</td>\n",
       "      <td>0</td>\n",
       "      <td>40</td>\n",
       "      <td>United-States</td>\n",
       "      <td>1</td>\n",
       "    </tr>\n",
       "    <tr>\n",
       "      <th>32554</th>\n",
       "      <td>22</td>\n",
       "      <td>Private</td>\n",
       "      <td>Some-college</td>\n",
       "      <td>10</td>\n",
       "      <td>Never-married</td>\n",
       "      <td>Protective-serv</td>\n",
       "      <td>Not-in-family</td>\n",
       "      <td>White</td>\n",
       "      <td>Male</td>\n",
       "      <td>0</td>\n",
       "      <td>0</td>\n",
       "      <td>40</td>\n",
       "      <td>United-States</td>\n",
       "      <td>0</td>\n",
       "    </tr>\n",
       "    <tr>\n",
       "      <th>32555</th>\n",
       "      <td>27</td>\n",
       "      <td>Private</td>\n",
       "      <td>Assoc-acdm</td>\n",
       "      <td>12</td>\n",
       "      <td>Married-civ-spouse</td>\n",
       "      <td>Tech-support</td>\n",
       "      <td>Wife</td>\n",
       "      <td>White</td>\n",
       "      <td>Female</td>\n",
       "      <td>0</td>\n",
       "      <td>0</td>\n",
       "      <td>38</td>\n",
       "      <td>United-States</td>\n",
       "      <td>0</td>\n",
       "    </tr>\n",
       "    <tr>\n",
       "      <th>32556</th>\n",
       "      <td>40</td>\n",
       "      <td>Private</td>\n",
       "      <td>HS-grad</td>\n",
       "      <td>9</td>\n",
       "      <td>Married-civ-spouse</td>\n",
       "      <td>Machine-op-inspct</td>\n",
       "      <td>Husband</td>\n",
       "      <td>White</td>\n",
       "      <td>Male</td>\n",
       "      <td>0</td>\n",
       "      <td>0</td>\n",
       "      <td>40</td>\n",
       "      <td>United-States</td>\n",
       "      <td>1</td>\n",
       "    </tr>\n",
       "    <tr>\n",
       "      <th>32557</th>\n",
       "      <td>58</td>\n",
       "      <td>Private</td>\n",
       "      <td>HS-grad</td>\n",
       "      <td>9</td>\n",
       "      <td>Widowed</td>\n",
       "      <td>Adm-clerical</td>\n",
       "      <td>Unmarried</td>\n",
       "      <td>White</td>\n",
       "      <td>Female</td>\n",
       "      <td>0</td>\n",
       "      <td>0</td>\n",
       "      <td>40</td>\n",
       "      <td>United-States</td>\n",
       "      <td>0</td>\n",
       "    </tr>\n",
       "    <tr>\n",
       "      <th>32558</th>\n",
       "      <td>22</td>\n",
       "      <td>Private</td>\n",
       "      <td>HS-grad</td>\n",
       "      <td>9</td>\n",
       "      <td>Never-married</td>\n",
       "      <td>Adm-clerical</td>\n",
       "      <td>Own-child</td>\n",
       "      <td>White</td>\n",
       "      <td>Male</td>\n",
       "      <td>0</td>\n",
       "      <td>0</td>\n",
       "      <td>20</td>\n",
       "      <td>United-States</td>\n",
       "      <td>0</td>\n",
       "    </tr>\n",
       "    <tr>\n",
       "      <th>32559</th>\n",
       "      <td>52</td>\n",
       "      <td>Self-emp-inc</td>\n",
       "      <td>HS-grad</td>\n",
       "      <td>9</td>\n",
       "      <td>Married-civ-spouse</td>\n",
       "      <td>Exec-managerial</td>\n",
       "      <td>Wife</td>\n",
       "      <td>White</td>\n",
       "      <td>Female</td>\n",
       "      <td>15024</td>\n",
       "      <td>0</td>\n",
       "      <td>40</td>\n",
       "      <td>United-States</td>\n",
       "      <td>1</td>\n",
       "    </tr>\n",
       "  </tbody>\n",
       "</table>\n",
       "<p>32560 rows × 14 columns</p>\n",
       "</div>"
      ],
      "text/plain": [
       "       age          workclass      education  education_num  \\\n",
       "0       39          State-gov      Bachelors             13   \n",
       "1       50   Self-emp-not-inc      Bachelors             13   \n",
       "2       38            Private        HS-grad              9   \n",
       "3       53            Private           11th              7   \n",
       "4       28            Private      Bachelors             13   \n",
       "5       37            Private        Masters             14   \n",
       "6       49            Private            9th              5   \n",
       "7       52   Self-emp-not-inc        HS-grad              9   \n",
       "8       31            Private        Masters             14   \n",
       "9       42            Private      Bachelors             13   \n",
       "10      37            Private   Some-college             10   \n",
       "11      30          State-gov      Bachelors             13   \n",
       "12      23            Private      Bachelors             13   \n",
       "13      32            Private     Assoc-acdm             12   \n",
       "14      40            Private      Assoc-voc             11   \n",
       "15      34            Private        7th-8th              4   \n",
       "16      25   Self-emp-not-inc        HS-grad              9   \n",
       "17      32            Private        HS-grad              9   \n",
       "18      38            Private           11th              7   \n",
       "19      43   Self-emp-not-inc        Masters             14   \n",
       "20      40            Private      Doctorate             16   \n",
       "21      54            Private        HS-grad              9   \n",
       "22      35        Federal-gov            9th              5   \n",
       "23      43            Private           11th              7   \n",
       "24      59            Private        HS-grad              9   \n",
       "25      56          Local-gov      Bachelors             13   \n",
       "26      19            Private        HS-grad              9   \n",
       "27      54                NaN   Some-college             10   \n",
       "28      39            Private        HS-grad              9   \n",
       "29      49            Private        HS-grad              9   \n",
       "...    ...                ...            ...            ...   \n",
       "32530   30                NaN      Bachelors             13   \n",
       "32531   34            Private      Doctorate             16   \n",
       "32532   54            Private      Bachelors             13   \n",
       "32533   37            Private   Some-college             10   \n",
       "32534   22            Private           12th              8   \n",
       "32535   34            Private      Bachelors             13   \n",
       "32536   30            Private        HS-grad              9   \n",
       "32537   38            Private      Bachelors             13   \n",
       "32538   71                NaN      Doctorate             16   \n",
       "32539   45          State-gov        HS-grad              9   \n",
       "32540   41                NaN        HS-grad              9   \n",
       "32541   72                NaN        HS-grad              9   \n",
       "32542   45          Local-gov     Assoc-acdm             12   \n",
       "32543   31            Private        Masters             14   \n",
       "32544   39          Local-gov     Assoc-acdm             12   \n",
       "32545   37            Private     Assoc-acdm             12   \n",
       "32546   43            Private        HS-grad              9   \n",
       "32547   65   Self-emp-not-inc    Prof-school             15   \n",
       "32548   43          State-gov   Some-college             10   \n",
       "32549   43   Self-emp-not-inc   Some-college             10   \n",
       "32550   32            Private           10th              6   \n",
       "32551   43            Private      Assoc-voc             11   \n",
       "32552   32            Private        Masters             14   \n",
       "32553   53            Private        Masters             14   \n",
       "32554   22            Private   Some-college             10   \n",
       "32555   27            Private     Assoc-acdm             12   \n",
       "32556   40            Private        HS-grad              9   \n",
       "32557   58            Private        HS-grad              9   \n",
       "32558   22            Private        HS-grad              9   \n",
       "32559   52       Self-emp-inc        HS-grad              9   \n",
       "\n",
       "               marital_status          occupation     relationship  \\\n",
       "0               Never-married        Adm-clerical    Not-in-family   \n",
       "1          Married-civ-spouse     Exec-managerial          Husband   \n",
       "2                    Divorced   Handlers-cleaners    Not-in-family   \n",
       "3          Married-civ-spouse   Handlers-cleaners          Husband   \n",
       "4          Married-civ-spouse      Prof-specialty             Wife   \n",
       "5          Married-civ-spouse     Exec-managerial             Wife   \n",
       "6       Married-spouse-absent       Other-service    Not-in-family   \n",
       "7          Married-civ-spouse     Exec-managerial          Husband   \n",
       "8               Never-married      Prof-specialty    Not-in-family   \n",
       "9          Married-civ-spouse     Exec-managerial          Husband   \n",
       "10         Married-civ-spouse     Exec-managerial          Husband   \n",
       "11         Married-civ-spouse      Prof-specialty          Husband   \n",
       "12              Never-married        Adm-clerical        Own-child   \n",
       "13              Never-married               Sales    Not-in-family   \n",
       "14         Married-civ-spouse        Craft-repair          Husband   \n",
       "15         Married-civ-spouse    Transport-moving          Husband   \n",
       "16              Never-married     Farming-fishing        Own-child   \n",
       "17              Never-married   Machine-op-inspct        Unmarried   \n",
       "18         Married-civ-spouse               Sales          Husband   \n",
       "19                   Divorced     Exec-managerial        Unmarried   \n",
       "20         Married-civ-spouse      Prof-specialty          Husband   \n",
       "21                  Separated       Other-service        Unmarried   \n",
       "22         Married-civ-spouse     Farming-fishing          Husband   \n",
       "23         Married-civ-spouse    Transport-moving          Husband   \n",
       "24                   Divorced        Tech-support        Unmarried   \n",
       "25         Married-civ-spouse        Tech-support          Husband   \n",
       "26              Never-married        Craft-repair        Own-child   \n",
       "27         Married-civ-spouse                 NaN          Husband   \n",
       "28                   Divorced     Exec-managerial    Not-in-family   \n",
       "29         Married-civ-spouse        Craft-repair          Husband   \n",
       "...                       ...                 ...              ...   \n",
       "32530           Never-married                 NaN    Not-in-family   \n",
       "32531      Married-civ-spouse      Prof-specialty          Husband   \n",
       "32532      Married-civ-spouse     Exec-managerial          Husband   \n",
       "32533                Divorced        Adm-clerical        Unmarried   \n",
       "32534           Never-married     Protective-serv        Own-child   \n",
       "32535           Never-married     Exec-managerial    Not-in-family   \n",
       "32536           Never-married        Craft-repair    Not-in-family   \n",
       "32537                Divorced      Prof-specialty        Unmarried   \n",
       "32538      Married-civ-spouse                 NaN          Husband   \n",
       "32539               Separated        Adm-clerical        Own-child   \n",
       "32540               Separated                 NaN    Not-in-family   \n",
       "32541      Married-civ-spouse                 NaN          Husband   \n",
       "32542                Divorced      Prof-specialty        Unmarried   \n",
       "32543                Divorced       Other-service    Not-in-family   \n",
       "32544      Married-civ-spouse        Adm-clerical             Wife   \n",
       "32545                Divorced        Tech-support    Not-in-family   \n",
       "32546      Married-civ-spouse   Machine-op-inspct          Husband   \n",
       "32547           Never-married      Prof-specialty    Not-in-family   \n",
       "32548                Divorced        Adm-clerical   Other-relative   \n",
       "32549      Married-civ-spouse        Craft-repair          Husband   \n",
       "32550      Married-civ-spouse   Handlers-cleaners          Husband   \n",
       "32551      Married-civ-spouse               Sales          Husband   \n",
       "32552           Never-married        Tech-support    Not-in-family   \n",
       "32553      Married-civ-spouse     Exec-managerial          Husband   \n",
       "32554           Never-married     Protective-serv    Not-in-family   \n",
       "32555      Married-civ-spouse        Tech-support             Wife   \n",
       "32556      Married-civ-spouse   Machine-op-inspct          Husband   \n",
       "32557                 Widowed        Adm-clerical        Unmarried   \n",
       "32558           Never-married        Adm-clerical        Own-child   \n",
       "32559      Married-civ-spouse     Exec-managerial             Wife   \n",
       "\n",
       "                      race   gender  capital_gain  capital_loss  \\\n",
       "0                    White     Male          2174             0   \n",
       "1                    White     Male             0             0   \n",
       "2                    White     Male             0             0   \n",
       "3                    Black     Male             0             0   \n",
       "4                    Black   Female             0             0   \n",
       "5                    White   Female             0             0   \n",
       "6                    Black   Female             0             0   \n",
       "7                    White     Male             0             0   \n",
       "8                    White   Female         14084             0   \n",
       "9                    White     Male          5178             0   \n",
       "10                   Black     Male             0             0   \n",
       "11      Asian-Pac-Islander     Male             0             0   \n",
       "12                   White   Female             0             0   \n",
       "13                   Black     Male             0             0   \n",
       "14      Asian-Pac-Islander     Male             0             0   \n",
       "15      Amer-Indian-Eskimo     Male             0             0   \n",
       "16                   White     Male             0             0   \n",
       "17                   White     Male             0             0   \n",
       "18                   White     Male             0             0   \n",
       "19                   White   Female             0             0   \n",
       "20                   White     Male             0             0   \n",
       "21                   Black   Female             0             0   \n",
       "22                   Black     Male             0             0   \n",
       "23                   White     Male             0          2042   \n",
       "24                   White   Female             0             0   \n",
       "25                   White     Male             0             0   \n",
       "26                   White     Male             0             0   \n",
       "27      Asian-Pac-Islander     Male             0             0   \n",
       "28                   White     Male             0             0   \n",
       "29                   White     Male             0             0   \n",
       "...                    ...      ...           ...           ...   \n",
       "32530   Asian-Pac-Islander   Female             0             0   \n",
       "32531                White     Male             0             0   \n",
       "32532   Asian-Pac-Islander     Male             0             0   \n",
       "32533                White   Female             0             0   \n",
       "32534                Black     Male             0             0   \n",
       "32535                White   Female             0             0   \n",
       "32536                Black     Male             0             0   \n",
       "32537                Black   Female         15020             0   \n",
       "32538                White     Male             0             0   \n",
       "32539                White   Female             0             0   \n",
       "32540                Black   Female             0             0   \n",
       "32541                White     Male             0             0   \n",
       "32542                White   Female             0             0   \n",
       "32543                Other   Female             0             0   \n",
       "32544                White   Female             0             0   \n",
       "32545                White   Female             0             0   \n",
       "32546                White     Male             0             0   \n",
       "32547                White     Male          1086             0   \n",
       "32548                White   Female             0             0   \n",
       "32549                White     Male             0             0   \n",
       "32550   Amer-Indian-Eskimo     Male             0             0   \n",
       "32551                White     Male             0             0   \n",
       "32552   Asian-Pac-Islander     Male             0             0   \n",
       "32553                White     Male             0             0   \n",
       "32554                White     Male             0             0   \n",
       "32555                White   Female             0             0   \n",
       "32556                White     Male             0             0   \n",
       "32557                White   Female             0             0   \n",
       "32558                White     Male             0             0   \n",
       "32559                White   Female         15024             0   \n",
       "\n",
       "       hours_per_week  native_country  greater_than_50k  \n",
       "0                  40   United-States                 0  \n",
       "1                  13   United-States                 0  \n",
       "2                  40   United-States                 0  \n",
       "3                  40   United-States                 0  \n",
       "4                  40            Cuba                 0  \n",
       "5                  40   United-States                 0  \n",
       "6                  16         Jamaica                 0  \n",
       "7                  45   United-States                 1  \n",
       "8                  50   United-States                 1  \n",
       "9                  40   United-States                 1  \n",
       "10                 80   United-States                 1  \n",
       "11                 40           India                 1  \n",
       "12                 30   United-States                 0  \n",
       "13                 50   United-States                 0  \n",
       "14                 40             NaN                 1  \n",
       "15                 45          Mexico                 0  \n",
       "16                 35   United-States                 0  \n",
       "17                 40   United-States                 0  \n",
       "18                 50   United-States                 0  \n",
       "19                 45   United-States                 1  \n",
       "20                 60   United-States                 1  \n",
       "21                 20   United-States                 0  \n",
       "22                 40   United-States                 0  \n",
       "23                 40   United-States                 0  \n",
       "24                 40   United-States                 0  \n",
       "25                 40   United-States                 1  \n",
       "26                 40   United-States                 0  \n",
       "27                 60           South                 1  \n",
       "28                 80   United-States                 0  \n",
       "29                 40   United-States                 0  \n",
       "...               ...             ...               ...  \n",
       "32530              99   United-States                 0  \n",
       "32531              60   United-States                 1  \n",
       "32532              50           Japan                 1  \n",
       "32533              39   United-States                 0  \n",
       "32534              35   United-States                 0  \n",
       "32535              55   United-States                 1  \n",
       "32536              46   United-States                 0  \n",
       "32537              45   United-States                 1  \n",
       "32538              10   United-States                 1  \n",
       "32539              40   United-States                 0  \n",
       "32540              32   United-States                 0  \n",
       "32541              25   United-States                 0  \n",
       "32542              48   United-States                 0  \n",
       "32543              30   United-States                 0  \n",
       "32544              20   United-States                 1  \n",
       "32545              40   United-States                 0  \n",
       "32546              40          Mexico                 0  \n",
       "32547              60   United-States                 0  \n",
       "32548              40   United-States                 0  \n",
       "32549              50   United-States                 0  \n",
       "32550              40   United-States                 0  \n",
       "32551              45   United-States                 0  \n",
       "32552              11          Taiwan                 0  \n",
       "32553              40   United-States                 1  \n",
       "32554              40   United-States                 0  \n",
       "32555              38   United-States                 0  \n",
       "32556              40   United-States                 1  \n",
       "32557              40   United-States                 0  \n",
       "32558              20   United-States                 0  \n",
       "32559              40   United-States                 1  \n",
       "\n",
       "[32560 rows x 14 columns]"
      ]
     },
     "execution_count": 9,
     "metadata": {},
     "output_type": "execute_result"
    }
   ],
   "source": [
    "data = pd.read_csv('./Data/census.csv')\n",
    "data"
   ]
  },
  {
   "cell_type": "markdown",
   "metadata": {},
   "source": [
    "Let's check the fill rate of the data"
   ]
  },
  {
   "cell_type": "code",
   "execution_count": 11,
   "metadata": {
    "collapsed": false
   },
   "outputs": [
    {
     "data": {
      "text/plain": [
       "age                 100.000000\n",
       "workclass            94.361179\n",
       "education           100.000000\n",
       "education_num       100.000000\n",
       "marital_status      100.000000\n",
       "occupation           94.339681\n",
       "relationship        100.000000\n",
       "race                100.000000\n",
       "gender              100.000000\n",
       "capital_gain        100.000000\n",
       "capital_loss        100.000000\n",
       "hours_per_week      100.000000\n",
       "native_country       98.209459\n",
       "greater_than_50k    100.000000\n",
       "dtype: float64"
      ]
     },
     "execution_count": 11,
     "metadata": {},
     "output_type": "execute_result"
    }
   ],
   "source": [
    "data.count(0)/data.shape[0] * 100"
   ]
  },
  {
   "cell_type": "markdown",
   "metadata": {},
   "source": [
    "We can see that the the columns have got a good fill rate. We'll remove the rows the which have empty values"
   ]
  },
  {
   "cell_type": "code",
   "execution_count": 12,
   "metadata": {
    "collapsed": false
   },
   "outputs": [],
   "source": [
    "data = data.dropna(how='any')\n",
    "del data['education_num']"
   ]
  },
  {
   "cell_type": "markdown",
   "metadata": {},
   "source": [
    "## Exploring the Census Data"
   ]
  },
  {
   "cell_type": "markdown",
   "metadata": {},
   "source": [
    "Let's explore the data and understand the patterns with the data before building the model\n",
    "\n",
    "<strong>Hypothesis 1: People who are older, earn more.</strong>\n",
    "\n",
    "We'll create a histogram of the people who are earning less than 50K and a histogram who are earning more than 50K"
   ]
  },
  {
   "cell_type": "code",
   "execution_count": 20,
   "metadata": {
    "collapsed": false
   },
   "outputs": [
    {
     "data": {
      "text/plain": [
       "<matplotlib.text.Text at 0x17e24278>"
      ]
     },
     "execution_count": 20,
     "metadata": {},
     "output_type": "execute_result"
    },
    {
     "data": {
      "image/png": "[encoded data removed]",
      "text/plain": [
       "<matplotlib.figure.Figure at 0x1815a780>"
      ]
     },
     "metadata": {},
     "output_type": "display_data"
    }
   ],
   "source": [
    "hist_above_50 = plt.hist(data[data.greater_than_50k == 1].age.values, 10, facecolor='green', alpha=0.5)\n",
    "plt.title('Age distribution of Above 50K earners')\n",
    "plt.xlabel('Age')\n",
    "plt.ylabel('Frequency')"
   ]
  },
  {
   "cell_type": "markdown",
   "metadata": {},
   "source": [
    "And the histogram who are earning less than 50K"
   ]
  },
  {
   "cell_type": "code",
   "execution_count": 21,
   "metadata": {
    "collapsed": false
   },
   "outputs": [
    {
     "data": {
      "text/plain": [
       "<matplotlib.text.Text at 0x19635390>"
      ]
     },
     "execution_count": 21,
     "metadata": {},
     "output_type": "execute_result"
    },
    {
     "data": {
      "image/png": "[encoded data removed]",
      "text/plain": [
       "<matplotlib.figure.Figure at 0x1815a198>"
      ]
     },
     "metadata": {},
     "output_type": "display_data"
    }
   ],
   "source": [
    "hist_below_50 = plt.hist(data[data.greater_than_50k == 0].age.values, 10, facecolor='green', alpha=0.5)\n",
    "plt.title('Age distribution of below 50K earners')\n",
    "plt.xlabel('Age')\n",
    "plt.ylabel('Frequency')"
   ]
  },
  {
   "cell_type": "markdown",
   "metadata": {},
   "source": [
    "We can see that people who are earning above 50K are majorly concentrated post 30 years of age till mid 50s where as people who are earning less than 50K dollars are primarily concentrated at the 20s and 30s"
   ]
  },
  {
   "cell_type": "markdown",
   "metadata": {},
   "source": [
    "<strong>Hypothesis 2: Earning Bias based on working class </strong>\n",
    "\n",
    "Let's see how is the distribution of the people earning more thatn 50K between different working class group. We'll see the percentage of more than 50K earners in each of the groups using the following code"
   ]
  },
  {
   "cell_type": "code",
   "execution_count": 32,
   "metadata": {
    "collapsed": false
   },
   "outputs": [
    {
     "data": {
      "text/plain": [
       "<matplotlib.text.Text at 0x17367a90>"
      ]
     },
     "execution_count": 32,
     "metadata": {},
     "output_type": "execute_result"
    },
    {
     "data": {
      "image/png": "[encoded data removed]",
      "text/plain": [
       "<matplotlib.figure.Figure at 0x17900668>"
      ]
     },
     "metadata": {},
     "output_type": "display_data"
    }
   ],
   "source": [
    "dist_data = pd.concat([data[data.greater_than_50k == 1].groupby('workclass').workclass.count()\n",
    "                          , data[data.greater_than_50k == 0].groupby('workclass').workclass.count()], axis=1)\n",
    "\n",
    "dist_data.columns = ['wk_class_gt50','wk_class_lt50']\n",
    "\n",
    "dist_data_final = dist_data.wk_class_gt50 / (dist_data.wk_class_lt50 + dist_data.wk_class_gt50 )\n",
    "\n",
    "dist_data_final.sort(ascending=False)\n",
    "ax = dist_data_final.plot(kind = 'bar', color = 'r', y='Percentage')\n",
    "ax.set_xticklabels(dist_data_final.index, rotation=30, fontsize=8, ha='right')\n",
    "ax.set_xlabel('Working Class')\n",
    "ax.set_ylabel('Percentage of People')"
   ]
  },
  {
   "cell_type": "markdown",
   "metadata": {},
   "source": [
    "We see that people who are self employed and have a company have got the maximum share of people who are earning more than 50K. The 2nd most well off group are the federal government employees in terms of earning."
   ]
  },
  {
   "cell_type": "markdown",
   "metadata": {},
   "source": [
    "<strong>Hypothesis 3: People with more education, earn more</strong>\n",
    "\n",
    "Education is an important field. It should have a relation to the level to the earning power of an individual"
   ]
  },
  {
   "cell_type": "code",
   "execution_count": 34,
   "metadata": {
    "collapsed": false
   },
   "outputs": [
    {
     "data": {
      "text/plain": [
       "<matplotlib.text.Text at 0x178f1a90>"
      ]
     },
     "execution_count": 34,
     "metadata": {},
     "output_type": "execute_result"
    },
    {
     "data": {
      "image/png": "[encoded data removed]",
      "text/plain": [
       "<matplotlib.figure.Figure at 0x1a438b38>"
      ]
     },
     "metadata": {},
     "output_type": "display_data"
    }
   ],
   "source": [
    "dist_data = pd.concat([data[data.greater_than_50k == 1].groupby('education').education.count()\n",
    "                          , data[data.greater_than_50k == 0].groupby('education').education.count()], axis=1)\n",
    "\n",
    "dist_data.columns = ['education_gt50','education_lt50']\n",
    "\n",
    "dist_data_final = dist_data.education_gt50 / (dist_data.education_gt50 + dist_data.education_lt50 )\n",
    "\n",
    "dist_data_final.sort(ascending = False)\n",
    "ax =dist_data_final.plot(kind = 'bar', color = 'r')\n",
    "ax.set_xticklabels(dist_data_final.index, rotation=30, fontsize=8, ha='right')\n",
    "ax.set_xlabel('Education Level')\n",
    "ax.set_ylabel('Percentage of People')"
   ]
  },
  {
   "cell_type": "markdown",
   "metadata": {},
   "source": [
    "We can see that the more the person is educated, there are greater number of people in their group who have more than 50K earnings"
   ]
  },
  {
   "cell_type": "markdown",
   "metadata": {},
   "source": [
    "<strong>Hypothesis 4: Married People tend to earn more</strong>\n",
    "\n",
    "Let's see how is the distribution based on marital status"
   ]
  },
  {
   "cell_type": "code",
   "execution_count": 35,
   "metadata": {
    "collapsed": false
   },
   "outputs": [
    {
     "data": {
      "text/plain": [
       "<matplotlib.text.Text at 0x17d79320>"
      ]
     },
     "execution_count": 35,
     "metadata": {},
     "output_type": "execute_result"
    },
    {
     "data": {
      "image/png": "[encoded data removed]",
      "text/plain": [
       "<matplotlib.figure.Figure at 0x1a4384e0>"
      ]
     },
     "metadata": {},
     "output_type": "display_data"
    }
   ],
   "source": [
    "dist_data = pd.concat([data[data.greater_than_50k == 1].groupby('marital_status').marital_status.count()\n",
    "                          , data[data.greater_than_50k == 0].groupby('marital_status').marital_status.count()], axis=1)\n",
    "\n",
    "dist_data.columns = ['marital_status_gt50','marital_status_lt50']\n",
    "\n",
    "dist_data_final = dist_data.marital_status_gt50 / (dist_data.marital_status_gt50 + dist_data.marital_status_lt50 )\n",
    "\n",
    "dist_data_final.sort(ascending = False)\n",
    "\n",
    "ax = dist_data_final.plot(kind = 'bar', color = 'r')\n",
    "ax.set_xticklabels(dist_data_final.index, rotation=30, fontsize=8, ha='right')\n",
    "ax.set_xlabel('Marital Status')\n",
    "ax.set_ylabel('Percentage of People')"
   ]
  },
  {
   "cell_type": "markdown",
   "metadata": {},
   "source": [
    "The above graph is interesting as it shows that the people who currently married have higher proportion of earning potential compared to the other groups"
   ]
  },
  {
   "cell_type": "markdown",
   "metadata": {},
   "source": [
    "<strong>Hypothesis 5: There is bias in earning based on occupation </strong>\n",
    "\n",
    "Occupation also plays a critical role and the following graph will be interesting"
   ]
  },
  {
   "cell_type": "code",
   "execution_count": 37,
   "metadata": {
    "collapsed": false
   },
   "outputs": [
    {
     "data": {
      "text/plain": [
       "<matplotlib.text.Text at 0x1b065a90>"
      ]
     },
     "execution_count": 37,
     "metadata": {},
     "output_type": "execute_result"
    },
    {
     "data": {
      "image/png": "[encoded data removed]",
      "text/plain": [
       "<matplotlib.figure.Figure at 0x1757d208>"
      ]
     },
     "metadata": {},
     "output_type": "display_data"
    }
   ],
   "source": [
    "dist_data = pd.concat([data[data.greater_than_50k == 1].groupby('occupation').occupation.count()\n",
    "                          , data[data.greater_than_50k == 0].groupby('occupation').occupation.count()], axis=1)\n",
    "\n",
    "dist_data.columns = ['occupation_gt50','occupation_lt50']\n",
    "\n",
    "dist_data_final = dist_data.occupation_gt50 / (dist_data.occupation_gt50 + dist_data.occupation_lt50 )\n",
    "\n",
    "dist_data_final.sort(ascending = False)\n",
    "\n",
    "ax = dist_data_final.plot(kind = 'bar', color = 'r')\n",
    "\n",
    "ax.set_xticklabels(dist_data_final.index, rotation=30, fontsize=8, ha='right')\n",
    "ax.set_xlabel('Occupation')\n",
    "ax.set_ylabel('Percentage of People')"
   ]
  },
  {
   "cell_type": "markdown",
   "metadata": {},
   "source": [
    "We can see that Executive Managers and people is speciality positions have a good earning power. Its also interesting to see that the armed forces have quite a low purchasing power"
   ]
  },
  {
   "cell_type": "markdown",
   "metadata": {},
   "source": [
    "<strong> Hypothesis 6:  There is bias in earning based on race </strong>\n",
    "\n",
    "Let's see how is the earning power based on the race of the person"
   ]
  },
  {
   "cell_type": "code",
   "execution_count": 38,
   "metadata": {
    "collapsed": false
   },
   "outputs": [
    {
     "data": {
      "text/plain": [
       "<matplotlib.text.Text at 0x1b0654a8>"
      ]
     },
     "execution_count": 38,
     "metadata": {},
     "output_type": "execute_result"
    },
    {
     "data": {
      "image/png": "[encoded data removed]",
      "text/plain": [
       "<matplotlib.figure.Figure at 0x1756ea90>"
      ]
     },
     "metadata": {},
     "output_type": "display_data"
    }
   ],
   "source": [
    "dist_data = pd.concat([data[data.greater_than_50k == 1].groupby('race').race.count()\n",
    "                          , data[data.greater_than_50k == 0].groupby('race').race.count()], axis=1)\n",
    "\n",
    "dist_data.columns = ['race_gt50','race_lt50']\n",
    "\n",
    "dist_data_final = dist_data.race_gt50 / (dist_data.race_gt50 + dist_data.race_lt50 )\n",
    "\n",
    "dist_data_final.sort(ascending = False)\n",
    "\n",
    "ax = dist_data_final.plot(kind = 'bar', color = 'r')\n",
    "\n",
    "ax.set_xticklabels(dist_data_final.index, rotation=30, fontsize=8, ha='right')\n",
    "ax.set_xlabel('Race')\n",
    "ax.set_ylabel('Percentage of People')"
   ]
  },
  {
   "cell_type": "markdown",
   "metadata": {},
   "source": [
    "The Asian Pacific people and the Whites have the highest earning power "
   ]
  },
  {
   "cell_type": "markdown",
   "metadata": {},
   "source": [
    "<strong>Hypothesis 7: Men earn more</strong>\n",
    "\n",
    "Let's see how is the earning power based on the gender"
   ]
  },
  {
   "cell_type": "code",
   "execution_count": 39,
   "metadata": {
    "collapsed": false
   },
   "outputs": [
    {
     "data": {
      "text/plain": [
       "<matplotlib.text.Text at 0x1b20fd68>"
      ]
     },
     "execution_count": 39,
     "metadata": {},
     "output_type": "execute_result"
    },
    {
     "data": {
      "image/png": "[encoded data removed]",
      "text/plain": [
       "<matplotlib.figure.Figure at 0x1ac15780>"
      ]
     },
     "metadata": {},
     "output_type": "display_data"
    }
   ],
   "source": [
    "dist_data = pd.concat([data[data.greater_than_50k == 1].groupby('gender').gender.count()\n",
    "                          , data[data.greater_than_50k == 0].groupby('gender').gender.count()], axis=1)\n",
    "\n",
    "dist_data.columns = ['gender_gt50','gender_lt50']\n",
    "\n",
    "dist_data_final = dist_data.gender_gt50 / (dist_data.gender_gt50 + dist_data.gender_lt50 )\n",
    "\n",
    "dist_data_final.sort(ascending = False)\n",
    "\n",
    "ax = dist_data_final.plot(kind = 'bar', color = 'r')\n",
    "\n",
    "ax.set_xticklabels(dist_data_final.index, rotation=30, fontsize=8, ha='right')\n",
    "ax.set_xlabel('Gender')\n",
    "ax.set_ylabel('Percentage of People')"
   ]
  },
  {
   "cell_type": "markdown",
   "metadata": {},
   "source": [
    "It's no surprise to see Males having a higher purchasing power compared to Females. It will be good to see the two bars at an equal level sometime in the future."
   ]
  },
  {
   "cell_type": "markdown",
   "metadata": {},
   "source": [
    "<strong> Hypothesis 8: People who clock in more hours, earn more</strong>\n",
    "\n",
    "Let's see the distribution of the above 50K earners "
   ]
  },
  {
   "cell_type": "code",
   "execution_count": 42,
   "metadata": {
    "collapsed": false
   },
   "outputs": [
    {
     "data": {
      "text/plain": [
       "<matplotlib.text.Text at 0x1bc09cf8>"
      ]
     },
     "execution_count": 42,
     "metadata": {},
     "output_type": "execute_result"
    },
    {
     "data": {
      "image/png": "[encoded data removed]",
      "text/plain": [
       "<matplotlib.figure.Figure at 0x1b792940>"
      ]
     },
     "metadata": {},
     "output_type": "display_data"
    }
   ],
   "source": [
    "hist_above_50 = plt.hist(data[data.greater_than_50k == 1].hours_per_week.values, 10, facecolor='green', alpha=0.5)\n",
    "plt.title('Hours per week distribution of Above 50K earners')"
   ]
  },
  {
   "cell_type": "markdown",
   "metadata": {},
   "source": [
    "Now, let's see the distribution of the below 50K earners"
   ]
  },
  {
   "cell_type": "code",
   "execution_count": 114,
   "metadata": {
    "collapsed": false
   },
   "outputs": [
    {
     "data": {
      "text/plain": [
       "<matplotlib.text.Text at 0x7f3fc1a59210>"
      ]
     },
     "execution_count": 114,
     "metadata": {},
     "output_type": "execute_result"
    },
    {
     "data": {
      "image/png": "[encoded data removed]",
      "text/plain": [
       "<matplotlib.figure.Figure at 0x7f3fc0305410>"
      ]
     },
     "metadata": {},
     "output_type": "display_data"
    }
   ],
   "source": [
    "hist_below_50 = plt.hist(data[data.greater_than_50k == 0].hours_per_week.values, 10, facecolor='green', alpha=0.5)\n",
    "plt.title('Hours per week distribution of Below 50K earners')"
   ]
  },
  {
   "cell_type": "markdown",
   "metadata": {},
   "source": [
    "We can see that people who are earning more than 50K and less than that have an average working hours of 40 hours per week but it can be seen that people who above 50K have more proportion of people working post 40 hours"
   ]
  },
  {
   "cell_type": "markdown",
   "metadata": {},
   "source": [
    "<strong>Hypothesis 9: There is a bias in earning based on the country of origin</strong>\n",
    "\n",
    "Let's see how is the earning power based on the native country"
   ]
  },
  {
   "cell_type": "code",
   "execution_count": 45,
   "metadata": {
    "collapsed": false
   },
   "outputs": [
    {
     "data": {
      "text/plain": [
       "<matplotlib.text.Text at 0x1ef2def0>"
      ]
     },
     "execution_count": 45,
     "metadata": {},
     "output_type": "execute_result"
    },
    {
     "data": {
      "image/png": "[encoded data removed]",
      "text/plain": [
       "<matplotlib.figure.Figure at 0x1efca390>"
      ]
     },
     "metadata": {},
     "output_type": "display_data"
    }
   ],
   "source": [
    "plt.figure(figsize=(10,5))\n",
    "dist_data = pd.concat([data[data.greater_than_50k == 1].groupby('native_country').native_country.count()\n",
    "                          , data[data.greater_than_50k == 0].groupby('native_country').native_country.count()], axis=1)\n",
    "\n",
    "dist_data.columns = ['native_country_gt50','native_country_lt50']\n",
    "\n",
    "dist_data_final = dist_data.native_country_gt50 / (dist_data.native_country_gt50 + dist_data.native_country_lt50 )\n",
    "\n",
    "dist_data_final.sort(ascending = False)\n",
    "\n",
    "ax = dist_data_final.plot(kind = 'bar', color = 'r')\n",
    "\n",
    "ax.set_xticklabels(dist_data_final.index, rotation=40, fontsize=8, ha='right')\n",
    "ax.set_xlabel('Country')\n",
    "ax.set_ylabel('Percentage of People')"
   ]
  },
  {
   "cell_type": "markdown",
   "metadata": {},
   "source": [
    "We can see that people of Taiwan, the french, iranians and indians are the most well earning people among the country of origin"
   ]
  },
  {
   "cell_type": "markdown",
   "metadata": {},
   "source": [
    "## Decision Trees"
   ]
  },
  {
   "cell_type": "markdown",
   "metadata": {},
   "source": [
    "To understand Decision Tree based models, let's try to imagine that Google wants to recruit people for a software development job. Based on the employees that they already have and the ones they rejected previously, we have whether an applicant was from Ivy college or not and what was the GPA of the applicant. \n",
    "\n",
    "The decision tree will split the applicant into Ivy League and Non Ivy League groups. The Ivy League group will then be split into high GPA and low GPA so the people with high GPA will be tagged High likely and the ones with low GPA will be tagged Likely to get recruited. \n",
    "\n",
    "The applicants who are Non Ivy League and High GPA will have somewhat likely and the remaining ones as less likely. \n",
    "\n",
    "This above explanation is in a simple terms what a decision tree would do.\n",
    "\n",
    "Let's create a decision tree on our data to predict whats the likelihood if a person is going to earn more than 50K dollars.\n"
   ]
  },
  {
   "cell_type": "code",
   "execution_count": 55,
   "metadata": {
    "collapsed": false
   },
   "outputs": [],
   "source": [
    "data_test = pd.read_csv('./Data/census_test.csv')\n",
    "data_test = data_test.dropna(how='any')\n",
    "formula = 'greater_than_50k ~  age + workclass + education + marital_status + occupation + race + gender + hours_per_week + native_country ' \n",
    "\n",
    "y_train,x_train = dmatrices(formula, data=data, return_type='dataframe')\n",
    "y_test,x_test = dmatrices(formula, data=data_test, return_type='dataframe')\n",
    "\n",
    "clf = tree.DecisionTreeClassifier()\n",
    "clf = clf.fit(x_train, y_train)"
   ]
  },
  {
   "cell_type": "markdown",
   "metadata": {},
   "source": [
    "Let's see how the model is performing"
   ]
  },
  {
   "cell_type": "code",
   "execution_count": 56,
   "metadata": {
    "collapsed": false
   },
   "outputs": [
    {
     "name": "stdout",
     "output_type": "stream",
     "text": [
      "Predicted     0     1\n",
      "Actual               \n",
      "0          9832  1528\n",
      "1          1781  1919\n",
      "\n",
      " \n",
      "\n",
      "             precision    recall  f1-score   support\n",
      "\n",
      "        0.0       0.85      0.87      0.86     11360\n",
      "        1.0       0.56      0.52      0.54      3700\n",
      "\n",
      "avg / total       0.78      0.78      0.78     15060\n",
      "\n"
     ]
    }
   ],
   "source": [
    "from sklearn.metrics import classification_report\n",
    "\n",
    "y_pred = clf.predict(x_test)\n",
    "\n",
    "print pd.crosstab(y_test.greater_than_50k\n",
    "                  ,y_pred\n",
    "                  ,rownames = ['Actual']\n",
    "                  ,colnames = ['Predicted'])\n",
    "\n",
    "print '\\n \\n'\n",
    "\n",
    "print classification_report(y_test.greater_than_50k,y_pred)"
   ]
  },
  {
   "cell_type": "markdown",
   "metadata": {},
   "source": [
    "We can see that the people who are not earning above 50K dollars can be predicted well as there is a precision of 85% and recall of 87%. The people who are earning above 50K can be predicted only with precision of 56% and recall of 52%"
   ]
  },
  {
   "cell_type": "markdown",
   "metadata": {},
   "source": [
    "## Random Forest"
   ]
  },
  {
   "cell_type": "markdown",
   "metadata": {},
   "source": [
    "We just learned how to create a decision tree but many at times decision tree models don't hold good when there are many variables and a large dataset. This is where ensemble models like Random Forest comes to rescue. \n",
    "\n",
    "Random Forest is basically creating many decision trees on the dataset and then averaging out the results. If you see singing competitions like American Idol or Olympics there are multiple judges. The reason to have multiple judges to eliminate biasness and bring fair result and this is what Random Forest tries to achieve. \n",
    "\n",
    "Let's try to create Random Forest Model and see how is the performance compared to the Decision Tree that we just created"
   ]
  },
  {
   "cell_type": "code",
   "execution_count": 57,
   "metadata": {
    "collapsed": false
   },
   "outputs": [],
   "source": [
    "import sklearn.ensemble as sk\n",
    "\n",
    "clf = sk.RandomForestClassifier(n_estimators=100)\n",
    "clf = clf.fit(x_train, y_train.greater_than_50k)"
   ]
  },
  {
   "cell_type": "markdown",
   "metadata": {},
   "source": [
    "Ater building the model, let's cross validate the model on the test data"
   ]
  },
  {
   "cell_type": "code",
   "execution_count": 58,
   "metadata": {
    "collapsed": false
   },
   "outputs": [
    {
     "name": "stdout",
     "output_type": "stream",
     "text": [
      "Predicted      0     1\n",
      "Actual                \n",
      "0          10148  1212\n",
      "1           1685  2015\n",
      "\n",
      " \n",
      "\n",
      "             precision    recall  f1-score   support\n",
      "\n",
      "        0.0       0.86      0.89      0.88     11360\n",
      "        1.0       0.62      0.54      0.58      3700\n",
      "\n",
      "avg / total       0.80      0.81      0.80     15060\n",
      "\n"
     ]
    }
   ],
   "source": [
    "y_pred = clf.predict(x_test)\n",
    "\n",
    "print pd.crosstab(y_test.greater_than_50k\n",
    "                  ,y_pred\n",
    "                  ,rownames = ['Actual']\n",
    "                  ,colnames = ['Predicted'])\n",
    "\n",
    "print '\\n \\n'\n",
    "\n",
    "print classification_report(y_test.greater_than_50k,y_pred)"
   ]
  },
  {
   "cell_type": "markdown",
   "metadata": {},
   "source": [
    "We can see that that we have improved the precision and recall for the people who are not earning more 50K dollars and as well as the precision and recall has improved for the people who have earned more than 50K dollars.\n",
    "\n",
    "Let's try to do some more fine tuning to get a better performance for the model by using the min_samples_split parameter and setting it to 5. This parameter says that the minimum number of samples required to create a split is 5"
   ]
  },
  {
   "cell_type": "code",
   "execution_count": 59,
   "metadata": {
    "collapsed": false
   },
   "outputs": [
    {
     "name": "stdout",
     "output_type": "stream",
     "text": [
      "Predicted      0     1\n",
      "Actual                \n",
      "0          10269  1091\n",
      "1           1636  2064\n",
      "\n",
      " \n",
      "\n",
      "             precision    recall  f1-score   support\n",
      "\n",
      "        0.0       0.86      0.90      0.88     11360\n",
      "        1.0       0.65      0.56      0.60      3700\n",
      "\n",
      "avg / total       0.81      0.82      0.81     15060\n",
      "\n"
     ]
    }
   ],
   "source": [
    "clf = sk.RandomForestClassifier(n_estimators=100, oob_score=True,min_samples_split=5)\n",
    "clf = clf.fit(x_train, y_train.greater_than_50k)\n",
    "\n",
    "y_pred = clf.predict(x_test)\n",
    "\n",
    "print pd.crosstab(y_test.greater_than_50k\n",
    "                  ,y_pred\n",
    "                  ,rownames = ['Actual']\n",
    "                  ,colnames = ['Predicted'])\n",
    "\n",
    "print '\\n \\n'\n",
    "\n",
    "print classification_report(y_test.greater_than_50k,y_pred)\n"
   ]
  },
  {
   "cell_type": "markdown",
   "metadata": {},
   "source": [
    "We increased the recall of 0 to 90% and of 1 to 56%, also the precision of 1 to 65%. Let's further fine tune it."
   ]
  },
  {
   "cell_type": "code",
   "execution_count": 68,
   "metadata": {
    "collapsed": false
   },
   "outputs": [
    {
     "name": "stdout",
     "output_type": "stream",
     "text": [
      "Predicted      0     1\n",
      "Actual                \n",
      "0          10453   907\n",
      "1           1621  2079\n",
      "\n",
      " \n",
      "\n",
      "             precision    recall  f1-score   support\n",
      "\n",
      "        0.0       0.87      0.92      0.89     11360\n",
      "        1.0       0.70      0.56      0.62      3700\n",
      "\n",
      "avg / total       0.82      0.83      0.83     15060\n",
      "\n"
     ]
    }
   ],
   "source": [
    "clf = sk.RandomForestClassifier(n_estimators=100, oob_score=True,min_samples_split=5, min_samples_leaf= 2)\n",
    "clf = clf.fit(x_train, y_train.greater_than_50k)\n",
    "\n",
    "y_pred = clf.predict(x_test)\n",
    "\n",
    "print pd.crosstab(y_test.greater_than_50k\n",
    "                  ,y_pred\n",
    "                  ,rownames = ['Actual']\n",
    "                  ,colnames = ['Predicted'])\n",
    "\n",
    "print '\\n \\n'\n",
    "\n",
    "print classification_report(y_test.greater_than_50k,y_pred)\n"
   ]
  },
  {
   "cell_type": "markdown",
   "metadata": {},
   "source": [
    "We increase the minimum number of samples in a newly created leaf to 2 and we see our recall jump to 92% for 0 and precision of 1 hitting 70%. "
   ]
  },
  {
   "cell_type": "markdown",
   "metadata": {},
   "source": [
    "This is a decent model and we can freeze it.\n",
    "\n",
    "Let's see the importance of the variables that is contributing to the prediction. We'll be using the feature_importances_ attribute of the clf object and using that we'll plot the important features"
   ]
  },
  {
   "cell_type": "code",
   "execution_count": 65,
   "metadata": {
    "collapsed": false
   },
   "outputs": [
    {
     "data": {
      "image/png": "[encoded data removed]",
      "text/plain": [
       "<matplotlib.figure.Figure at 0x25b04080>"
      ]
     },
     "metadata": {},
     "output_type": "display_data"
    }
   ],
   "source": [
    "model_ranks = pd.Series(clf.feature_importances_, index=x_train.columns, name='Importance').sort(ascending=False, inplace=False)\n",
    "model_ranks.index.name = 'Features'\n",
    "top_features = model_ranks.iloc[:31].sort(ascending=True, inplace=False)\n",
    "plt.figure(figsize=(15,7))\n",
    "ax = top_features.plot(kind='barh')\n",
    "_ = ax.set_title(\"Variable Ranking\")\n",
    "_ = ax.set_xlabel('Performance')\n",
    "_ = ax.set_yticklabels(top_features.index, fontsize=8)\n"
   ]
  },
  {
   "cell_type": "markdown",
   "metadata": {},
   "source": [
    "We can see that people who are married with a civilian spouse is a good very good indicator of earning more thatn 50K or not. This is followed by the age of the person then comes how many hours the person works. Also people who are never married is also a good indicator which would help in predicting more of people who are earning less than 50K."
   ]
  }
 ],
 "metadata": {
  "kernelspec": {
   "display_name": "Python 2",
   "language": "python",
   "name": "python2"
  },
  "language_info": {
   "codemirror_mode": {
    "name": "ipython",
    "version": 2
   },
   "file_extension": ".py",
   "mimetype": "text/x-python",
   "name": "python",
   "nbconvert_exporter": "python",
   "pygments_lexer": "ipython2",
   "version": "2.7.10"
  }
 },
 "nbformat": 4,
 "nbformat_minor": 0
}
