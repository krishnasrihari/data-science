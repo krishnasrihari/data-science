{
 "cells": [
  {
   "cell_type": "markdown",
   "metadata": {},
   "source": [
    "# Getting started with Data"
   ]
  },
  {
   "cell_type": "code",
   "execution_count": 1,
   "metadata": {
    "collapsed": false
   },
   "outputs": [],
   "source": [
    "import numpy as np\n",
    "import pandas as pd\n",
    "import json"
   ]
  },
  {
   "cell_type": "markdown",
   "metadata": {},
   "source": [
    "## The world of Arrays with Numpy"
   ]
  },
  {
   "cell_type": "markdown",
   "metadata": {},
   "source": [
    "Arrays are fundamental in processing data. Arrays are utilized to represent matrices which is heavily used in mathematics. Python by default comes with data structure like List which can be utilized for array operation but a python list on its own is not suitable to perform heavy mathematical operation as it is not optimized for it. \n",
    "Numpy is a wonderful python package by Travis Oliphant which has been created fundamentally for scientific computing. It helps in handling large  multi-dimensional arrays and matrices, along with a large library of high-level mathematical functions to operate on these arrays"
   ]
  },
  {
   "cell_type": "markdown",
   "metadata": {},
   "source": [
    "### Creating an Array"
   ]
  },
  {
   "cell_type": "code",
   "execution_count": 2,
   "metadata": {
    "collapsed": false
   },
   "outputs": [],
   "source": [
    "n_array = np.array([[0, 1, 2, 3],\n",
    "                 [4, 5, 6, 7],\n",
    "                 [8, 9, 10, 11]])"
   ]
  },
  {
   "cell_type": "markdown",
   "metadata": {},
   "source": [
    "The shape gives the size of each dimension of the array"
   ]
  },
  {
   "cell_type": "code",
   "execution_count": 3,
   "metadata": {
    "collapsed": false
   },
   "outputs": [
    {
     "data": {
      "text/plain": [
       "(3L, 4L)"
      ]
     },
     "execution_count": 3,
     "metadata": {},
     "output_type": "execute_result"
    }
   ],
   "source": [
    "n_array.shape"
   ]
  },
  {
   "cell_type": "markdown",
   "metadata": {},
   "source": [
    "The number of axes of the array"
   ]
  },
  {
   "cell_type": "code",
   "execution_count": 4,
   "metadata": {
    "collapsed": false
   },
   "outputs": [
    {
     "data": {
      "text/plain": [
       "2"
      ]
     },
     "execution_count": 4,
     "metadata": {},
     "output_type": "execute_result"
    }
   ],
   "source": [
    "n_array.ndim"
   ]
  },
  {
   "cell_type": "markdown",
   "metadata": {},
   "source": [
    "The number of elements"
   ]
  },
  {
   "cell_type": "code",
   "execution_count": 5,
   "metadata": {
    "collapsed": false
   },
   "outputs": [
    {
     "data": {
      "text/plain": [
       "12"
      ]
     },
     "execution_count": 5,
     "metadata": {},
     "output_type": "execute_result"
    }
   ],
   "source": [
    "n_array.size"
   ]
  },
  {
   "cell_type": "markdown",
   "metadata": {},
   "source": [
    "The datatype of the elements in the array"
   ]
  },
  {
   "cell_type": "code",
   "execution_count": 6,
   "metadata": {
    "collapsed": false
   },
   "outputs": [
    {
     "data": {
      "text/plain": [
       "'int32'"
      ]
     },
     "execution_count": 6,
     "metadata": {},
     "output_type": "execute_result"
    }
   ],
   "source": [
    "n_array.dtype.name"
   ]
  },
  {
   "cell_type": "markdown",
   "metadata": {},
   "source": [
    "### Mathematical Operations"
   ]
  },
  {
   "cell_type": "markdown",
   "metadata": {},
   "source": [
    "When you have an array of data, you would like to perform certain mathematical operations on it. Below are few of the important ones"
   ]
  },
  {
   "cell_type": "markdown",
   "metadata": {},
   "source": [
    "Subtracting two arrays"
   ]
  },
  {
   "cell_type": "code",
   "execution_count": 7,
   "metadata": {
    "collapsed": false
   },
   "outputs": [
    {
     "data": {
      "text/plain": [
       "array([10, 10, 10, 10])"
      ]
     },
     "execution_count": 7,
     "metadata": {},
     "output_type": "execute_result"
    }
   ],
   "source": [
    "a = np.array([11, 12, 13, 14])\n",
    "b = np.array([1, 2, 3, 4])\n",
    "c = a - b\n",
    "c\n"
   ]
  },
  {
   "cell_type": "markdown",
   "metadata": {},
   "source": [
    "Squaring the array"
   ]
  },
  {
   "cell_type": "code",
   "execution_count": 8,
   "metadata": {
    "collapsed": false
   },
   "outputs": [
    {
     "data": {
      "text/plain": [
       "array([ 1,  4,  9, 16])"
      ]
     },
     "execution_count": 8,
     "metadata": {},
     "output_type": "execute_result"
    }
   ],
   "source": [
    "b ** 2"
   ]
  },
  {
   "cell_type": "markdown",
   "metadata": {},
   "source": [
    "Trignometric function on the array"
   ]
  },
  {
   "cell_type": "code",
   "execution_count": 10,
   "metadata": {
    "collapsed": false
   },
   "outputs": [
    {
     "data": {
      "text/plain": [
       "array([ 0.54030231, -0.41614684, -0.9899925 , -0.65364362])"
      ]
     },
     "execution_count": 10,
     "metadata": {},
     "output_type": "execute_result"
    }
   ],
   "source": [
    "np.cos(b)"
   ]
  },
  {
   "cell_type": "markdown",
   "metadata": {},
   "source": [
    "Conditional Operation"
   ]
  },
  {
   "cell_type": "code",
   "execution_count": 11,
   "metadata": {
    "collapsed": false
   },
   "outputs": [
    {
     "data": {
      "text/plain": [
       "array([ True, False, False, False], dtype=bool)"
      ]
     },
     "execution_count": 11,
     "metadata": {},
     "output_type": "execute_result"
    }
   ],
   "source": [
    "b < 2"
   ]
  },
  {
   "cell_type": "markdown",
   "metadata": {},
   "source": [
    "Matrix Multiplication - Element wise product and dot product"
   ]
  },
  {
   "cell_type": "code",
   "execution_count": 13,
   "metadata": {
    "collapsed": false
   },
   "outputs": [
    {
     "data": {
      "text/plain": [
       "array([[5, 4],\n",
       "       [3, 4]])"
      ]
     },
     "execution_count": 13,
     "metadata": {},
     "output_type": "execute_result"
    }
   ],
   "source": [
    "A1 = np.array([[1, 1],\n",
    "            [0, 1]])\n",
    "\n",
    "A2 = np.array([[2, 0],\n",
    "            [3, 4]])\n",
    "\n",
    "A1 * A2\n",
    "np.dot(A1, A2)\n"
   ]
  },
  {
   "cell_type": "markdown",
   "metadata": {},
   "source": [
    "### Indexes and slicing  Selecting a single element"
   ]
  },
  {
   "cell_type": "code",
   "execution_count": 13,
   "metadata": {
    "collapsed": false
   },
   "outputs": [
    {
     "data": {
      "text/plain": [
       "1"
      ]
     },
     "execution_count": 13,
     "metadata": {},
     "output_type": "execute_result"
    }
   ],
   "source": [
    "n_array[0, 1]"
   ]
  },
  {
   "cell_type": "markdown",
   "metadata": {},
   "source": [
    "select range of values in a row"
   ]
  },
  {
   "cell_type": "code",
   "execution_count": 14,
   "metadata": {
    "collapsed": false
   },
   "outputs": [
    {
     "data": {
      "text/plain": [
       "array([0, 1, 2])"
      ]
     },
     "execution_count": 14,
     "metadata": {},
     "output_type": "execute_result"
    }
   ],
   "source": [
    "n_array[0, 0:3]"
   ]
  },
  {
   "cell_type": "markdown",
   "metadata": {},
   "source": [
    "selecting an entire row of values"
   ]
  },
  {
   "cell_type": "code",
   "execution_count": 15,
   "metadata": {
    "collapsed": false
   },
   "outputs": [
    {
     "data": {
      "text/plain": [
       "array([0, 1, 2, 3])"
      ]
     },
     "execution_count": 15,
     "metadata": {},
     "output_type": "execute_result"
    }
   ],
   "source": [
    "n_array[0, :]"
   ]
  },
  {
   "cell_type": "markdown",
   "metadata": {},
   "source": [
    "selecting an entire column of values"
   ]
  },
  {
   "cell_type": "code",
   "execution_count": 17,
   "metadata": {
    "collapsed": false
   },
   "outputs": [
    {
     "data": {
      "text/plain": [
       "array([1, 5, 9])"
      ]
     },
     "execution_count": 17,
     "metadata": {},
     "output_type": "execute_result"
    }
   ],
   "source": [
    "n_array[:, 1]"
   ]
  },
  {
   "cell_type": "markdown",
   "metadata": {},
   "source": [
    "Changing the shape of the array"
   ]
  },
  {
   "cell_type": "code",
   "execution_count": 14,
   "metadata": {
    "collapsed": false
   },
   "outputs": [
    {
     "data": {
      "text/plain": [
       "array([[ 0,  1],\n",
       "       [ 2,  3],\n",
       "       [ 4,  5],\n",
       "       [ 6,  7],\n",
       "       [ 8,  9],\n",
       "       [10, 11]])"
      ]
     },
     "execution_count": 14,
     "metadata": {},
     "output_type": "execute_result"
    }
   ],
   "source": [
    "n_array.ravel()\n",
    "\n",
    "n_array.shape = (6, 2)\n",
    "n_array\n",
    "\n"
   ]
  },
  {
   "cell_type": "code",
   "execution_count": 15,
   "metadata": {
    "collapsed": false
   },
   "outputs": [
    {
     "data": {
      "text/plain": [
       "array([[ 0,  2,  4,  6,  8, 10],\n",
       "       [ 1,  3,  5,  7,  9, 11]])"
      ]
     },
     "execution_count": 15,
     "metadata": {},
     "output_type": "execute_result"
    }
   ],
   "source": [
    "n_array.transpose()"
   ]
  },
  {
   "cell_type": "markdown",
   "metadata": {},
   "source": [
    "## Empowering Data Analysis with Pandas"
   ]
  },
  {
   "cell_type": "markdown",
   "metadata": {},
   "source": [
    "Pandas is an open source Python library specially designed for Data Analysis. It has been built on numpy and makes it easy to handle data. Numpy is a fairly low level tool which handles matrices really well and it can be seen similar to Matlab.\n",
    "Pandas brings the richness of R in the world of python to handle the data. It’s got efficient data structures to process the data, performs fast joins, read data from various sources to name a few."
   ]
  },
  {
   "cell_type": "markdown",
   "metadata": {},
   "source": [
    "Pandas Data Structure"
   ]
  },
  {
   "cell_type": "markdown",
   "metadata": {},
   "source": [
    "Pandas has essentially three data structures \n",
    "1. Series\n",
    "2. Data Frame\n",
    "3. Panel"
   ]
  },
  {
   "cell_type": "markdown",
   "metadata": {},
   "source": [
    "### Series"
   ]
  },
  {
   "cell_type": "markdown",
   "metadata": {},
   "source": [
    "Creating series from random numbers"
   ]
  },
  {
   "cell_type": "code",
   "execution_count": 17,
   "metadata": {
    "collapsed": false
   },
   "outputs": [
    {
     "data": {
      "text/plain": [
       "0    1.098757\n",
       "1    0.060494\n",
       "2   -0.346703\n",
       "3   -0.498025\n",
       "4   -0.482826\n",
       "dtype: float64"
      ]
     },
     "execution_count": 17,
     "metadata": {},
     "output_type": "execute_result"
    }
   ],
   "source": [
    "pd.Series(np.random.randn(5))"
   ]
  },
  {
   "cell_type": "markdown",
   "metadata": {},
   "source": [
    "Creating series with row labels"
   ]
  },
  {
   "cell_type": "code",
   "execution_count": 18,
   "metadata": {
    "collapsed": false
   },
   "outputs": [
    {
     "data": {
      "text/plain": [
       "a   -0.170402\n",
       "b   -0.532428\n",
       "c    0.823084\n",
       "d   -0.027543\n",
       "e    0.080242\n",
       "dtype: float64"
      ]
     },
     "execution_count": 18,
     "metadata": {},
     "output_type": "execute_result"
    }
   ],
   "source": [
    "pd.Series(np.random.randn(5), index=['a', 'b', 'c', 'd', 'e'])"
   ]
  },
  {
   "cell_type": "markdown",
   "metadata": {},
   "source": [
    "Creating series from dict"
   ]
  },
  {
   "cell_type": "code",
   "execution_count": 19,
   "metadata": {
    "collapsed": false
   },
   "outputs": [
    {
     "data": {
      "text/plain": [
       "A    10\n",
       "B    20\n",
       "C    30\n",
       "dtype: int64"
      ]
     },
     "execution_count": 19,
     "metadata": {},
     "output_type": "execute_result"
    }
   ],
   "source": [
    "d = {'A': 10, 'B': 20, 'C': 30}  \n",
    "pd.Series(d)"
   ]
  },
  {
   "cell_type": "markdown",
   "metadata": {},
   "source": [
    "### DataFrame"
   ]
  },
  {
   "cell_type": "markdown",
   "metadata": {},
   "source": [
    "Creating data frame from a dict of Series"
   ]
  },
  {
   "cell_type": "code",
   "execution_count": 20,
   "metadata": {
    "collapsed": false
   },
   "outputs": [
    {
     "data": {
      "text/html": [
       "<div>\n",
       "<table border=\"1\" class=\"dataframe\">\n",
       "  <thead>\n",
       "    <tr style=\"text-align: right;\">\n",
       "      <th></th>\n",
       "      <th>c1</th>\n",
       "      <th>c2</th>\n",
       "    </tr>\n",
       "  </thead>\n",
       "  <tbody>\n",
       "    <tr>\n",
       "      <th>0</th>\n",
       "      <td>A</td>\n",
       "      <td>1</td>\n",
       "    </tr>\n",
       "    <tr>\n",
       "      <th>1</th>\n",
       "      <td>B</td>\n",
       "      <td>2</td>\n",
       "    </tr>\n",
       "    <tr>\n",
       "      <th>2</th>\n",
       "      <td>C</td>\n",
       "      <td>3</td>\n",
       "    </tr>\n",
       "    <tr>\n",
       "      <th>3</th>\n",
       "      <td>NaN</td>\n",
       "      <td>4</td>\n",
       "    </tr>\n",
       "  </tbody>\n",
       "</table>\n",
       "</div>"
      ],
      "text/plain": [
       "    c1  c2\n",
       "0    A   1\n",
       "1    B   2\n",
       "2    C   3\n",
       "3  NaN   4"
      ]
     },
     "execution_count": 20,
     "metadata": {},
     "output_type": "execute_result"
    }
   ],
   "source": [
    "d = {'c1': pd.Series(['A', 'B', 'C']),\n",
    "     'c2': pd.Series([1, 2., 3., 4.])}\n",
    "\n",
    "df = pd.DataFrame(d)\n",
    "df"
   ]
  },
  {
   "cell_type": "markdown",
   "metadata": {},
   "source": [
    "Creating data frame from a dict of Lists"
   ]
  },
  {
   "cell_type": "code",
   "execution_count": 21,
   "metadata": {
    "collapsed": false
   },
   "outputs": [
    {
     "data": {
      "text/html": [
       "<div>\n",
       "<table border=\"1\" class=\"dataframe\">\n",
       "  <thead>\n",
       "    <tr style=\"text-align: right;\">\n",
       "      <th></th>\n",
       "      <th>c1</th>\n",
       "      <th>c2</th>\n",
       "    </tr>\n",
       "  </thead>\n",
       "  <tbody>\n",
       "    <tr>\n",
       "      <th>0</th>\n",
       "      <td>A</td>\n",
       "      <td>1</td>\n",
       "    </tr>\n",
       "    <tr>\n",
       "      <th>1</th>\n",
       "      <td>B</td>\n",
       "      <td>2</td>\n",
       "    </tr>\n",
       "    <tr>\n",
       "      <th>2</th>\n",
       "      <td>C</td>\n",
       "      <td>3</td>\n",
       "    </tr>\n",
       "    <tr>\n",
       "      <th>3</th>\n",
       "      <td>D</td>\n",
       "      <td>4</td>\n",
       "    </tr>\n",
       "  </tbody>\n",
       "</table>\n",
       "</div>"
      ],
      "text/plain": [
       "  c1  c2\n",
       "0  A   1\n",
       "1  B   2\n",
       "2  C   3\n",
       "3  D   4"
      ]
     },
     "execution_count": 21,
     "metadata": {},
     "output_type": "execute_result"
    }
   ],
   "source": [
    "d = {'c1': ['A', 'B', 'C', 'D'],\n",
    "     'c2': [1, 2., 3., 4.]}\n",
    "\n",
    "df = pd.DataFrame(d)\n",
    "df"
   ]
  },
  {
   "cell_type": "markdown",
   "metadata": {},
   "source": [
    "### Panel"
   ]
  },
  {
   "cell_type": "markdown",
   "metadata": {},
   "source": [
    "Creating a Panel Data"
   ]
  },
  {
   "cell_type": "code",
   "execution_count": 22,
   "metadata": {
    "collapsed": false
   },
   "outputs": [
    {
     "data": {
      "text/plain": [
       "<class 'pandas.core.panel.Panel'>\n",
       "Dimensions: 2 (items) x 4 (major_axis) x 3 (minor_axis)\n",
       "Items axis: Item1 to Item2\n",
       "Major_axis axis: 0 to 3\n",
       "Minor_axis axis: 0 to 2"
      ]
     },
     "execution_count": 22,
     "metadata": {},
     "output_type": "execute_result"
    }
   ],
   "source": [
    "d = {'Item1': pd.DataFrame(np.random.randn(4, 3)),\n",
    "     'Item2': pd.DataFrame(np.random.randn(4, 2))}\n",
    "\n",
    "pd.Panel(d)"
   ]
  },
  {
   "cell_type": "markdown",
   "metadata": {},
   "source": [
    "## Inputting and Exporting Data"
   ]
  },
  {
   "cell_type": "markdown",
   "metadata": {},
   "source": [
    "The data is persisted in various forms like csv,tsv, databases etc. Pandas makes it convenient to read data from these formats or to export to these formats. We’ll use a dataset which contains the weight statistics of the school students from United states of America"
   ]
  },
  {
   "cell_type": "markdown",
   "metadata": {},
   "source": [
    "### CSV"
   ]
  },
  {
   "cell_type": "markdown",
   "metadata": {},
   "source": [
    "To read data from a csv file, the following command can be used"
   ]
  },
  {
   "cell_type": "code",
   "execution_count": 9,
   "metadata": {
    "collapsed": false
   },
   "outputs": [
    {
     "data": {
      "text/plain": [
       "0    RAVENA COEYMANS SELKIRK CENTRAL SCHOOL DISTRICT\n",
       "1    RAVENA COEYMANS SELKIRK CENTRAL SCHOOL DISTRICT\n",
       "2    RAVENA COEYMANS SELKIRK CENTRAL SCHOOL DISTRICT\n",
       "3                        COHOES CITY SCHOOL DISTRICT\n",
       "4                        COHOES CITY SCHOOL DISTRICT\n",
       "Name: AREA NAME, dtype: object"
      ]
     },
     "execution_count": 9,
     "metadata": {},
     "output_type": "execute_result"
    }
   ],
   "source": [
    "d = pd.read_csv('Data/Student_Weight_Status_Category_Reporting_Results__Beginning_2010.csv')\n",
    "d[0:5]['AREA NAME']"
   ]
  },
  {
   "cell_type": "markdown",
   "metadata": {},
   "source": [
    " Writing data to a csv"
   ]
  },
  {
   "cell_type": "code",
   "execution_count": 23,
   "metadata": {
    "collapsed": false
   },
   "outputs": [],
   "source": [
    "d = {'c1': pd.Series(['A', 'B', 'C']),\n",
    "     'c2': pd.Series([1, 2., 3., 4.])}\n",
    "\n",
    "df = pd.DataFrame(d)\n",
    "df.to_csv('sample_data.csv')"
   ]
  },
  {
   "cell_type": "markdown",
   "metadata": {},
   "source": [
    "### Excel"
   ]
  },
  {
   "cell_type": "markdown",
   "metadata": {},
   "source": [
    " Reading data from an excel file"
   ]
  },
  {
   "cell_type": "code",
   "execution_count": 24,
   "metadata": {
    "collapsed": false
   },
   "outputs": [
    {
     "data": {
      "text/html": [
       "<div>\n",
       "<table border=\"1\" class=\"dataframe\">\n",
       "  <thead>\n",
       "    <tr style=\"text-align: right;\">\n",
       "      <th></th>\n",
       "      <th>LOCATION CODE</th>\n",
       "      <th>COUNTY</th>\n",
       "      <th>AREA NAME</th>\n",
       "      <th>REGION</th>\n",
       "      <th>SCHOOL YEARS</th>\n",
       "      <th>NO. OVERWEIGHT</th>\n",
       "      <th>PCT OVERWEIGHT</th>\n",
       "      <th>NO. OBESE</th>\n",
       "      <th>PCT OBESE</th>\n",
       "      <th>NO. OVERWEIGHT OR OBESE</th>\n",
       "      <th>PCT OVERWEIGHT OR OBESE</th>\n",
       "      <th>GRADE LEVEL</th>\n",
       "      <th>AREA TYPE</th>\n",
       "      <th>STREET ADDRESS</th>\n",
       "      <th>CITY</th>\n",
       "      <th>STATE</th>\n",
       "      <th>ZIP CODE</th>\n",
       "      <th>Location 1</th>\n",
       "    </tr>\n",
       "  </thead>\n",
       "  <tbody>\n",
       "    <tr>\n",
       "      <th>0</th>\n",
       "      <td>10402</td>\n",
       "      <td>ALBANY</td>\n",
       "      <td>RAVENA COEYMANS SELKIRK CENTRAL SCHOOL DISTRICT</td>\n",
       "      <td>NORTHEASTERN NEW YORK</td>\n",
       "      <td>2012-2013</td>\n",
       "      <td>124</td>\n",
       "      <td>0.185</td>\n",
       "      <td>139</td>\n",
       "      <td>0.208</td>\n",
       "      <td>263</td>\n",
       "      <td>0.393</td>\n",
       "      <td>DISTRICT TOTAL</td>\n",
       "      <td>SCHOOL DISTRICT</td>\n",
       "      <td>15 MOUNTAIN RD</td>\n",
       "      <td>RAVENA</td>\n",
       "      <td>NY</td>\n",
       "      <td>12143</td>\n",
       "      <td>15 MOUNTAIN RD\\nRAVENA, NY 12143\\n(42.47227638...</td>\n",
       "    </tr>\n",
       "    <tr>\n",
       "      <th>1</th>\n",
       "      <td>10402</td>\n",
       "      <td>ALBANY</td>\n",
       "      <td>RAVENA COEYMANS SELKIRK CENTRAL SCHOOL DISTRICT</td>\n",
       "      <td>NORTHEASTERN NEW YORK</td>\n",
       "      <td>2012-2013</td>\n",
       "      <td>74</td>\n",
       "      <td>0.192</td>\n",
       "      <td>72</td>\n",
       "      <td>0.187</td>\n",
       "      <td>146</td>\n",
       "      <td>0.379</td>\n",
       "      <td>ELEMENTARY</td>\n",
       "      <td>SCHOOL DISTRICT</td>\n",
       "      <td>15 MOUNTAIN RD</td>\n",
       "      <td>RAVENA</td>\n",
       "      <td>NY</td>\n",
       "      <td>12143</td>\n",
       "      <td>15 MOUNTAIN RD\\nRAVENA, NY 12143\\n(42.47227638...</td>\n",
       "    </tr>\n",
       "    <tr>\n",
       "      <th>2</th>\n",
       "      <td>10402</td>\n",
       "      <td>ALBANY</td>\n",
       "      <td>RAVENA COEYMANS SELKIRK CENTRAL SCHOOL DISTRICT</td>\n",
       "      <td>NORTHEASTERN NEW YORK</td>\n",
       "      <td>2012-2013</td>\n",
       "      <td>50</td>\n",
       "      <td>0.176</td>\n",
       "      <td>67</td>\n",
       "      <td>0.236</td>\n",
       "      <td>117</td>\n",
       "      <td>0.412</td>\n",
       "      <td>MIDDLE/HIGH</td>\n",
       "      <td>SCHOOL DISTRICT</td>\n",
       "      <td>15 MOUNTAIN RD</td>\n",
       "      <td>RAVENA</td>\n",
       "      <td>NY</td>\n",
       "      <td>12143</td>\n",
       "      <td>15 MOUNTAIN RD\\nRAVENA, NY 12143\\n(42.47227638...</td>\n",
       "    </tr>\n",
       "    <tr>\n",
       "      <th>3</th>\n",
       "      <td>10500</td>\n",
       "      <td>ALBANY</td>\n",
       "      <td>COHOES CITY SCHOOL DISTRICT</td>\n",
       "      <td>NORTHEASTERN NEW YORK</td>\n",
       "      <td>2012-2013</td>\n",
       "      <td>84</td>\n",
       "      <td>0.172</td>\n",
       "      <td>124</td>\n",
       "      <td>0.254</td>\n",
       "      <td>208</td>\n",
       "      <td>0.425</td>\n",
       "      <td>DISTRICT TOTAL</td>\n",
       "      <td>SCHOOL DISTRICT</td>\n",
       "      <td>7 BEVAN ST</td>\n",
       "      <td>COHOES</td>\n",
       "      <td>NY</td>\n",
       "      <td>12047</td>\n",
       "      <td>7 BEVAN ST\\nCOHOES, NY 12047\\n(42.771285452000...</td>\n",
       "    </tr>\n",
       "    <tr>\n",
       "      <th>4</th>\n",
       "      <td>10500</td>\n",
       "      <td>ALBANY</td>\n",
       "      <td>COHOES CITY SCHOOL DISTRICT</td>\n",
       "      <td>NORTHEASTERN NEW YORK</td>\n",
       "      <td>2012-2013</td>\n",
       "      <td>58</td>\n",
       "      <td>0.161</td>\n",
       "      <td>89</td>\n",
       "      <td>0.247</td>\n",
       "      <td>147</td>\n",
       "      <td>0.408</td>\n",
       "      <td>ELEMENTARY</td>\n",
       "      <td>SCHOOL DISTRICT</td>\n",
       "      <td>7 BEVAN ST</td>\n",
       "      <td>COHOES</td>\n",
       "      <td>NY</td>\n",
       "      <td>12047</td>\n",
       "      <td>7 BEVAN ST\\nCOHOES, NY 12047\\n(42.771285452000...</td>\n",
       "    </tr>\n",
       "  </tbody>\n",
       "</table>\n",
       "</div>"
      ],
      "text/plain": [
       "   LOCATION CODE  COUNTY                                        AREA NAME  \\\n",
       "0          10402  ALBANY  RAVENA COEYMANS SELKIRK CENTRAL SCHOOL DISTRICT   \n",
       "1          10402  ALBANY  RAVENA COEYMANS SELKIRK CENTRAL SCHOOL DISTRICT   \n",
       "2          10402  ALBANY  RAVENA COEYMANS SELKIRK CENTRAL SCHOOL DISTRICT   \n",
       "3          10500  ALBANY                      COHOES CITY SCHOOL DISTRICT   \n",
       "4          10500  ALBANY                      COHOES CITY SCHOOL DISTRICT   \n",
       "\n",
       "                  REGION SCHOOL YEARS  NO. OVERWEIGHT  PCT OVERWEIGHT  \\\n",
       "0  NORTHEASTERN NEW YORK    2012-2013             124           0.185   \n",
       "1  NORTHEASTERN NEW YORK    2012-2013              74           0.192   \n",
       "2  NORTHEASTERN NEW YORK    2012-2013              50           0.176   \n",
       "3  NORTHEASTERN NEW YORK    2012-2013              84           0.172   \n",
       "4  NORTHEASTERN NEW YORK    2012-2013              58           0.161   \n",
       "\n",
       "   NO. OBESE  PCT OBESE  NO. OVERWEIGHT OR OBESE  PCT OVERWEIGHT OR OBESE  \\\n",
       "0        139      0.208                      263                    0.393   \n",
       "1         72      0.187                      146                    0.379   \n",
       "2         67      0.236                      117                    0.412   \n",
       "3        124      0.254                      208                    0.425   \n",
       "4         89      0.247                      147                    0.408   \n",
       "\n",
       "      GRADE LEVEL        AREA TYPE  STREET ADDRESS    CITY STATE  ZIP CODE  \\\n",
       "0  DISTRICT TOTAL  SCHOOL DISTRICT  15 MOUNTAIN RD  RAVENA    NY     12143   \n",
       "1      ELEMENTARY  SCHOOL DISTRICT  15 MOUNTAIN RD  RAVENA    NY     12143   \n",
       "2     MIDDLE/HIGH  SCHOOL DISTRICT  15 MOUNTAIN RD  RAVENA    NY     12143   \n",
       "3  DISTRICT TOTAL  SCHOOL DISTRICT      7 BEVAN ST  COHOES    NY     12047   \n",
       "4      ELEMENTARY  SCHOOL DISTRICT      7 BEVAN ST  COHOES    NY     12047   \n",
       "\n",
       "                                          Location 1  \n",
       "0  15 MOUNTAIN RD\\nRAVENA, NY 12143\\n(42.47227638...  \n",
       "1  15 MOUNTAIN RD\\nRAVENA, NY 12143\\n(42.47227638...  \n",
       "2  15 MOUNTAIN RD\\nRAVENA, NY 12143\\n(42.47227638...  \n",
       "3  7 BEVAN ST\\nCOHOES, NY 12047\\n(42.771285452000...  \n",
       "4  7 BEVAN ST\\nCOHOES, NY 12047\\n(42.771285452000...  "
      ]
     },
     "execution_count": 24,
     "metadata": {},
     "output_type": "execute_result"
    }
   ],
   "source": [
    "d = pd.read_excel('Data/Student_Weight_Status_Category_Reporting_Results__Beginning_2010.xls')\n",
    "d[0:5]"
   ]
  },
  {
   "cell_type": "markdown",
   "metadata": {},
   "source": [
    "Writing to Excel File"
   ]
  },
  {
   "cell_type": "code",
   "execution_count": 25,
   "metadata": {
    "collapsed": false
   },
   "outputs": [],
   "source": [
    "df.to_excel('sample_data.xls')"
   ]
  },
  {
   "cell_type": "markdown",
   "metadata": {},
   "source": [
    "### JSON"
   ]
  },
  {
   "cell_type": "markdown",
   "metadata": {},
   "source": [
    "Reading from json"
   ]
  },
  {
   "cell_type": "code",
   "execution_count": 26,
   "metadata": {
    "collapsed": false
   },
   "outputs": [],
   "source": [
    "json_data = open('Data/Student_Weight_Status_Category_Reporting_Results__Beginning_2010.json')\n",
    "data = json.load(json_data)\n",
    "json_data.close()"
   ]
  },
  {
   "cell_type": "markdown",
   "metadata": {},
   "source": [
    "## Data Cleansing"
   ]
  },
  {
   "cell_type": "markdown",
   "metadata": {},
   "source": [
    "### Handling missing data"
   ]
  },
  {
   "cell_type": "markdown",
   "metadata": {},
   "source": [
    "checking if an instance is null"
   ]
  },
  {
   "cell_type": "code",
   "execution_count": 27,
   "metadata": {
    "collapsed": false
   },
   "outputs": [
    {
     "data": {
      "text/plain": [
       "0       False\n",
       "1       False\n",
       "2       False\n",
       "3       False\n",
       "4       False\n",
       "5       False\n",
       "6       False\n",
       "7       False\n",
       "8       False\n",
       "9       False\n",
       "10      False\n",
       "11      False\n",
       "12      False\n",
       "13      False\n",
       "14      False\n",
       "15      False\n",
       "16      False\n",
       "17      False\n",
       "18      False\n",
       "19      False\n",
       "20      False\n",
       "21      False\n",
       "22      False\n",
       "23      False\n",
       "24      False\n",
       "25      False\n",
       "26      False\n",
       "27      False\n",
       "28      False\n",
       "29      False\n",
       "        ...  \n",
       "3240    False\n",
       "3241    False\n",
       "3242    False\n",
       "3243    False\n",
       "3244    False\n",
       "3245    False\n",
       "3246    False\n",
       "3247    False\n",
       "3248    False\n",
       "3249    False\n",
       "3250    False\n",
       "3251    False\n",
       "3252    False\n",
       "3253    False\n",
       "3254    False\n",
       "3255    False\n",
       "3256    False\n",
       "3257    False\n",
       "3258    False\n",
       "3259    False\n",
       "3260    False\n",
       "3261    False\n",
       "3262    False\n",
       "3263    False\n",
       "3264    False\n",
       "3265    False\n",
       "3266    False\n",
       "3267     True\n",
       "3268     True\n",
       "3269     True\n",
       "Name: Location 1, dtype: bool"
      ]
     },
     "execution_count": 27,
     "metadata": {},
     "output_type": "execute_result"
    }
   ],
   "source": [
    "d = pd.read_csv('Data/Student_Weight_Status_Category_Reporting_Results__Beginning_2010.csv')\n",
    "d['Location 1'].isnull()"
   ]
  },
  {
   "cell_type": "markdown",
   "metadata": {},
   "source": [
    "Aggregating to count the null instances"
   ]
  },
  {
   "cell_type": "code",
   "execution_count": 28,
   "metadata": {
    "collapsed": false
   },
   "outputs": [
    {
     "data": {
      "text/plain": [
       "False    3246\n",
       "True       24\n",
       "dtype: int64"
      ]
     },
     "execution_count": 28,
     "metadata": {},
     "output_type": "execute_result"
    }
   ],
   "source": [
    "d['Location 1'].isnull().value_counts()"
   ]
  },
  {
   "cell_type": "markdown",
   "metadata": {},
   "source": [
    "removing the missing values"
   ]
  },
  {
   "cell_type": "code",
   "execution_count": 39,
   "metadata": {
    "collapsed": false
   },
   "outputs": [
    {
     "data": {
      "text/plain": [
       "0     15 MOUNTAIN RD\\nRAVENA, NY 12143\\n(42.47227638...\n",
       "1     15 MOUNTAIN RD\\nRAVENA, NY 12143\\n(42.47227638...\n",
       "2     15 MOUNTAIN RD\\nRAVENA, NY 12143\\n(42.47227638...\n",
       "3     7 BEVAN ST\\nCOHOES, NY 12047\\n(42.771285452000...\n",
       "4     7 BEVAN ST\\nCOHOES, NY 12047\\n(42.771285452000...\n",
       "5     7 BEVAN ST\\nCOHOES, NY 12047\\n(42.771285452000...\n",
       "6     102 LORALEE DR\\nALBANY, NY 12205\\n(42.73352407...\n",
       "7     102 LORALEE DR\\nALBANY, NY 12205\\n(42.73352407...\n",
       "8     102 LORALEE DR\\nALBANY, NY 12205\\n(42.73352407...\n",
       "9     91 FIDDLERS LN\\nLATHAM, NY 12110\\n(42.72935391...\n",
       "10    91 FIDDLERS LN\\nLATHAM, NY 12110\\n(42.72935391...\n",
       "11    91 FIDDLERS LN\\nLATHAM, NY 12110\\n(42.72935391...\n",
       "12    171 HUDSON AVE\\nGREEN ISLAND, NY 12183\\n(42.74...\n",
       "13    171 HUDSON AVE\\nGREEN ISLAND, NY 12183\\n(42.74...\n",
       "14    171 HUDSON AVE\\nGREEN ISLAND, NY 12183\\n(42.74...\n",
       "...\n",
       "3252    (42.8213, -78.0944)\n",
       "3253    (42.8213, -78.0944)\n",
       "3254    (42.8213, -78.0944)\n",
       "3255     (42.7236, -78.003)\n",
       "3256     (42.7236, -78.003)\n",
       "3257     (42.7236, -78.003)\n",
       "3258    (42.7403, -78.1382)\n",
       "3259    (42.7403, -78.1382)\n",
       "3260    (42.7403, -78.1382)\n",
       "3261     (42.6671, -77.063)\n",
       "3262     (42.6671, -77.063)\n",
       "3263     (42.6671, -77.063)\n",
       "3264    (42.5263, -76.9771)\n",
       "3265    (42.5263, -76.9771)\n",
       "3266    (42.5263, -76.9771)\n",
       "Name: Location 1, Length: 3246, dtype: object"
      ]
     },
     "execution_count": 39,
     "metadata": {},
     "output_type": "execute_result"
    }
   ],
   "source": [
    "d['Location 1'].dropna()"
   ]
  },
  {
   "cell_type": "markdown",
   "metadata": {},
   "source": [
    "Removing all na instances"
   ]
  },
  {
   "cell_type": "code",
   "execution_count": 40,
   "metadata": {
    "collapsed": false
   },
   "outputs": [],
   "source": [
    "d = d.dropna(how='any')"
   ]
  },
  {
   "cell_type": "markdown",
   "metadata": {},
   "source": [
    "### Filling the missing data"
   ]
  },
  {
   "cell_type": "markdown",
   "metadata": {},
   "source": [
    "Let's create a dataframe with some values"
   ]
  },
  {
   "cell_type": "code",
   "execution_count": 32,
   "metadata": {
    "collapsed": false
   },
   "outputs": [
    {
     "data": {
      "text/html": [
       "<div>\n",
       "<table border=\"1\" class=\"dataframe\">\n",
       "  <thead>\n",
       "    <tr style=\"text-align: right;\">\n",
       "      <th></th>\n",
       "      <th>X</th>\n",
       "      <th>Y</th>\n",
       "      <th>Z</th>\n",
       "    </tr>\n",
       "  </thead>\n",
       "  <tbody>\n",
       "    <tr>\n",
       "      <th>a0</th>\n",
       "      <td>-1.193371</td>\n",
       "      <td>0.912654</td>\n",
       "      <td>-0.780461</td>\n",
       "    </tr>\n",
       "    <tr>\n",
       "      <th>a10</th>\n",
       "      <td>1.413044</td>\n",
       "      <td>0.615997</td>\n",
       "      <td>0.947334</td>\n",
       "    </tr>\n",
       "    <tr>\n",
       "      <th>a20</th>\n",
       "      <td>1.583516</td>\n",
       "      <td>1.388921</td>\n",
       "      <td>0.458771</td>\n",
       "    </tr>\n",
       "    <tr>\n",
       "      <th>a30</th>\n",
       "      <td>0.479579</td>\n",
       "      <td>1.427625</td>\n",
       "      <td>1.407924</td>\n",
       "    </tr>\n",
       "    <tr>\n",
       "      <th>a40</th>\n",
       "      <td>0.455510</td>\n",
       "      <td>-0.880937</td>\n",
       "      <td>1.375555</td>\n",
       "    </tr>\n",
       "  </tbody>\n",
       "</table>\n",
       "</div>"
      ],
      "text/plain": [
       "            X         Y         Z\n",
       "a0  -1.193371  0.912654 -0.780461\n",
       "a10  1.413044  0.615997  0.947334\n",
       "a20  1.583516  1.388921  0.458771\n",
       "a30  0.479579  1.427625  1.407924\n",
       "a40  0.455510 -0.880937  1.375555"
      ]
     },
     "execution_count": 32,
     "metadata": {},
     "output_type": "execute_result"
    }
   ],
   "source": [
    "df = pd.DataFrame(np.random.randn(5, 3), index=['a0', 'a10', 'a20', 'a30', 'a40'],\n",
    "                  columns=['X', 'Y', 'Z'])\n",
    "df"
   ]
  },
  {
   "cell_type": "markdown",
   "metadata": {},
   "source": [
    "Let's add some more values which will have null values"
   ]
  },
  {
   "cell_type": "code",
   "execution_count": 34,
   "metadata": {
    "collapsed": false
   },
   "outputs": [
    {
     "data": {
      "text/html": [
       "<div>\n",
       "<table border=\"1\" class=\"dataframe\">\n",
       "  <thead>\n",
       "    <tr style=\"text-align: right;\">\n",
       "      <th></th>\n",
       "      <th>X</th>\n",
       "      <th>Y</th>\n",
       "      <th>Z</th>\n",
       "    </tr>\n",
       "  </thead>\n",
       "  <tbody>\n",
       "    <tr>\n",
       "      <th>a0</th>\n",
       "      <td>-1.193371</td>\n",
       "      <td>0.912654</td>\n",
       "      <td>-0.780461</td>\n",
       "    </tr>\n",
       "    <tr>\n",
       "      <th>a1</th>\n",
       "      <td>NaN</td>\n",
       "      <td>NaN</td>\n",
       "      <td>NaN</td>\n",
       "    </tr>\n",
       "    <tr>\n",
       "      <th>a10</th>\n",
       "      <td>1.413044</td>\n",
       "      <td>0.615997</td>\n",
       "      <td>0.947334</td>\n",
       "    </tr>\n",
       "    <tr>\n",
       "      <th>a11</th>\n",
       "      <td>NaN</td>\n",
       "      <td>NaN</td>\n",
       "      <td>NaN</td>\n",
       "    </tr>\n",
       "    <tr>\n",
       "      <th>a20</th>\n",
       "      <td>1.583516</td>\n",
       "      <td>1.388921</td>\n",
       "      <td>0.458771</td>\n",
       "    </tr>\n",
       "    <tr>\n",
       "      <th>a21</th>\n",
       "      <td>NaN</td>\n",
       "      <td>NaN</td>\n",
       "      <td>NaN</td>\n",
       "    </tr>\n",
       "    <tr>\n",
       "      <th>a30</th>\n",
       "      <td>0.479579</td>\n",
       "      <td>1.427625</td>\n",
       "      <td>1.407924</td>\n",
       "    </tr>\n",
       "    <tr>\n",
       "      <th>a31</th>\n",
       "      <td>NaN</td>\n",
       "      <td>NaN</td>\n",
       "      <td>NaN</td>\n",
       "    </tr>\n",
       "    <tr>\n",
       "      <th>a40</th>\n",
       "      <td>0.455510</td>\n",
       "      <td>-0.880937</td>\n",
       "      <td>1.375555</td>\n",
       "    </tr>\n",
       "    <tr>\n",
       "      <th>a41</th>\n",
       "      <td>NaN</td>\n",
       "      <td>NaN</td>\n",
       "      <td>NaN</td>\n",
       "    </tr>\n",
       "  </tbody>\n",
       "</table>\n",
       "</div>"
      ],
      "text/plain": [
       "            X         Y         Z\n",
       "a0  -1.193371  0.912654 -0.780461\n",
       "a1        NaN       NaN       NaN\n",
       "a10  1.413044  0.615997  0.947334\n",
       "a11       NaN       NaN       NaN\n",
       "a20  1.583516  1.388921  0.458771\n",
       "a21       NaN       NaN       NaN\n",
       "a30  0.479579  1.427625  1.407924\n",
       "a31       NaN       NaN       NaN\n",
       "a40  0.455510 -0.880937  1.375555\n",
       "a41       NaN       NaN       NaN"
      ]
     },
     "execution_count": 34,
     "metadata": {},
     "output_type": "execute_result"
    }
   ],
   "source": [
    "df2 = df.reindex(['a0', 'a1', 'a10', 'a11', 'a20', 'a21', 'a30', 'a31', 'a40','a41'])\n",
    "df2"
   ]
  },
  {
   "cell_type": "markdown",
   "metadata": {},
   "source": [
    "Filling with a zero value"
   ]
  },
  {
   "cell_type": "code",
   "execution_count": 36,
   "metadata": {
    "collapsed": false
   },
   "outputs": [
    {
     "data": {
      "text/html": [
       "<div>\n",
       "<table border=\"1\" class=\"dataframe\">\n",
       "  <thead>\n",
       "    <tr style=\"text-align: right;\">\n",
       "      <th></th>\n",
       "      <th>X</th>\n",
       "      <th>Y</th>\n",
       "      <th>Z</th>\n",
       "    </tr>\n",
       "  </thead>\n",
       "  <tbody>\n",
       "    <tr>\n",
       "      <th>a0</th>\n",
       "      <td>-1.193371</td>\n",
       "      <td>0.912654</td>\n",
       "      <td>-0.780461</td>\n",
       "    </tr>\n",
       "    <tr>\n",
       "      <th>a1</th>\n",
       "      <td>0.000000</td>\n",
       "      <td>0.000000</td>\n",
       "      <td>0.000000</td>\n",
       "    </tr>\n",
       "    <tr>\n",
       "      <th>a10</th>\n",
       "      <td>1.413044</td>\n",
       "      <td>0.615997</td>\n",
       "      <td>0.947334</td>\n",
       "    </tr>\n",
       "    <tr>\n",
       "      <th>a11</th>\n",
       "      <td>0.000000</td>\n",
       "      <td>0.000000</td>\n",
       "      <td>0.000000</td>\n",
       "    </tr>\n",
       "    <tr>\n",
       "      <th>a20</th>\n",
       "      <td>1.583516</td>\n",
       "      <td>1.388921</td>\n",
       "      <td>0.458771</td>\n",
       "    </tr>\n",
       "    <tr>\n",
       "      <th>a21</th>\n",
       "      <td>0.000000</td>\n",
       "      <td>0.000000</td>\n",
       "      <td>0.000000</td>\n",
       "    </tr>\n",
       "    <tr>\n",
       "      <th>a30</th>\n",
       "      <td>0.479579</td>\n",
       "      <td>1.427625</td>\n",
       "      <td>1.407924</td>\n",
       "    </tr>\n",
       "    <tr>\n",
       "      <th>a31</th>\n",
       "      <td>0.000000</td>\n",
       "      <td>0.000000</td>\n",
       "      <td>0.000000</td>\n",
       "    </tr>\n",
       "    <tr>\n",
       "      <th>a40</th>\n",
       "      <td>0.455510</td>\n",
       "      <td>-0.880937</td>\n",
       "      <td>1.375555</td>\n",
       "    </tr>\n",
       "    <tr>\n",
       "      <th>a41</th>\n",
       "      <td>0.000000</td>\n",
       "      <td>0.000000</td>\n",
       "      <td>0.000000</td>\n",
       "    </tr>\n",
       "  </tbody>\n",
       "</table>\n",
       "</div>"
      ],
      "text/plain": [
       "            X         Y         Z\n",
       "a0  -1.193371  0.912654 -0.780461\n",
       "a1   0.000000  0.000000  0.000000\n",
       "a10  1.413044  0.615997  0.947334\n",
       "a11  0.000000  0.000000  0.000000\n",
       "a20  1.583516  1.388921  0.458771\n",
       "a21  0.000000  0.000000  0.000000\n",
       "a30  0.479579  1.427625  1.407924\n",
       "a31  0.000000  0.000000  0.000000\n",
       "a40  0.455510 -0.880937  1.375555\n",
       "a41  0.000000  0.000000  0.000000"
      ]
     },
     "execution_count": 36,
     "metadata": {},
     "output_type": "execute_result"
    }
   ],
   "source": [
    "df2.fillna(0)"
   ]
  },
  {
   "cell_type": "markdown",
   "metadata": {},
   "source": [
    "Filling with forward propagation"
   ]
  },
  {
   "cell_type": "code",
   "execution_count": 38,
   "metadata": {
    "collapsed": false
   },
   "outputs": [
    {
     "data": {
      "text/html": [
       "<div>\n",
       "<table border=\"1\" class=\"dataframe\">\n",
       "  <thead>\n",
       "    <tr style=\"text-align: right;\">\n",
       "      <th></th>\n",
       "      <th>X</th>\n",
       "      <th>Y</th>\n",
       "      <th>Z</th>\n",
       "    </tr>\n",
       "  </thead>\n",
       "  <tbody>\n",
       "    <tr>\n",
       "      <th>a0</th>\n",
       "      <td>-1.193371</td>\n",
       "      <td>0.912654</td>\n",
       "      <td>-0.780461</td>\n",
       "    </tr>\n",
       "    <tr>\n",
       "      <th>a1</th>\n",
       "      <td>-1.193371</td>\n",
       "      <td>0.912654</td>\n",
       "      <td>-0.780461</td>\n",
       "    </tr>\n",
       "    <tr>\n",
       "      <th>a10</th>\n",
       "      <td>1.413044</td>\n",
       "      <td>0.615997</td>\n",
       "      <td>0.947334</td>\n",
       "    </tr>\n",
       "    <tr>\n",
       "      <th>a11</th>\n",
       "      <td>1.413044</td>\n",
       "      <td>0.615997</td>\n",
       "      <td>0.947334</td>\n",
       "    </tr>\n",
       "    <tr>\n",
       "      <th>a20</th>\n",
       "      <td>1.583516</td>\n",
       "      <td>1.388921</td>\n",
       "      <td>0.458771</td>\n",
       "    </tr>\n",
       "    <tr>\n",
       "      <th>a21</th>\n",
       "      <td>1.583516</td>\n",
       "      <td>1.388921</td>\n",
       "      <td>0.458771</td>\n",
       "    </tr>\n",
       "    <tr>\n",
       "      <th>a30</th>\n",
       "      <td>0.479579</td>\n",
       "      <td>1.427625</td>\n",
       "      <td>1.407924</td>\n",
       "    </tr>\n",
       "    <tr>\n",
       "      <th>a31</th>\n",
       "      <td>0.479579</td>\n",
       "      <td>1.427625</td>\n",
       "      <td>1.407924</td>\n",
       "    </tr>\n",
       "    <tr>\n",
       "      <th>a40</th>\n",
       "      <td>0.455510</td>\n",
       "      <td>-0.880937</td>\n",
       "      <td>1.375555</td>\n",
       "    </tr>\n",
       "    <tr>\n",
       "      <th>a41</th>\n",
       "      <td>0.455510</td>\n",
       "      <td>-0.880937</td>\n",
       "      <td>1.375555</td>\n",
       "    </tr>\n",
       "  </tbody>\n",
       "</table>\n",
       "</div>"
      ],
      "text/plain": [
       "            X         Y         Z\n",
       "a0  -1.193371  0.912654 -0.780461\n",
       "a1  -1.193371  0.912654 -0.780461\n",
       "a10  1.413044  0.615997  0.947334\n",
       "a11  1.413044  0.615997  0.947334\n",
       "a20  1.583516  1.388921  0.458771\n",
       "a21  1.583516  1.388921  0.458771\n",
       "a30  0.479579  1.427625  1.407924\n",
       "a31  0.479579  1.427625  1.407924\n",
       "a40  0.455510 -0.880937  1.375555\n",
       "a41  0.455510 -0.880937  1.375555"
      ]
     },
     "execution_count": 38,
     "metadata": {},
     "output_type": "execute_result"
    }
   ],
   "source": [
    "df2.fillna(method='pad')"
   ]
  },
  {
   "cell_type": "markdown",
   "metadata": {},
   "source": [
    "Filling with the mean of the column"
   ]
  },
  {
   "cell_type": "code",
   "execution_count": 40,
   "metadata": {
    "collapsed": false
   },
   "outputs": [
    {
     "data": {
      "text/html": [
       "<div>\n",
       "<table border=\"1\" class=\"dataframe\">\n",
       "  <thead>\n",
       "    <tr style=\"text-align: right;\">\n",
       "      <th></th>\n",
       "      <th>X</th>\n",
       "      <th>Y</th>\n",
       "      <th>Z</th>\n",
       "    </tr>\n",
       "  </thead>\n",
       "  <tbody>\n",
       "    <tr>\n",
       "      <th>a0</th>\n",
       "      <td>-1.193371</td>\n",
       "      <td>0.912654</td>\n",
       "      <td>-0.780461</td>\n",
       "    </tr>\n",
       "    <tr>\n",
       "      <th>a1</th>\n",
       "      <td>0.547655</td>\n",
       "      <td>0.692852</td>\n",
       "      <td>0.681825</td>\n",
       "    </tr>\n",
       "    <tr>\n",
       "      <th>a10</th>\n",
       "      <td>1.413044</td>\n",
       "      <td>0.615997</td>\n",
       "      <td>0.947334</td>\n",
       "    </tr>\n",
       "    <tr>\n",
       "      <th>a11</th>\n",
       "      <td>0.547655</td>\n",
       "      <td>0.692852</td>\n",
       "      <td>0.681825</td>\n",
       "    </tr>\n",
       "    <tr>\n",
       "      <th>a20</th>\n",
       "      <td>1.583516</td>\n",
       "      <td>1.388921</td>\n",
       "      <td>0.458771</td>\n",
       "    </tr>\n",
       "    <tr>\n",
       "      <th>a21</th>\n",
       "      <td>0.547655</td>\n",
       "      <td>0.692852</td>\n",
       "      <td>0.681825</td>\n",
       "    </tr>\n",
       "    <tr>\n",
       "      <th>a30</th>\n",
       "      <td>0.479579</td>\n",
       "      <td>1.427625</td>\n",
       "      <td>1.407924</td>\n",
       "    </tr>\n",
       "    <tr>\n",
       "      <th>a31</th>\n",
       "      <td>0.547655</td>\n",
       "      <td>0.692852</td>\n",
       "      <td>0.681825</td>\n",
       "    </tr>\n",
       "    <tr>\n",
       "      <th>a40</th>\n",
       "      <td>0.455510</td>\n",
       "      <td>-0.880937</td>\n",
       "      <td>1.375555</td>\n",
       "    </tr>\n",
       "    <tr>\n",
       "      <th>a41</th>\n",
       "      <td>0.547655</td>\n",
       "      <td>0.692852</td>\n",
       "      <td>0.681825</td>\n",
       "    </tr>\n",
       "  </tbody>\n",
       "</table>\n",
       "</div>"
      ],
      "text/plain": [
       "            X         Y         Z\n",
       "a0  -1.193371  0.912654 -0.780461\n",
       "a1   0.547655  0.692852  0.681825\n",
       "a10  1.413044  0.615997  0.947334\n",
       "a11  0.547655  0.692852  0.681825\n",
       "a20  1.583516  1.388921  0.458771\n",
       "a21  0.547655  0.692852  0.681825\n",
       "a30  0.479579  1.427625  1.407924\n",
       "a31  0.547655  0.692852  0.681825\n",
       "a40  0.455510 -0.880937  1.375555\n",
       "a41  0.547655  0.692852  0.681825"
      ]
     },
     "execution_count": 40,
     "metadata": {},
     "output_type": "execute_result"
    }
   ],
   "source": [
    "df2.fillna(df2.mean())"
   ]
  },
  {
   "cell_type": "markdown",
   "metadata": {},
   "source": [
    "## String Manipulation"
   ]
  },
  {
   "cell_type": "markdown",
   "metadata": {},
   "source": [
    "There are character field columns which you would want to modify. The following techniques explains how to do it"
   ]
  },
  {
   "cell_type": "markdown",
   "metadata": {},
   "source": [
    "### Substring"
   ]
  },
  {
   "cell_type": "markdown",
   "metadata": {},
   "source": [
    "Choosing five rows of the Area column in the data"
   ]
  },
  {
   "cell_type": "code",
   "execution_count": 42,
   "metadata": {
    "collapsed": false
   },
   "outputs": [
    {
     "data": {
      "text/plain": [
       "0    RAVENA COEYMANS SELKIRK CENTRAL SCHOOL DISTRICT\n",
       "1    RAVENA COEYMANS SELKIRK CENTRAL SCHOOL DISTRICT\n",
       "2    RAVENA COEYMANS SELKIRK CENTRAL SCHOOL DISTRICT\n",
       "3                        COHOES CITY SCHOOL DISTRICT\n",
       "4                        COHOES CITY SCHOOL DISTRICT\n",
       "Name: AREA NAME, dtype: object"
      ]
     },
     "execution_count": 42,
     "metadata": {},
     "output_type": "execute_result"
    }
   ],
   "source": [
    "df = pd.read_csv('Data/Student_Weight_Status_Category_Reporting_Results__Beginning_2010.csv')\n",
    "df['AREA NAME'][0:5]"
   ]
  },
  {
   "cell_type": "markdown",
   "metadata": {},
   "source": [
    "In order to extract the 1st word from the Area Name column"
   ]
  },
  {
   "cell_type": "code",
   "execution_count": 19,
   "metadata": {
    "collapsed": false
   },
   "outputs": [
    {
     "data": {
      "text/plain": [
       "0    RAVENA\n",
       "1    RAVENA\n",
       "2    RAVENA\n",
       "3    COHOES\n",
       "4    COHOES\n",
       "Name: AREA NAME, dtype: object"
      ]
     },
     "execution_count": 19,
     "metadata": {},
     "output_type": "execute_result"
    }
   ],
   "source": [
    "df['AREA NAME'][0:5].str.extract('(\\w+)')"
   ]
  },
  {
   "cell_type": "markdown",
   "metadata": {},
   "source": [
    "Getting the 1st two words"
   ]
  },
  {
   "cell_type": "code",
   "execution_count": 44,
   "metadata": {
    "collapsed": false
   },
   "outputs": [
    {
     "data": {
      "text/html": [
       "<div>\n",
       "<table border=\"1\" class=\"dataframe\">\n",
       "  <thead>\n",
       "    <tr style=\"text-align: right;\">\n",
       "      <th></th>\n",
       "      <th>0</th>\n",
       "      <th>1</th>\n",
       "    </tr>\n",
       "  </thead>\n",
       "  <tbody>\n",
       "    <tr>\n",
       "      <th>0</th>\n",
       "      <td>RAVENA</td>\n",
       "      <td>COEYMANS</td>\n",
       "    </tr>\n",
       "    <tr>\n",
       "      <th>1</th>\n",
       "      <td>RAVENA</td>\n",
       "      <td>COEYMANS</td>\n",
       "    </tr>\n",
       "    <tr>\n",
       "      <th>2</th>\n",
       "      <td>RAVENA</td>\n",
       "      <td>COEYMANS</td>\n",
       "    </tr>\n",
       "    <tr>\n",
       "      <th>3</th>\n",
       "      <td>COHOES</td>\n",
       "      <td>CITY</td>\n",
       "    </tr>\n",
       "    <tr>\n",
       "      <th>4</th>\n",
       "      <td>COHOES</td>\n",
       "      <td>CITY</td>\n",
       "    </tr>\n",
       "  </tbody>\n",
       "</table>\n",
       "</div>"
      ],
      "text/plain": [
       "        0         1\n",
       "0  RAVENA  COEYMANS\n",
       "1  RAVENA  COEYMANS\n",
       "2  RAVENA  COEYMANS\n",
       "3  COHOES      CITY\n",
       "4  COHOES      CITY"
      ]
     },
     "execution_count": 44,
     "metadata": {},
     "output_type": "execute_result"
    }
   ],
   "source": [
    "df['AREA NAME'][0:5].str.extract('(\\w+)\\s(\\w+)')"
   ]
  },
  {
   "cell_type": "markdown",
   "metadata": {},
   "source": [
    "### Uppercase"
   ]
  },
  {
   "cell_type": "code",
   "execution_count": 21,
   "metadata": {
    "collapsed": false
   },
   "outputs": [
    {
     "data": {
      "text/plain": [
       "0    RAVENA COEYMANS SELKIRK CENTRAL SCHOOL DISTRICT\n",
       "1    RAVENA COEYMANS SELKIRK CENTRAL SCHOOL DISTRICT\n",
       "2    RAVENA COEYMANS SELKIRK CENTRAL SCHOOL DISTRICT\n",
       "3                        COHOES CITY SCHOOL DISTRICT\n",
       "4                        COHOES CITY SCHOOL DISTRICT\n",
       "Name: AREA NAME, dtype: object"
      ]
     },
     "execution_count": 21,
     "metadata": {},
     "output_type": "execute_result"
    }
   ],
   "source": [
    "df['AREA NAME'][0:5].str.upper()"
   ]
  },
  {
   "cell_type": "markdown",
   "metadata": {},
   "source": [
    "### Lowercase"
   ]
  },
  {
   "cell_type": "code",
   "execution_count": 22,
   "metadata": {
    "collapsed": false
   },
   "outputs": [
    {
     "data": {
      "text/plain": [
       "0    ravena coeymans selkirk central school district\n",
       "1    ravena coeymans selkirk central school district\n",
       "2    ravena coeymans selkirk central school district\n",
       "3                        cohoes city school district\n",
       "4                        cohoes city school district\n",
       "Name: AREA NAME, dtype: object"
      ]
     },
     "execution_count": 22,
     "metadata": {},
     "output_type": "execute_result"
    }
   ],
   "source": [
    "df['AREA NAME'][0:5].str.lower()"
   ]
  },
  {
   "cell_type": "markdown",
   "metadata": {},
   "source": [
    "### Length"
   ]
  },
  {
   "cell_type": "code",
   "execution_count": 23,
   "metadata": {
    "collapsed": false
   },
   "outputs": [
    {
     "data": {
      "text/plain": [
       "0    47\n",
       "1    47\n",
       "2    47\n",
       "3    27\n",
       "4    27\n",
       "Name: AREA NAME, dtype: int64"
      ]
     },
     "execution_count": 23,
     "metadata": {},
     "output_type": "execute_result"
    }
   ],
   "source": [
    "df['AREA NAME'][0:5].str.len()"
   ]
  },
  {
   "cell_type": "markdown",
   "metadata": {},
   "source": [
    "### Split"
   ]
  },
  {
   "cell_type": "code",
   "execution_count": 24,
   "metadata": {
    "collapsed": false
   },
   "outputs": [
    {
     "data": {
      "text/plain": [
       "0    [RAVENA, COEYMANS, SELKIRK, CENTRAL, SCHOOL, D...\n",
       "1    [RAVENA, COEYMANS, SELKIRK, CENTRAL, SCHOOL, D...\n",
       "2    [RAVENA, COEYMANS, SELKIRK, CENTRAL, SCHOOL, D...\n",
       "3                     [COHOES, CITY, SCHOOL, DISTRICT]\n",
       "4                     [COHOES, CITY, SCHOOL, DISTRICT]\n",
       "Name: AREA NAME, dtype: object"
      ]
     },
     "execution_count": 24,
     "metadata": {},
     "output_type": "execute_result"
    }
   ],
   "source": [
    "df['AREA NAME'][0:5].str.split(' ')"
   ]
  },
  {
   "cell_type": "markdown",
   "metadata": {},
   "source": [
    "### Replace"
   ]
  },
  {
   "cell_type": "markdown",
   "metadata": {},
   "source": [
    "To replace all the Area Names ending with DISTRICT to DIST"
   ]
  },
  {
   "cell_type": "code",
   "execution_count": 25,
   "metadata": {
    "collapsed": false
   },
   "outputs": [
    {
     "data": {
      "text/plain": [
       "0    RAVENA COEYMANS SELKIRK CENTRAL SCHOOL DIST\n",
       "1    RAVENA COEYMANS SELKIRK CENTRAL SCHOOL DIST\n",
       "2    RAVENA COEYMANS SELKIRK CENTRAL SCHOOL DIST\n",
       "3                        COHOES CITY SCHOOL DIST\n",
       "4                        COHOES CITY SCHOOL DIST\n",
       "Name: AREA NAME, dtype: object"
      ]
     },
     "execution_count": 25,
     "metadata": {},
     "output_type": "execute_result"
    }
   ],
   "source": [
    "df['AREA NAME'][0:5].str.replace('DISTRICT$', 'DIST')"
   ]
  },
  {
   "cell_type": "markdown",
   "metadata": {},
   "source": [
    "### Merging Data"
   ]
  },
  {
   "cell_type": "markdown",
   "metadata": {},
   "source": [
    "To combine data sets together, the concat function of Pandas can be utilized.\n",
    "Let’s take the Area Name and County with its first five rows"
   ]
  },
  {
   "cell_type": "code",
   "execution_count": 26,
   "metadata": {
    "collapsed": false
   },
   "outputs": [
    {
     "data": {
      "text/html": [
       "<div style=\"max-height:1000px;max-width:1500px;overflow:auto;\">\n",
       "<table border=\"1\" class=\"dataframe\">\n",
       "  <thead>\n",
       "    <tr style=\"text-align: right;\">\n",
       "      <th></th>\n",
       "      <th>AREA NAME</th>\n",
       "      <th>COUNTY</th>\n",
       "    </tr>\n",
       "  </thead>\n",
       "  <tbody>\n",
       "    <tr>\n",
       "      <th>0</th>\n",
       "      <td> RAVENA COEYMANS SELKIRK CENTRAL SCHOOL DISTRICT</td>\n",
       "      <td> ALBANY</td>\n",
       "    </tr>\n",
       "    <tr>\n",
       "      <th>1</th>\n",
       "      <td> RAVENA COEYMANS SELKIRK CENTRAL SCHOOL DISTRICT</td>\n",
       "      <td> ALBANY</td>\n",
       "    </tr>\n",
       "    <tr>\n",
       "      <th>2</th>\n",
       "      <td> RAVENA COEYMANS SELKIRK CENTRAL SCHOOL DISTRICT</td>\n",
       "      <td> ALBANY</td>\n",
       "    </tr>\n",
       "    <tr>\n",
       "      <th>3</th>\n",
       "      <td>                     COHOES CITY SCHOOL DISTRICT</td>\n",
       "      <td> ALBANY</td>\n",
       "    </tr>\n",
       "    <tr>\n",
       "      <th>4</th>\n",
       "      <td>                     COHOES CITY SCHOOL DISTRICT</td>\n",
       "      <td> ALBANY</td>\n",
       "    </tr>\n",
       "  </tbody>\n",
       "</table>\n",
       "</div>"
      ],
      "text/plain": [
       "                                         AREA NAME  COUNTY\n",
       "0  RAVENA COEYMANS SELKIRK CENTRAL SCHOOL DISTRICT  ALBANY\n",
       "1  RAVENA COEYMANS SELKIRK CENTRAL SCHOOL DISTRICT  ALBANY\n",
       "2  RAVENA COEYMANS SELKIRK CENTRAL SCHOOL DISTRICT  ALBANY\n",
       "3                      COHOES CITY SCHOOL DISTRICT  ALBANY\n",
       "4                      COHOES CITY SCHOOL DISTRICT  ALBANY"
      ]
     },
     "execution_count": 26,
     "metadata": {},
     "output_type": "execute_result"
    }
   ],
   "source": [
    "df[['AREA NAME', 'COUNTY']][0:5]"
   ]
  },
  {
   "cell_type": "code",
   "execution_count": 29,
   "metadata": {
    "collapsed": false
   },
   "outputs": [],
   "source": [
    "p1 = df[['AREA NAME', 'COUNTY']][0:2]\n",
    "p2 = df[['AREA NAME', 'COUNTY']][2:5]"
   ]
  },
  {
   "cell_type": "code",
   "execution_count": 31,
   "metadata": {
    "collapsed": false
   },
   "outputs": [
    {
     "data": {
      "text/html": [
       "<div style=\"max-height:1000px;max-width:1500px;overflow:auto;\">\n",
       "<table border=\"1\" class=\"dataframe\">\n",
       "  <thead>\n",
       "    <tr style=\"text-align: right;\">\n",
       "      <th></th>\n",
       "      <th>AREA NAME</th>\n",
       "      <th>COUNTY</th>\n",
       "    </tr>\n",
       "  </thead>\n",
       "  <tbody>\n",
       "    <tr>\n",
       "      <th>0</th>\n",
       "      <td> RAVENA COEYMANS SELKIRK CENTRAL SCHOOL DISTRICT</td>\n",
       "      <td> ALBANY</td>\n",
       "    </tr>\n",
       "    <tr>\n",
       "      <th>1</th>\n",
       "      <td> RAVENA COEYMANS SELKIRK CENTRAL SCHOOL DISTRICT</td>\n",
       "      <td> ALBANY</td>\n",
       "    </tr>\n",
       "    <tr>\n",
       "      <th>2</th>\n",
       "      <td> RAVENA COEYMANS SELKIRK CENTRAL SCHOOL DISTRICT</td>\n",
       "      <td> ALBANY</td>\n",
       "    </tr>\n",
       "    <tr>\n",
       "      <th>3</th>\n",
       "      <td>                     COHOES CITY SCHOOL DISTRICT</td>\n",
       "      <td> ALBANY</td>\n",
       "    </tr>\n",
       "    <tr>\n",
       "      <th>4</th>\n",
       "      <td>                     COHOES CITY SCHOOL DISTRICT</td>\n",
       "      <td> ALBANY</td>\n",
       "    </tr>\n",
       "  </tbody>\n",
       "</table>\n",
       "</div>"
      ],
      "text/plain": [
       "                                         AREA NAME  COUNTY\n",
       "0  RAVENA COEYMANS SELKIRK CENTRAL SCHOOL DISTRICT  ALBANY\n",
       "1  RAVENA COEYMANS SELKIRK CENTRAL SCHOOL DISTRICT  ALBANY\n",
       "2  RAVENA COEYMANS SELKIRK CENTRAL SCHOOL DISTRICT  ALBANY\n",
       "3                      COHOES CITY SCHOOL DISTRICT  ALBANY\n",
       "4                      COHOES CITY SCHOOL DISTRICT  ALBANY"
      ]
     },
     "execution_count": 31,
     "metadata": {},
     "output_type": "execute_result"
    }
   ],
   "source": [
    "pd.concat([p1,p2])"
   ]
  },
  {
   "cell_type": "markdown",
   "metadata": {},
   "source": [
    "The combined pieces can be identified by assigning a key"
   ]
  },
  {
   "cell_type": "code",
   "execution_count": 32,
   "metadata": {
    "collapsed": false
   },
   "outputs": [
    {
     "data": {
      "text/html": [
       "<div style=\"max-height:1000px;max-width:1500px;overflow:auto;\">\n",
       "<table border=\"1\" class=\"dataframe\">\n",
       "  <thead>\n",
       "    <tr style=\"text-align: right;\">\n",
       "      <th></th>\n",
       "      <th></th>\n",
       "      <th>AREA NAME</th>\n",
       "      <th>COUNTY</th>\n",
       "    </tr>\n",
       "  </thead>\n",
       "  <tbody>\n",
       "    <tr>\n",
       "      <th rowspan=\"2\" valign=\"top\">p1</th>\n",
       "      <th>0</th>\n",
       "      <td> RAVENA COEYMANS SELKIRK CENTRAL SCHOOL DISTRICT</td>\n",
       "      <td> ALBANY</td>\n",
       "    </tr>\n",
       "    <tr>\n",
       "      <th>1</th>\n",
       "      <td> RAVENA COEYMANS SELKIRK CENTRAL SCHOOL DISTRICT</td>\n",
       "      <td> ALBANY</td>\n",
       "    </tr>\n",
       "    <tr>\n",
       "      <th rowspan=\"3\" valign=\"top\">p2</th>\n",
       "      <th>2</th>\n",
       "      <td> RAVENA COEYMANS SELKIRK CENTRAL SCHOOL DISTRICT</td>\n",
       "      <td> ALBANY</td>\n",
       "    </tr>\n",
       "    <tr>\n",
       "      <th>3</th>\n",
       "      <td>                     COHOES CITY SCHOOL DISTRICT</td>\n",
       "      <td> ALBANY</td>\n",
       "    </tr>\n",
       "    <tr>\n",
       "      <th>4</th>\n",
       "      <td>                     COHOES CITY SCHOOL DISTRICT</td>\n",
       "      <td> ALBANY</td>\n",
       "    </tr>\n",
       "  </tbody>\n",
       "</table>\n",
       "</div>"
      ],
      "text/plain": [
       "                                            AREA NAME  COUNTY\n",
       "p1 0  RAVENA COEYMANS SELKIRK CENTRAL SCHOOL DISTRICT  ALBANY\n",
       "   1  RAVENA COEYMANS SELKIRK CENTRAL SCHOOL DISTRICT  ALBANY\n",
       "p2 2  RAVENA COEYMANS SELKIRK CENTRAL SCHOOL DISTRICT  ALBANY\n",
       "   3                      COHOES CITY SCHOOL DISTRICT  ALBANY\n",
       "   4                      COHOES CITY SCHOOL DISTRICT  ALBANY"
      ]
     },
     "execution_count": 32,
     "metadata": {},
     "output_type": "execute_result"
    }
   ],
   "source": [
    "concatenated = pd.concat([p1,p2], keys = ['p1','p2'])\n",
    "concatenated"
   ]
  },
  {
   "cell_type": "markdown",
   "metadata": {},
   "source": [
    "Using the keys, the pieces can be extracted back from concatenated data "
   ]
  },
  {
   "cell_type": "code",
   "execution_count": 33,
   "metadata": {
    "collapsed": false
   },
   "outputs": [
    {
     "data": {
      "text/html": [
       "<div style=\"max-height:1000px;max-width:1500px;overflow:auto;\">\n",
       "<table border=\"1\" class=\"dataframe\">\n",
       "  <thead>\n",
       "    <tr style=\"text-align: right;\">\n",
       "      <th></th>\n",
       "      <th>AREA NAME</th>\n",
       "      <th>COUNTY</th>\n",
       "    </tr>\n",
       "  </thead>\n",
       "  <tbody>\n",
       "    <tr>\n",
       "      <th>0</th>\n",
       "      <td> RAVENA COEYMANS SELKIRK CENTRAL SCHOOL DISTRICT</td>\n",
       "      <td> ALBANY</td>\n",
       "    </tr>\n",
       "    <tr>\n",
       "      <th>1</th>\n",
       "      <td> RAVENA COEYMANS SELKIRK CENTRAL SCHOOL DISTRICT</td>\n",
       "      <td> ALBANY</td>\n",
       "    </tr>\n",
       "  </tbody>\n",
       "</table>\n",
       "</div>"
      ],
      "text/plain": [
       "                                         AREA NAME  COUNTY\n",
       "0  RAVENA COEYMANS SELKIRK CENTRAL SCHOOL DISTRICT  ALBANY\n",
       "1  RAVENA COEYMANS SELKIRK CENTRAL SCHOOL DISTRICT  ALBANY"
      ]
     },
     "execution_count": 33,
     "metadata": {},
     "output_type": "execute_result"
    }
   ],
   "source": [
    "concatenated.ix['p1']"
   ]
  },
  {
   "cell_type": "markdown",
   "metadata": {},
   "source": [
    "## Aggregation Operations"
   ]
  },
  {
   "cell_type": "markdown",
   "metadata": {},
   "source": [
    "There are number of aggregation operations like average, sum etc that you would like to do on a numerical field. Following explains on how to perform it "
   ]
  },
  {
   "cell_type": "markdown",
   "metadata": {},
   "source": [
    "### Average"
   ]
  },
  {
   "cell_type": "markdown",
   "metadata": {},
   "source": [
    "To find out the average number of students in Elementary school who are Obese"
   ]
  },
  {
   "cell_type": "code",
   "execution_count": 38,
   "metadata": {
    "collapsed": false
   },
   "outputs": [
    {
     "data": {
      "text/plain": [
       "213.41593780369291"
      ]
     },
     "execution_count": 38,
     "metadata": {},
     "output_type": "execute_result"
    }
   ],
   "source": [
    "data = df[df['GRADE LEVEL'] == 'ELEMENTARY']\n",
    "data['NO. OBESE'].mean()"
   ]
  },
  {
   "cell_type": "markdown",
   "metadata": {},
   "source": [
    "### SUM"
   ]
  },
  {
   "cell_type": "markdown",
   "metadata": {},
   "source": [
    "To find out the total number of Elementary students who are obese across all the school"
   ]
  },
  {
   "cell_type": "code",
   "execution_count": 39,
   "metadata": {
    "collapsed": false
   },
   "outputs": [
    {
     "data": {
      "text/plain": [
       "219605.0"
      ]
     },
     "execution_count": 39,
     "metadata": {},
     "output_type": "execute_result"
    }
   ],
   "source": [
    "data['NO. OBESE'].sum()"
   ]
  },
  {
   "cell_type": "markdown",
   "metadata": {},
   "source": [
    "### MAX"
   ]
  },
  {
   "cell_type": "markdown",
   "metadata": {},
   "source": [
    "To get the maximum number of students that are Obese in an elementary school"
   ]
  },
  {
   "cell_type": "code",
   "execution_count": 36,
   "metadata": {
    "collapsed": false
   },
   "outputs": [
    {
     "data": {
      "text/plain": [
       "48843.0"
      ]
     },
     "execution_count": 36,
     "metadata": {},
     "output_type": "execute_result"
    }
   ],
   "source": [
    "data['NO. OBESE'].max()"
   ]
  },
  {
   "cell_type": "markdown",
   "metadata": {},
   "source": [
    "### MIN"
   ]
  },
  {
   "cell_type": "markdown",
   "metadata": {},
   "source": [
    "To get the minimum number of students that are Obese in an elementary school"
   ]
  },
  {
   "cell_type": "code",
   "execution_count": 40,
   "metadata": {
    "collapsed": false
   },
   "outputs": [
    {
     "data": {
      "text/plain": [
       "5.0"
      ]
     },
     "execution_count": 40,
     "metadata": {},
     "output_type": "execute_result"
    }
   ],
   "source": [
    "data['NO. OBESE'].min()"
   ]
  },
  {
   "cell_type": "markdown",
   "metadata": {},
   "source": [
    "### STD"
   ]
  },
  {
   "cell_type": "markdown",
   "metadata": {},
   "source": [
    "To get the standard deviation of the number of Obese students"
   ]
  },
  {
   "cell_type": "code",
   "execution_count": 41,
   "metadata": {
    "collapsed": false
   },
   "outputs": [
    {
     "data": {
      "text/plain": [
       "1690.3831128098113"
      ]
     },
     "execution_count": 41,
     "metadata": {},
     "output_type": "execute_result"
    }
   ],
   "source": [
    "data['NO. OBESE'].std()"
   ]
  },
  {
   "cell_type": "markdown",
   "metadata": {},
   "source": [
    "### COUNT"
   ]
  },
  {
   "cell_type": "markdown",
   "metadata": {},
   "source": [
    "To count the total number of schools with Elementary grade in the Columbia county"
   ]
  },
  {
   "cell_type": "code",
   "execution_count": 42,
   "metadata": {
    "collapsed": false
   },
   "outputs": [
    {
     "data": {
      "text/plain": [
       "19"
      ]
     },
     "execution_count": 42,
     "metadata": {},
     "output_type": "execute_result"
    }
   ],
   "source": [
    "data = df[(df['GRADE LEVEL'] == 'ELEMENTARY') & (df['COUNTY'] == 'DELAWARE')]\n",
    "data['COUNTY'].count()"
   ]
  },
  {
   "cell_type": "markdown",
   "metadata": {},
   "source": [
    "## Joins"
   ]
  },
  {
   "cell_type": "markdown",
   "metadata": {},
   "source": [
    "SQL like joins can be performed on the data frame using pandas.\n",
    "Lets define a lookup dataframe which assigns levels to each of the grade"
   ]
  },
  {
   "cell_type": "code",
   "execution_count": 45,
   "metadata": {
    "collapsed": false
   },
   "outputs": [],
   "source": [
    "grade_lookup = {'GRADE LEVEL': pd.Series(['ELEMENTARY', 'MIDDLE/HIGH', 'MISC']),'LEVEL': pd.Series([1, 2, 3])}\n",
    "grade_lookup = pd.DataFrame(grade_lookup)"
   ]
  },
  {
   "cell_type": "markdown",
   "metadata": {},
   "source": [
    "Lets take the 1st five rows of the  grade data column as an example for performing the joins"
   ]
  },
  {
   "cell_type": "code",
   "execution_count": 44,
   "metadata": {
    "collapsed": false
   },
   "outputs": [
    {
     "data": {
      "text/html": [
       "<div style=\"max-height:1000px;max-width:1500px;overflow:auto;\">\n",
       "<table border=\"1\" class=\"dataframe\">\n",
       "  <thead>\n",
       "    <tr style=\"text-align: right;\">\n",
       "      <th></th>\n",
       "      <th>GRADE LEVEL</th>\n",
       "    </tr>\n",
       "  </thead>\n",
       "  <tbody>\n",
       "    <tr>\n",
       "      <th>0</th>\n",
       "      <td> DISTRICT TOTAL</td>\n",
       "    </tr>\n",
       "    <tr>\n",
       "      <th>1</th>\n",
       "      <td>     ELEMENTARY</td>\n",
       "    </tr>\n",
       "    <tr>\n",
       "      <th>2</th>\n",
       "      <td>    MIDDLE/HIGH</td>\n",
       "    </tr>\n",
       "    <tr>\n",
       "      <th>3</th>\n",
       "      <td> DISTRICT TOTAL</td>\n",
       "    </tr>\n",
       "    <tr>\n",
       "      <th>4</th>\n",
       "      <td>     ELEMENTARY</td>\n",
       "    </tr>\n",
       "  </tbody>\n",
       "</table>\n",
       "</div>"
      ],
      "text/plain": [
       "      GRADE LEVEL\n",
       "0  DISTRICT TOTAL\n",
       "1      ELEMENTARY\n",
       "2     MIDDLE/HIGH\n",
       "3  DISTRICT TOTAL\n",
       "4      ELEMENTARY"
      ]
     },
     "execution_count": 44,
     "metadata": {},
     "output_type": "execute_result"
    }
   ],
   "source": [
    "df[['GRADE LEVEL']][0:5]"
   ]
  },
  {
   "cell_type": "markdown",
   "metadata": {},
   "source": [
    "### Inner Join"
   ]
  },
  {
   "cell_type": "markdown",
   "metadata": {},
   "source": [
    "An inner join can be performed with the following command"
   ]
  },
  {
   "cell_type": "code",
   "execution_count": 46,
   "metadata": {
    "collapsed": false
   },
   "outputs": [
    {
     "data": {
      "text/html": [
       "<div>\n",
       "<table border=\"1\" class=\"dataframe\">\n",
       "  <thead>\n",
       "    <tr style=\"text-align: right;\">\n",
       "      <th></th>\n",
       "      <th>GRADE LEVEL</th>\n",
       "      <th>LEVEL</th>\n",
       "    </tr>\n",
       "  </thead>\n",
       "  <tbody>\n",
       "    <tr>\n",
       "      <th>1</th>\n",
       "      <td>ELEMENTARY</td>\n",
       "      <td>1</td>\n",
       "    </tr>\n",
       "    <tr>\n",
       "      <th>4</th>\n",
       "      <td>ELEMENTARY</td>\n",
       "      <td>1</td>\n",
       "    </tr>\n",
       "    <tr>\n",
       "      <th>2</th>\n",
       "      <td>MIDDLE/HIGH</td>\n",
       "      <td>2</td>\n",
       "    </tr>\n",
       "  </tbody>\n",
       "</table>\n",
       "</div>"
      ],
      "text/plain": [
       "   GRADE LEVEL  LEVEL\n",
       "1   ELEMENTARY      1\n",
       "4   ELEMENTARY      1\n",
       "2  MIDDLE/HIGH      2"
      ]
     },
     "execution_count": 46,
     "metadata": {},
     "output_type": "execute_result"
    }
   ],
   "source": [
    "d_sub = df[0:5].join(grade_lookup.set_index(['GRADE LEVEL']), on=['GRADE LEVEL'], how='inner')\n",
    "d_sub[['GRADE LEVEL', 'LEVEL']]"
   ]
  },
  {
   "cell_type": "markdown",
   "metadata": {},
   "source": [
    "### Left Outer Join"
   ]
  },
  {
   "cell_type": "markdown",
   "metadata": {},
   "source": [
    "A left outer join can be performed with the following commands"
   ]
  },
  {
   "cell_type": "code",
   "execution_count": 46,
   "metadata": {
    "collapsed": false
   },
   "outputs": [
    {
     "data": {
      "text/html": [
       "<div style=\"max-height:1000px;max-width:1500px;overflow:auto;\">\n",
       "<table border=\"1\" class=\"dataframe\">\n",
       "  <thead>\n",
       "    <tr style=\"text-align: right;\">\n",
       "      <th></th>\n",
       "      <th>GRADE LEVEL</th>\n",
       "      <th>LEVEL</th>\n",
       "    </tr>\n",
       "  </thead>\n",
       "  <tbody>\n",
       "    <tr>\n",
       "      <th>0</th>\n",
       "      <td> DISTRICT TOTAL</td>\n",
       "      <td>NaN</td>\n",
       "    </tr>\n",
       "    <tr>\n",
       "      <th>1</th>\n",
       "      <td>     ELEMENTARY</td>\n",
       "      <td>  1</td>\n",
       "    </tr>\n",
       "    <tr>\n",
       "      <th>2</th>\n",
       "      <td>    MIDDLE/HIGH</td>\n",
       "      <td>  2</td>\n",
       "    </tr>\n",
       "    <tr>\n",
       "      <th>3</th>\n",
       "      <td> DISTRICT TOTAL</td>\n",
       "      <td>NaN</td>\n",
       "    </tr>\n",
       "    <tr>\n",
       "      <th>4</th>\n",
       "      <td>     ELEMENTARY</td>\n",
       "      <td>  1</td>\n",
       "    </tr>\n",
       "  </tbody>\n",
       "</table>\n",
       "</div>"
      ],
      "text/plain": [
       "      GRADE LEVEL  LEVEL\n",
       "0  DISTRICT TOTAL    NaN\n",
       "1      ELEMENTARY      1\n",
       "2     MIDDLE/HIGH      2\n",
       "3  DISTRICT TOTAL    NaN\n",
       "4      ELEMENTARY      1"
      ]
     },
     "execution_count": 46,
     "metadata": {},
     "output_type": "execute_result"
    }
   ],
   "source": [
    "d_sub = df[0:5].join(grade_lookup.set_index(['GRADE LEVEL']), on=['GRADE LEVEL'], how='left')\n",
    "d_sub[['GRADE LEVEL', 'LEVEL']]"
   ]
  },
  {
   "cell_type": "markdown",
   "metadata": {},
   "source": [
    "### Full outer join"
   ]
  },
  {
   "cell_type": "markdown",
   "metadata": {},
   "source": [
    "The full outer join can be performed with the following code"
   ]
  },
  {
   "cell_type": "code",
   "execution_count": 47,
   "metadata": {
    "collapsed": false
   },
   "outputs": [
    {
     "data": {
      "text/html": [
       "<div style=\"max-height:1000px;max-width:1500px;overflow:auto;\">\n",
       "<table border=\"1\" class=\"dataframe\">\n",
       "  <thead>\n",
       "    <tr style=\"text-align: right;\">\n",
       "      <th></th>\n",
       "      <th>GRADE LEVEL</th>\n",
       "      <th>LEVEL</th>\n",
       "    </tr>\n",
       "  </thead>\n",
       "  <tbody>\n",
       "    <tr>\n",
       "      <th>0</th>\n",
       "      <td> DISTRICT TOTAL</td>\n",
       "      <td>NaN</td>\n",
       "    </tr>\n",
       "    <tr>\n",
       "      <th>3</th>\n",
       "      <td> DISTRICT TOTAL</td>\n",
       "      <td>NaN</td>\n",
       "    </tr>\n",
       "    <tr>\n",
       "      <th>1</th>\n",
       "      <td>     ELEMENTARY</td>\n",
       "      <td>  1</td>\n",
       "    </tr>\n",
       "    <tr>\n",
       "      <th>4</th>\n",
       "      <td>     ELEMENTARY</td>\n",
       "      <td>  1</td>\n",
       "    </tr>\n",
       "    <tr>\n",
       "      <th>2</th>\n",
       "      <td>    MIDDLE/HIGH</td>\n",
       "      <td>  2</td>\n",
       "    </tr>\n",
       "    <tr>\n",
       "      <th>4</th>\n",
       "      <td>           MISC</td>\n",
       "      <td>  3</td>\n",
       "    </tr>\n",
       "  </tbody>\n",
       "</table>\n",
       "</div>"
      ],
      "text/plain": [
       "      GRADE LEVEL  LEVEL\n",
       "0  DISTRICT TOTAL    NaN\n",
       "3  DISTRICT TOTAL    NaN\n",
       "1      ELEMENTARY      1\n",
       "4      ELEMENTARY      1\n",
       "2     MIDDLE/HIGH      2\n",
       "4            MISC      3"
      ]
     },
     "execution_count": 47,
     "metadata": {},
     "output_type": "execute_result"
    }
   ],
   "source": [
    "d_sub = df[0:5].join(grade_lookup.set_index(['GRADE LEVEL']), on=['GRADE LEVEL'], how='outer')\n",
    "d_sub[['GRADE LEVEL', 'LEVEL']]"
   ]
  },
  {
   "cell_type": "markdown",
   "metadata": {},
   "source": [
    "### Group By"
   ]
  },
  {
   "cell_type": "markdown",
   "metadata": {},
   "source": [
    "Its easy to do an SQL like group by operation with Pandas. Lets say, if you want to find the sum of the number of Obese students in each of the grade then  you can use the following command"
   ]
  },
  {
   "cell_type": "code",
   "execution_count": 48,
   "metadata": {
    "collapsed": false
   },
   "outputs": [
    {
     "data": {
      "text/plain": [
       "GRADE LEVEL\n",
       "DISTRICT TOTAL    380851\n",
       "ELEMENTARY        219605\n",
       "MIDDLE/HIGH       160499\n",
       "Name: NO. OBESE, dtype: float64"
      ]
     },
     "execution_count": 48,
     "metadata": {},
     "output_type": "execute_result"
    }
   ],
   "source": [
    "df['NO. OBESE'].groupby(d['GRADE LEVEL']).sum()"
   ]
  },
  {
   "cell_type": "markdown",
   "metadata": {},
   "source": [
    "This command chooses the Number of Obese students column and then uses the  group by method to group the data based group level and finally the sum method sums up the number. The same can be achieved by the following function too"
   ]
  },
  {
   "cell_type": "code",
   "execution_count": 49,
   "metadata": {
    "collapsed": false
   },
   "outputs": [
    {
     "data": {
      "text/plain": [
       "GRADE LEVEL\n",
       "DISTRICT TOTAL    380851\n",
       "ELEMENTARY        219605\n",
       "MIDDLE/HIGH       160499\n",
       "Name: NO. OBESE, dtype: float64"
      ]
     },
     "execution_count": 49,
     "metadata": {},
     "output_type": "execute_result"
    }
   ],
   "source": [
    "df['NO. OBESE'].groupby(d['GRADE LEVEL']).aggregate(sum)"
   ]
  },
  {
   "cell_type": "markdown",
   "metadata": {},
   "source": [
    "Here the aggregate method is utilized. The sum function is passed to obtain the required results.\n",
    "It’s also possible to obtain multiple kinds of aggregation on the same metric. This can be achieved by the following command"
   ]
  },
  {
   "cell_type": "code",
   "execution_count": 50,
   "metadata": {
    "collapsed": false
   },
   "outputs": [
    {
     "data": {
      "text/html": [
       "<div style=\"max-height:1000px;max-width:1500px;overflow:auto;\">\n",
       "<table border=\"1\" class=\"dataframe\">\n",
       "  <thead>\n",
       "    <tr style=\"text-align: right;\">\n",
       "      <th></th>\n",
       "      <th>sum</th>\n",
       "      <th>mean</th>\n",
       "      <th>std</th>\n",
       "    </tr>\n",
       "    <tr>\n",
       "      <th>GRADE LEVEL</th>\n",
       "      <th></th>\n",
       "      <th></th>\n",
       "      <th></th>\n",
       "    </tr>\n",
       "  </thead>\n",
       "  <tbody>\n",
       "    <tr>\n",
       "      <th>DISTRICT TOTAL</th>\n",
       "      <td> 380851</td>\n",
       "      <td> 359.972590</td>\n",
       "      <td> 2875.820653</td>\n",
       "    </tr>\n",
       "    <tr>\n",
       "      <th>ELEMENTARY</th>\n",
       "      <td> 219605</td>\n",
       "      <td> 213.415938</td>\n",
       "      <td> 1690.383113</td>\n",
       "    </tr>\n",
       "    <tr>\n",
       "      <th>MIDDLE/HIGH</th>\n",
       "      <td> 160499</td>\n",
       "      <td> 162.943147</td>\n",
       "      <td> 1252.104878</td>\n",
       "    </tr>\n",
       "  </tbody>\n",
       "</table>\n",
       "</div>"
      ],
      "text/plain": [
       "                   sum        mean          std\n",
       "GRADE LEVEL                                    \n",
       "DISTRICT TOTAL  380851  359.972590  2875.820653\n",
       "ELEMENTARY      219605  213.415938  1690.383113\n",
       "MIDDLE/HIGH     160499  162.943147  1252.104878"
      ]
     },
     "execution_count": 50,
     "metadata": {},
     "output_type": "execute_result"
    }
   ],
   "source": [
    "df['NO. OBESE'].groupby(d['GRADE LEVEL']).aggregate([sum, mean, std])"
   ]
  }
 ],
 "metadata": {
  "kernelspec": {
   "display_name": "Python 2",
   "language": "python",
   "name": "python2"
  },
  "language_info": {
   "codemirror_mode": {
    "name": "ipython",
    "version": 2
   },
   "file_extension": ".py",
   "mimetype": "text/x-python",
   "name": "python",
   "nbconvert_exporter": "python",
   "pygments_lexer": "ipython2",
   "version": "2.7.10"
  }
 },
 "nbformat": 4,
 "nbformat_minor": 0
}
