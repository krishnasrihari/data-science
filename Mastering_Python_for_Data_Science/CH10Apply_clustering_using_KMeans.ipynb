{
 "cells": [
  {
   "cell_type": "markdown",
   "metadata": {},
   "source": [
    "# Dividing into groups using Segmentation"
   ]
  },
  {
   "cell_type": "code",
   "execution_count": 1,
   "metadata": {
    "collapsed": false
   },
   "outputs": [],
   "source": [
    "%matplotlib inline\n",
    "import numpy as np\n",
    "import pandas as pd\n",
    "import matplotlib.pyplot as plt\n",
    "from math import sqrt\n",
    "from scipy.stats.stats import pearsonr  \n",
    "from sklearn.cluster import KMeans\n",
    "from scipy.cluster.vq import kmeans,vq\n",
    "from scipy.spatial.distance import cdist\n"
   ]
  },
  {
   "cell_type": "markdown",
   "metadata": {},
   "source": [
    "## K-Means Clustering"
   ]
  },
  {
   "cell_type": "markdown",
   "metadata": {},
   "source": [
    "Let's look at a simple example before getting into K-meas clustering. \n",
    "\n",
    "We'll plot a scatter plot of height and weight of people and group the scatter based on the tshirt sizes"
   ]
  },
  {
   "cell_type": "code",
   "execution_count": 52,
   "metadata": {
    "collapsed": false
   },
   "outputs": [
    {
     "name": "stdout",
     "output_type": "stream",
     "text": [
      "   Height  Weight Size\n",
      "0     150      54    S\n",
      "1     150      55    S\n",
      "2     151      55    S\n",
      "3     151      47    S\n",
      "4     152      58    S\n",
      "5     155      53    S\n",
      "6     155      59    S\n",
      "7     157      60    S\n",
      "8     157      56    S\n",
      "9     157      55    S\n"
     ]
    }
   ],
   "source": [
    "df = pd.read_csv('./Data/tshirt_sizes.csv')\n",
    "print df[:10]"
   ]
  },
  {
   "cell_type": "markdown",
   "metadata": {},
   "source": [
    "Now, let's plot the scatter plot between height and weight , and group them based on the shirt sizes."
   ]
  },
  {
   "cell_type": "code",
   "execution_count": 53,
   "metadata": {
    "collapsed": false
   },
   "outputs": [
    {
     "data": {
      "image/png": "[encoded data removed]",
      "text/plain": [
       "<matplotlib.figure.Figure at 0x19c0cb70>"
      ]
     },
     "metadata": {},
     "output_type": "display_data"
    }
   ],
   "source": [
    "d_color = {\n",
    "    \"S\": \"b\",\n",
    "    \"M\": \"r\",\n",
    "    \"L\": \"g\",\n",
    "}\n",
    "fig, ax = plt.subplots()\n",
    "for size in [\"S\", \"M\", \"L\"]:\n",
    "    color = d_color[size]\n",
    "    df[df.Size == size].plot(kind='scatter', x='Height', y='Weight', label=size, ax=ax, color=color)\n",
    "handles, labels = ax.get_legend_handles_labels()\n",
    "_ = ax.legend(handles, labels, loc=\"upper left\")"
   ]
  },
  {
   "cell_type": "markdown",
   "metadata": {},
   "source": [
    "You can see that people who have sizes as small have height and Weight quite less which is colored in blue. Similarly for the other t-shirt sizes, the height and weight are grouped together around each other. \n",
    "\n",
    "In this case, we had the labels for the t-shirt sizes but we would require a machine learning algorithm which will automatically perform this for us. This is where an algorithm like K-means helps us"
   ]
  },
  {
   "cell_type": "code",
   "execution_count": 58,
   "metadata": {
    "collapsed": false
   },
   "outputs": [
    {
     "name": "stdout",
     "output_type": "stream",
     "text": [
      "SizePredict   0   1   2\n",
      "Size                   \n",
      "L            13   0   1\n",
      "M             0   6  14\n",
      "S             0  15   0\n"
     ]
    }
   ],
   "source": [
    "km = KMeans(3,init='k-means++', random_state=3425) # initialize\n",
    "km.fit(df[['Height','Weight']])\n",
    "df['SizePredict'] = km.predict(df[['Height','Weight']])\n",
    "print pd.crosstab(df.Size\n",
    "                  ,df.SizePredict\n",
    "                  ,rownames = ['Size']\n",
    "                  ,colnames = ['SizePredict'])"
   ]
  },
  {
   "cell_type": "markdown",
   "metadata": {},
   "source": [
    "We'll now map the clusters to the shirt sizes"
   ]
  },
  {
   "cell_type": "code",
   "execution_count": 55,
   "metadata": {
    "collapsed": false
   },
   "outputs": [
    {
     "data": {
      "text/plain": [
       "0    S\n",
       "1    S\n",
       "2    S\n",
       "3    S\n",
       "4    S\n",
       "5    S\n",
       "6    S\n",
       "7    S\n",
       "8    S\n",
       "9    S\n",
       "Name: SizePredict, dtype: object"
      ]
     },
     "execution_count": 55,
     "metadata": {},
     "output_type": "execute_result"
    }
   ],
   "source": [
    "c_map = {\n",
    "    2: \"M\",\n",
    "    1: \"S\",\n",
    "    0: \"L\",\n",
    "}\n",
    "\n",
    "df['SizePredict'] = df['SizePredict'].map(c_map)\n",
    "df['SizePredict'][:10]"
   ]
  },
  {
   "cell_type": "markdown",
   "metadata": {},
   "source": [
    "We define 3 clusters in the K-Means algorithm and then we input the height and weight to the kmeans algorithm. Post this we predict the buckets."
   ]
  },
  {
   "cell_type": "code",
   "execution_count": 56,
   "metadata": {
    "collapsed": false
   },
   "outputs": [
    {
     "data": {
      "image/png": "[encoded data removed]",
      "text/plain": [
       "<matplotlib.figure.Figure at 0x19faae80>"
      ]
     },
     "metadata": {},
     "output_type": "display_data"
    }
   ],
   "source": [
    "fig, ax = plt.subplots()\n",
    "for size in [\"S\", \"M\", \"L\"]:\n",
    "    color = d_color[size]\n",
    "    df[df.SizePredict == size].plot(kind='scatter', x='Height', y='Weight', label=size, ax=ax, color=color)\n",
    "handles, labels = ax.get_legend_handles_labels()\n",
    "_ = ax.legend(handles, labels, loc=\"upper left\")"
   ]
  },
  {
   "cell_type": "markdown",
   "metadata": {},
   "source": [
    "We can see from the plot that the K-means algorithm was able to group the people into appropriate buckets where the shirt sizes can be used to identify a bucket as unique. "
   ]
  },
  {
   "cell_type": "markdown",
   "metadata": {},
   "source": [
    "## K-Means Clustering with U.N Data"
   ]
  },
  {
   "cell_type": "markdown",
   "metadata": {},
   "source": [
    "We have UN data on different countries of the world on the education to GDP.\n",
    "<table><tr><th>country</th><td>Name of the country</td></tr>\n",
    "<tr><th>region</th><td>Continent the country belongs to</td></tr>\n",
    "<tr><th>tfr</th><td>Total Fertility Rate</td></tr>\n",
    "<tr><th>contraception</th><td>Percentage of people taking contraceptions</td></tr>\n",
    "<tr><th>educationMale</th><td>Percentage of male population who are educated </td></tr>\n",
    "<tr><th>educationFemale</th><td>Percentage of male population who are educated</td></tr>\n",
    "<tr><th>lifeMale</th><td>Life Expectancy of Male</td></tr>\n",
    "<tr><th>lifeFemale</th><td>Life Expectancy of Female</td></tr>\n",
    "<tr><th>infantMortality</th><td>Infant Mortality Rate</td></tr>\n",
    "<tr><th>GDPperCapita</th><td>GDP per capita</td></tr>\n",
    "<tr><th>economicActivityMale</th><td>Males who generate income</td></tr>\n",
    "<tr><th>economicActivityFemale</th><td>Females who generate income</td></tr>\n",
    "<tr><th>illiteracyMale</th><td>Illiteracy rate in Male</td></tr>\n",
    "<tr><th>illiteracyFemale</th><td>Illiteracy rate in Female</td></tr>\n",
    "</table>"
   ]
  },
  {
   "cell_type": "code",
   "execution_count": 96,
   "metadata": {
    "collapsed": false
   },
   "outputs": [
    {
     "name": "stdout",
     "output_type": "stream",
     "text": [
      "----\n",
      "Individual columns - Python data types\n"
     ]
    },
    {
     "data": {
      "text/plain": [
       "[('country', str),\n",
       " ('region', str),\n",
       " ('tfr', numpy.float64),\n",
       " ('contraception', numpy.float64),\n",
       " ('educationMale', numpy.float64),\n",
       " ('educationFemale', numpy.float64),\n",
       " ('lifeMale', numpy.float64),\n",
       " ('lifeFemale', numpy.float64),\n",
       " ('infantMortality', numpy.float64),\n",
       " ('GDPperCapita', numpy.float64),\n",
       " ('economicActivityMale', numpy.float64),\n",
       " ('economicActivityFemale', numpy.float64),\n",
       " ('illiteracyMale', numpy.float64),\n",
       " ('illiteracyFemale', numpy.float64)]"
      ]
     },
     "execution_count": 96,
     "metadata": {},
     "output_type": "execute_result"
    }
   ],
   "source": [
    "df = pd.read_csv('./Data/UN.csv')\n",
    "\n",
    "print('----')\n",
    "\n",
    "print('Individual columns - Python data types')\n",
    "[(col, type(df[col][0])) for col in df.columns] "
   ]
  },
  {
   "cell_type": "markdown",
   "metadata": {},
   "source": [
    "Let's see the fill rate of the columns "
   ]
  },
  {
   "cell_type": "code",
   "execution_count": 97,
   "metadata": {
    "collapsed": false
   },
   "outputs": [
    {
     "name": "stdout",
     "output_type": "stream",
     "text": [
      "Percentage of the values complete in the columns\n"
     ]
    },
    {
     "data": {
      "text/plain": [
       "country                   100.000000\n",
       "region                    100.000000\n",
       "tfr                        95.169082\n",
       "contraception              69.565217\n",
       "educationMale              36.714976\n",
       "educationFemale            36.714976\n",
       "lifeMale                   94.685990\n",
       "lifeFemale                 94.685990\n",
       "infantMortality            97.101449\n",
       "GDPperCapita               95.169082\n",
       "economicActivityMale       79.710145\n",
       "economicActivityFemale     79.710145\n",
       "illiteracyMale             77.294686\n",
       "illiteracyFemale           77.294686\n",
       "dtype: float64"
      ]
     },
     "execution_count": 97,
     "metadata": {},
     "output_type": "execute_result"
    }
   ],
   "source": [
    "print('Percentage of the values complete in the columns')\n",
    "df.count(0)/df.shape[0] * 100"
   ]
  },
  {
   "cell_type": "markdown",
   "metadata": {},
   "source": [
    "We can see that education columns don't have a good file rate followed by contraception.\n",
    "\n",
    "The columns with a good fill rate is life expectancy of Male and Female, infant mortality and GDPperCapita. With these columns we'll be losing out only on few countries where as if we include other columns, we'll be losing out on a lot of countries\n",
    "\n",
    "There should be a clustering influence based on the life expectancy of male and female, infant mortality rate based on the GDP of the country."
   ]
  },
  {
   "cell_type": "code",
   "execution_count": 98,
   "metadata": {
    "collapsed": false
   },
   "outputs": [],
   "source": [
    "df = df[['lifeMale', 'lifeFemale', 'infantMortality', 'GDPperCapita']]\n",
    "\n",
    "df = df.dropna(how='any')"
   ]
  },
  {
   "cell_type": "markdown",
   "metadata": {},
   "source": [
    "### Determining the number of clusters"
   ]
  },
  {
   "cell_type": "markdown",
   "metadata": {},
   "source": [
    "Before applying the K-means algorithm. We would like to know how many are the ideal clusters on the data."
   ]
  },
  {
   "cell_type": "code",
   "execution_count": 67,
   "metadata": {
    "collapsed": false
   },
   "outputs": [
    {
     "data": {
      "text/plain": [
       "[(array([[   63.52606383,    68.30904255,    44.30851064,  5890.59574468]]),\n",
       "  6534.9809626620172),\n",
       " (array([[  6.12851613e+01,   6.58683871e+01,   5.20903226e+01,\n",
       "            2.25506452e+03],\n",
       "         [  7.40515152e+01,   7.97727273e+01,   7.75757576e+00,\n",
       "            2.29665758e+04]]), 2739.3341826915193),\n",
       " (array([[  6.01681159e+01,   6.46014493e+01,   5.63260870e+01,\n",
       "            1.43936232e+03],\n",
       "         [  7.43904762e+01,   8.03095238e+01,   6.57142857e+00,\n",
       "            2.72491429e+04],\n",
       "         [  7.16379310e+01,   7.72620690e+01,   1.44482759e+01,\n",
       "            1.16057931e+04]]), 1868.849731735625)]"
      ]
     },
     "execution_count": 67,
     "metadata": {},
     "output_type": "execute_result"
    }
   ],
   "source": [
    "K = range(1,10)\n",
    "\n",
    "# scipy.cluster.vq.kmeans\n",
    "k_clusters = [kmeans(df.values,k) for k in K] # apply kmeans 1 to 10\n",
    "k_clusters[:3]"
   ]
  },
  {
   "cell_type": "markdown",
   "metadata": {},
   "source": [
    "In the above code, we define number of clusters from 1 to 10. Using the scipy's k-mean, we compute the centroids and the distortion between the centroids and the observed values associated to that cluster "
   ]
  },
  {
   "cell_type": "code",
   "execution_count": 68,
   "metadata": {
    "collapsed": false
   },
   "outputs": [
    {
     "name": "stdout",
     "output_type": "stream",
     "text": [
      "-----with 1 cluster------\n",
      "[[ 3044.71049474]\n",
      " [ 5027.61602297]\n",
      " [ 4359.59802141]\n",
      " [ 5536.23755972]\n",
      " [ 2164.54439528]]\n",
      "-----with 2 cluster------\n",
      "[[   602.17773927  20119.15659136]\n",
      " [  1392.24942101  22103.5906339 ]\n",
      " [   724.14994321  21435.60949045]\n",
      " [  1901.57838551  22611.91552068]\n",
      " [  5800.02980003  14911.58351999]]\n"
     ]
    }
   ],
   "source": [
    "euclidean_centroid = [cdist(df.values, centroid, 'euclidean') for (centroid,var) in k_clusters]\n",
    "print '-----with 1 cluster------'\n",
    "print euclidean_centroid[0][:5]\n",
    "\n",
    "print '-----with 2 cluster------'\n",
    "print euclidean_centroid[1][:5]\n"
   ]
  },
  {
   "cell_type": "markdown",
   "metadata": {},
   "source": [
    "We take the centroids in each of the group of clusters and compute the euclidean distance from all the points in space to the centroids of the cluster using the cdist function in scipy.\n",
    "\n",
    "You can see that the 1st cluster has only 1 column since it has only one cluster in it and the 2nd cluster has 2 columns as it has two clusters in it"
   ]
  },
  {
   "cell_type": "code",
   "execution_count": 69,
   "metadata": {
    "collapsed": false
   },
   "outputs": [
    {
     "name": "stdout",
     "output_type": "stream",
     "text": [
      "-----with 1st cluster------\n",
      "[ 3044.71049474  5027.61602297  4359.59802141  5536.23755972  2164.54439528]\n",
      "-----with 2nd cluster------\n",
      "[  602.17773927  1392.24942101   724.14994321  1901.57838551  5800.02980003]\n"
     ]
    }
   ],
   "source": [
    "distance = [np.min(D,axis=1) for D in euclidean_centroid]\n",
    "print '-----with 1st cluster------'\n",
    "print distance[0][:5]\n",
    "print '-----with 2nd cluster------'\n",
    "print distance[1][:5]"
   ]
  },
  {
   "cell_type": "markdown",
   "metadata": {},
   "source": [
    "As we have the distance of each of the observed points from the different centroids, we find the minimum distance of each observed point from the closest centroid.\n",
    "\n",
    "You can see above that the 1s  and 2nd clusters have single values to a centroid only now\n",
    "\n",
    "We'll now compute the average of the sum of square of the distance."
   ]
  },
  {
   "cell_type": "code",
   "execution_count": 70,
   "metadata": {
    "collapsed": false
   },
   "outputs": [
    {
     "data": {
      "text/plain": [
       "[6534.9809626620136,\n",
       " 2807.8638101354968,\n",
       " 1881.6887216763826,\n",
       " 1438.7793254224125,\n",
       " 1124.7641007615118,\n",
       " 972.53807558001722,\n",
       " 748.42564632860183,\n",
       " 780.45196219473132,\n",
       " 604.98921706893657]"
      ]
     },
     "execution_count": 70,
     "metadata": {},
     "output_type": "execute_result"
    }
   ],
   "source": [
    "avgWithinSumSquare = [sum(d)/df.values.shape[0] for d in distance]\n",
    "avgWithinSumSquare"
   ]
  },
  {
   "cell_type": "markdown",
   "metadata": {},
   "source": [
    "Each of the value in the array is the average sum of square from having 1 cluster to a group of 10 clusters\n",
    "\n",
    "We'll now plot the Elbow curve for K-Means clustering using this data"
   ]
  },
  {
   "cell_type": "code",
   "execution_count": 71,
   "metadata": {
    "collapsed": false
   },
   "outputs": [
    {
     "data": {
      "image/png": "[encoded data removed]",
      "text/plain": [
       "<matplotlib.figure.Figure at 0x19dc9b38>"
      ]
     },
     "metadata": {},
     "output_type": "display_data"
    }
   ],
   "source": [
    "point_id = 2\n",
    "# plot elbow curve\n",
    "fig = plt.figure()\n",
    "ax = fig.add_subplot(111)\n",
    "ax.plot(K, avgWithinSumSquare, 'b*-')\n",
    "ax.plot(K[point_id], avgWithinSumSquare[point_id], marker='o', markersize=12, \n",
    "      markeredgewidth=2, markeredgecolor='r', markerfacecolor='None')\n",
    "plt.grid(True)\n",
    "plt.xlabel('No. of clusters')\n",
    "plt.ylabel('Avg sum of squares')\n",
    "tt = plt.title('Elbow Curve')"
   ]
  },
  {
   "cell_type": "markdown",
   "metadata": {},
   "source": [
    "This curve is really useful. It helps to know what would be the ideal number of clusters for K-Means. Here we can see that 3 number of clusters is ideal since the drop in Average sum of square is flattening out post it. \n",
    "\n",
    "These 3 clusters of countries should be Developed, Developing and under developed countries."
   ]
  },
  {
   "cell_type": "markdown",
   "metadata": {},
   "source": [
    "### Clustering the countries"
   ]
  },
  {
   "cell_type": "markdown",
   "metadata": {},
   "source": [
    "We'll now apply the K-Means algorithm to cluster the countries together"
   ]
  },
  {
   "cell_type": "code",
   "execution_count": 99,
   "metadata": {
    "collapsed": false
   },
   "outputs": [
    {
     "data": {
      "text/html": [
       "<div>\n",
       "<table border=\"1\" class=\"dataframe\">\n",
       "  <thead>\n",
       "    <tr style=\"text-align: right;\">\n",
       "      <th></th>\n",
       "      <th>lifeMale</th>\n",
       "      <th>lifeFemale</th>\n",
       "      <th>infantMortality</th>\n",
       "      <th>GDPperCapita</th>\n",
       "      <th>countrySegment</th>\n",
       "    </tr>\n",
       "  </thead>\n",
       "  <tbody>\n",
       "    <tr>\n",
       "      <th>0</th>\n",
       "      <td>45.0</td>\n",
       "      <td>46.0</td>\n",
       "      <td>154</td>\n",
       "      <td>2848</td>\n",
       "      <td>1</td>\n",
       "    </tr>\n",
       "    <tr>\n",
       "      <th>1</th>\n",
       "      <td>68.0</td>\n",
       "      <td>74.0</td>\n",
       "      <td>32</td>\n",
       "      <td>863</td>\n",
       "      <td>1</td>\n",
       "    </tr>\n",
       "    <tr>\n",
       "      <th>2</th>\n",
       "      <td>67.5</td>\n",
       "      <td>70.3</td>\n",
       "      <td>44</td>\n",
       "      <td>1531</td>\n",
       "      <td>1</td>\n",
       "    </tr>\n",
       "    <tr>\n",
       "      <th>5</th>\n",
       "      <td>44.9</td>\n",
       "      <td>48.1</td>\n",
       "      <td>124</td>\n",
       "      <td>355</td>\n",
       "      <td>1</td>\n",
       "    </tr>\n",
       "    <tr>\n",
       "      <th>7</th>\n",
       "      <td>69.6</td>\n",
       "      <td>76.8</td>\n",
       "      <td>22</td>\n",
       "      <td>8055</td>\n",
       "      <td>0</td>\n",
       "    </tr>\n",
       "  </tbody>\n",
       "</table>\n",
       "</div>"
      ],
      "text/plain": [
       "   lifeMale  lifeFemale  infantMortality  GDPperCapita  countrySegment\n",
       "0      45.0        46.0              154          2848               1\n",
       "1      68.0        74.0               32           863               1\n",
       "2      67.5        70.3               44          1531               1\n",
       "5      44.9        48.1              124           355               1\n",
       "7      69.6        76.8               22          8055               0"
      ]
     },
     "execution_count": 99,
     "metadata": {},
     "output_type": "execute_result"
    }
   ],
   "source": [
    "km = KMeans(3, init='k-means++', random_state = 3425) # initialize\n",
    "km.fit(df.values)\n",
    "df['countrySegment'] = km.predict(df.values)\n",
    "df[:5]"
   ]
  },
  {
   "cell_type": "markdown",
   "metadata": {},
   "source": [
    "Let's find the average GDP per capita for each country segment"
   ]
  },
  {
   "cell_type": "code",
   "execution_count": 100,
   "metadata": {
    "collapsed": false
   },
   "outputs": [
    {
     "data": {
      "text/plain": [
       "countrySegment\n",
       "0    13800.586207\n",
       "1     1624.538462\n",
       "2    29681.625000\n",
       "Name: GDPperCapita, dtype: float64"
      ]
     },
     "execution_count": 100,
     "metadata": {},
     "output_type": "execute_result"
    }
   ],
   "source": [
    "df.groupby('countrySegment').GDPperCapita.mean()"
   ]
  },
  {
   "cell_type": "markdown",
   "metadata": {},
   "source": [
    "We can see that cluster 2 has the highest average GDP per capita and we can assume these as Developed countries. Cluster 0 has the 2nd highest, we can assume these as the developing and finally cluster 1 has a very low average GDP per capita, we can assume this as under developed nations. "
   ]
  },
  {
   "cell_type": "code",
   "execution_count": 101,
   "metadata": {
    "collapsed": false
   },
   "outputs": [
    {
     "data": {
      "text/html": [
       "<div>\n",
       "<table border=\"1\" class=\"dataframe\">\n",
       "  <thead>\n",
       "    <tr style=\"text-align: right;\">\n",
       "      <th></th>\n",
       "      <th>lifeMale</th>\n",
       "      <th>lifeFemale</th>\n",
       "      <th>infantMortality</th>\n",
       "      <th>GDPperCapita</th>\n",
       "      <th>countrySegment</th>\n",
       "    </tr>\n",
       "  </thead>\n",
       "  <tbody>\n",
       "    <tr>\n",
       "      <th>0</th>\n",
       "      <td>45.0</td>\n",
       "      <td>46.0</td>\n",
       "      <td>154</td>\n",
       "      <td>2848</td>\n",
       "      <td>Under Developed</td>\n",
       "    </tr>\n",
       "    <tr>\n",
       "      <th>1</th>\n",
       "      <td>68.0</td>\n",
       "      <td>74.0</td>\n",
       "      <td>32</td>\n",
       "      <td>863</td>\n",
       "      <td>Under Developed</td>\n",
       "    </tr>\n",
       "    <tr>\n",
       "      <th>2</th>\n",
       "      <td>67.5</td>\n",
       "      <td>70.3</td>\n",
       "      <td>44</td>\n",
       "      <td>1531</td>\n",
       "      <td>Under Developed</td>\n",
       "    </tr>\n",
       "    <tr>\n",
       "      <th>5</th>\n",
       "      <td>44.9</td>\n",
       "      <td>48.1</td>\n",
       "      <td>124</td>\n",
       "      <td>355</td>\n",
       "      <td>Under Developed</td>\n",
       "    </tr>\n",
       "    <tr>\n",
       "      <th>7</th>\n",
       "      <td>69.6</td>\n",
       "      <td>76.8</td>\n",
       "      <td>22</td>\n",
       "      <td>8055</td>\n",
       "      <td>Developing</td>\n",
       "    </tr>\n",
       "    <tr>\n",
       "      <th>8</th>\n",
       "      <td>67.2</td>\n",
       "      <td>74.0</td>\n",
       "      <td>25</td>\n",
       "      <td>354</td>\n",
       "      <td>Under Developed</td>\n",
       "    </tr>\n",
       "    <tr>\n",
       "      <th>9</th>\n",
       "      <td>75.4</td>\n",
       "      <td>81.2</td>\n",
       "      <td>6</td>\n",
       "      <td>20046</td>\n",
       "      <td>Developing</td>\n",
       "    </tr>\n",
       "    <tr>\n",
       "      <th>10</th>\n",
       "      <td>73.7</td>\n",
       "      <td>80.1</td>\n",
       "      <td>6</td>\n",
       "      <td>29006</td>\n",
       "      <td>Developed</td>\n",
       "    </tr>\n",
       "    <tr>\n",
       "      <th>11</th>\n",
       "      <td>66.5</td>\n",
       "      <td>74.5</td>\n",
       "      <td>33</td>\n",
       "      <td>321</td>\n",
       "      <td>Under Developed</td>\n",
       "    </tr>\n",
       "    <tr>\n",
       "      <th>12</th>\n",
       "      <td>70.5</td>\n",
       "      <td>77.1</td>\n",
       "      <td>14</td>\n",
       "      <td>12545</td>\n",
       "      <td>Developing</td>\n",
       "    </tr>\n",
       "  </tbody>\n",
       "</table>\n",
       "</div>"
      ],
      "text/plain": [
       "    lifeMale  lifeFemale  infantMortality  GDPperCapita   countrySegment\n",
       "0       45.0        46.0              154          2848  Under Developed\n",
       "1       68.0        74.0               32           863  Under Developed\n",
       "2       67.5        70.3               44          1531  Under Developed\n",
       "5       44.9        48.1              124           355  Under Developed\n",
       "7       69.6        76.8               22          8055       Developing\n",
       "8       67.2        74.0               25           354  Under Developed\n",
       "9       75.4        81.2                6         20046       Developing\n",
       "10      73.7        80.1                6         29006        Developed\n",
       "11      66.5        74.5               33           321  Under Developed\n",
       "12      70.5        77.1               14         12545       Developing"
      ]
     },
     "execution_count": 101,
     "metadata": {},
     "output_type": "execute_result"
    }
   ],
   "source": [
    "clust_map = {\n",
    "    0:'Developing',\n",
    "    1:'Under Developed',\n",
    "    2:'Developed'\n",
    "}\n",
    "\n",
    "df.countrySegment = df.countrySegment.map(clust_map)\n",
    "df[:10]"
   ]
  },
  {
   "cell_type": "markdown",
   "metadata": {},
   "source": [
    "Let's see the GDP vs infant mortality rate of the countries based on the cluster"
   ]
  },
  {
   "cell_type": "code",
   "execution_count": 110,
   "metadata": {
    "collapsed": false
   },
   "outputs": [
    {
     "data": {
      "image/png": "[encoded data removed]",
      "text/plain": [
       "<matplotlib.figure.Figure at 0x1879c4a8>"
      ]
     },
     "metadata": {},
     "output_type": "display_data"
    }
   ],
   "source": [
    "d_color = {\n",
    "    'Developing':'y',\n",
    "    'Under Developed':'r',\n",
    "    'Developed':'g'\n",
    "}\n",
    "\n",
    "fig, ax = plt.subplots()\n",
    "for clust in clust_map.values():\n",
    "    color = d_color[clust]\n",
    "    df[df.countrySegment == clust].plot(kind='scatter', x='GDPperCapita', y='infantMortality', label=clust, ax=ax, color=color)\n",
    "handles, labels = ax.get_legend_handles_labels()\n",
    "_ = ax.legend(handles, labels, loc=\"upper right\")"
   ]
  },
  {
   "cell_type": "markdown",
   "metadata": {},
   "source": [
    "We can see from the above graph that clearly when the GDP is low, the infant mortality rate is really high and as the GDP increases, the infant mortality rate decreases.\n",
    "\n",
    "We can also clearly see that the countries in green are the under developed nations, the one in dark blue are the developing nations and the one in red are the Developed nations\n",
    "\n",
    "Let's see the life expectancy of male with respect to the GDP"
   ]
  },
  {
   "cell_type": "code",
   "execution_count": 111,
   "metadata": {
    "collapsed": false
   },
   "outputs": [
    {
     "data": {
      "image/png": "[encoded data removed]",
      "text/plain": [
       "<matplotlib.figure.Figure at 0x188596a0>"
      ]
     },
     "metadata": {},
     "output_type": "display_data"
    }
   ],
   "source": [
    "fig, ax = plt.subplots()\n",
    "for clust in clust_map.values():\n",
    "    color = d_color[clust]\n",
    "    df[df.countrySegment == clust].plot(kind='scatter', x='GDPperCapita', y='lifeMale', label=clust, ax=ax, color=color)\n",
    "handles, labels = ax.get_legend_handles_labels()\n",
    "_ = ax.legend(handles, labels, loc=\"lower right\")"
   ]
  },
  {
   "cell_type": "markdown",
   "metadata": {},
   "source": [
    "We can see that the life expectancy of the male also increases with the GDP for the different kinds of nations.\n",
    "\n",
    "Now for the life expectancy of female and GDP"
   ]
  },
  {
   "cell_type": "code",
   "execution_count": 112,
   "metadata": {
    "collapsed": false
   },
   "outputs": [
    {
     "data": {
      "image/png": "[encoded data removed]",
      "text/plain": [
       "<matplotlib.figure.Figure at 0x1ab7d588>"
      ]
     },
     "metadata": {},
     "output_type": "display_data"
    }
   ],
   "source": [
    "fig, ax = plt.subplots()\n",
    "for clust in clust_map.values():\n",
    "    color = d_color[clust]\n",
    "    df[df.countrySegment == clust].plot(kind='scatter', x='GDPperCapita', y='lifeFemale', label=clust, ax=ax, color=color)\n",
    "handles, labels = ax.get_legend_handles_labels()\n",
    "_ = ax.legend(handles, labels, loc=\"lower right\")"
   ]
  },
  {
   "cell_type": "markdown",
   "metadata": {},
   "source": [
    "Similiarly trend for the females too"
   ]
  }
 ],
 "metadata": {
  "kernelspec": {
   "display_name": "Python 2",
   "language": "python",
   "name": "python2"
  },
  "language_info": {
   "codemirror_mode": {
    "name": "ipython",
    "version": 2
   },
   "file_extension": ".py",
   "mimetype": "text/x-python",
   "name": "python",
   "nbconvert_exporter": "python",
   "pygments_lexer": "ipython2",
   "version": "2.7.10"
  }
 },
 "nbformat": 4,
 "nbformat_minor": 0
}
