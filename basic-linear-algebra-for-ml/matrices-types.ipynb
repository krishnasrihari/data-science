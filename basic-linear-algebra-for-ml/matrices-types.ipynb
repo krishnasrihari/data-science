{
 "cells": [
  {
   "cell_type": "code",
   "execution_count": 2,
   "metadata": {},
   "outputs": [],
   "source": [
    "# Square, symmetric, triangular, and diagonal matrices that are much as their names suggest.\n",
    "# Identity matrices that are all zero values except along the main diagonal where the values are 1.\n",
    "# Orthogonal matrices that generalize the idea of perpendicular vectors and have useful computational properties."
   ]
  },
  {
   "cell_type": "markdown",
   "metadata": {},
   "source": [
    "### Square matrix \n",
    "    A square matrix is a matrix where the number of rows (n) is equivalent to the number of columns (m).\n",
    "    m = n\n",
    "    [[1,2,3],\n",
    "     [4,5,6],\n",
    "     [7,8,9]]"
   ]
  },
  {
   "cell_type": "markdown",
   "metadata": {},
   "source": [
    "### Symmetric matrix\n",
    "    A symmetric matrix is a type of square matrix where the top-right triangle is the same as the bottom-left triangle\n",
    "    [[1,2,3],\n",
    "     [2,1,2],\n",
    "     [3,2,1]]\n",
    "    \n",
    "    M = M^T"
   ]
  },
  {
   "cell_type": "markdown",
   "metadata": {},
   "source": [
    "### Triangle matrix\n",
    "    A triangular matrix is a type of square matrix that has all values in the upper-right or lower-left of the matrix with the remaining elements filled with zero values.\n",
    "    [[1,2,3],\n",
    "     [0,2,3],\n",
    "     [0,0,3]]\n",
    "     \n",
    "     or\n",
    "     \n",
    "     [[1,0,0],\n",
    "      [1,2,0],\n",
    "      [1,2,3]]"
   ]
  },
  {
   "cell_type": "code",
   "execution_count": 4,
   "metadata": {},
   "outputs": [],
   "source": [
    "import numpy as np"
   ]
  },
  {
   "cell_type": "code",
   "execution_count": 7,
   "metadata": {},
   "outputs": [
    {
     "data": {
      "text/plain": [
       "array([[1, 0, 0],\n",
       "       [1, 2, 0],\n",
       "       [1, 2, 3]])"
      ]
     },
     "execution_count": 7,
     "metadata": {},
     "output_type": "execute_result"
    }
   ],
   "source": [
    "a = np.array([[1,2,3],\n",
    "    [1,2,3],\n",
    "    [1,2,3]])\n",
    "# lower triangle matrix\n",
    "lower = np.tril(a)\n",
    "lower"
   ]
  },
  {
   "cell_type": "code",
   "execution_count": 9,
   "metadata": {},
   "outputs": [
    {
     "data": {
      "text/plain": [
       "array([[1, 2, 3],\n",
       "       [0, 2, 3],\n",
       "       [0, 0, 3]])"
      ]
     },
     "execution_count": 9,
     "metadata": {},
     "output_type": "execute_result"
    }
   ],
   "source": [
    "# upper triangle matrix\n",
    "upper = np.triu(a)\n",
    "upper"
   ]
  },
  {
   "cell_type": "markdown",
   "metadata": {},
   "source": [
    "### Diagonal matrix\n",
    "    A diagonal matrix is one where values outside of the main diagonal have a zero value\n",
    "    \n",
    "    [[1,0,0],\n",
    "     [0,2,0],\n",
    "     [0,0,3]]\n"
   ]
  },
  {
   "cell_type": "code",
   "execution_count": 13,
   "metadata": {},
   "outputs": [
    {
     "data": {
      "text/plain": [
       "array([1, 5, 9])"
      ]
     },
     "execution_count": 13,
     "metadata": {},
     "output_type": "execute_result"
    }
   ],
   "source": [
    "a = np.array([[1,2,3],\n",
    "    [4,5,6],\n",
    "    [7,8,9]])\n",
    "diag = np.diag(a)\n",
    "diag"
   ]
  },
  {
   "cell_type": "markdown",
   "metadata": {},
   "source": [
    "### Identity matrix\n",
    "    An identity matrix is a square matrix that does not change a vector when multiplied.\n",
    "    All of the scalar values along the main diagonal (top-left to bottom-right) have the value one, while all other values are zero.\n",
    "    \n",
    "    [[1,0,0],\n",
    "     [0,1,0],\n",
    "     [0,0,1]]"
   ]
  },
  {
   "cell_type": "code",
   "execution_count": 16,
   "metadata": {},
   "outputs": [
    {
     "data": {
      "text/plain": [
       "array([[1., 0., 0.],\n",
       "       [0., 1., 0.],\n",
       "       [0., 0., 1.]])"
      ]
     },
     "execution_count": 16,
     "metadata": {},
     "output_type": "execute_result"
    }
   ],
   "source": [
    "ident = np.identity(3)\n",
    "ident"
   ]
  },
  {
   "cell_type": "markdown",
   "metadata": {},
   "source": [
    "### Othogonal matrix\n",
    "    Two vectors are orthogonal when their dot product equals zero.\n",
    "    v.m = 0\n",
    "    \n",
    "    An Orthogonal matrix is often denoted as uppercase Q\n",
    "    Q^T·Q = Q·Q^T =I"
   ]
  },
  {
   "cell_type": "code",
   "execution_count": 22,
   "metadata": {},
   "outputs": [
    {
     "data": {
      "text/plain": [
       "array([[ 1.,  0.],\n",
       "       [-0., -1.]])"
      ]
     },
     "execution_count": 22,
     "metadata": {},
     "output_type": "execute_result"
    }
   ],
   "source": [
    "# define othogonal matrix\n",
    "q = np.array([[1,0],\n",
    "              [0,-1]])\n",
    "# inverse equalence\n",
    "v = np.linalg.inv(q)\n",
    "v"
   ]
  },
  {
   "cell_type": "code",
   "execution_count": 25,
   "metadata": {},
   "outputs": [
    {
     "data": {
      "text/plain": [
       "array([[1, 0],\n",
       "       [0, 1]])"
      ]
     },
     "execution_count": 25,
     "metadata": {},
     "output_type": "execute_result"
    }
   ],
   "source": [
    "# indentity equalence\n",
    "ident = q.dot(q.T)\n",
    "ident"
   ]
  }
 ],
 "metadata": {
  "kernelspec": {
   "display_name": "Python 3",
   "language": "python",
   "name": "python3"
  },
  "language_info": {
   "codemirror_mode": {
    "name": "ipython",
    "version": 3
   },
   "file_extension": ".py",
   "mimetype": "text/x-python",
   "name": "python",
   "nbconvert_exporter": "python",
   "pygments_lexer": "ipython3",
   "version": "3.7.2"
  }
 },
 "nbformat": 4,
 "nbformat_minor": 2
}
