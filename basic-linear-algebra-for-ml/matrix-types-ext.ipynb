{
 "cells": [
  {
   "cell_type": "markdown",
   "metadata": {},
   "source": [
    "### Sparse matrix\n",
    "    A sparse matrix is a matrix that is comprised of mostly zero values\n",
    "    Sparse matrices are distinct from matrices with mostly non-zero values, which are referred to as dense matrices.\n",
    "    \n",
    "    A matrix is sparse if many of its coefficients are zero.\n",
    "    \n",
    "    sparsity = count of non-zero elements / total elements"
   ]
  },
  {
   "cell_type": "markdown",
   "metadata": {},
   "source": [
    "#### Problems sith sparse matrix\n",
    "    Sparse matrices can cause problems with regards to space and time complexity\n",
    "    \n",
    "##### Space complexity    \n",
    "    Very large matrices require a lot of memory, and some very large matrices that we wish to work with are sparse.\n",
    "##### Time complexity\n",
    "    Simply, if the matrix contains mostly zero-values, i.e. no data, then performing operations across this matrix may take a long time"
   ]
  },
  {
   "cell_type": "markdown",
   "metadata": {},
   "source": [
    "#### Data\n",
    "    \n",
    "    􏰀 Whether or not a user has watched a movie in a movie catalog.\n",
    "    􏰀 Whether or not a user has purchased a product in a product catalog. \n",
    "    􏰀 Count of the number of listens of a song in a song catalog."
   ]
  },
  {
   "cell_type": "markdown",
   "metadata": {},
   "source": [
    "#### Data Preparation\n",
    "    􏰀 One hot encoding, used to represent categorical data as sparse binary vectors.\n",
    "    􏰀 Count encoding, used to represent the frequency of words in a vocabulary for a document \n",
    "    􏰀 TF-IDF encoding, used to represent normalized word frequency scores in a vocabulary."
   ]
  },
  {
   "cell_type": "code",
   "execution_count": 4,
   "metadata": {},
   "outputs": [],
   "source": [
    "import numpy as np\n",
    "from scipy import sparse"
   ]
  },
  {
   "cell_type": "code",
   "execution_count": 6,
   "metadata": {},
   "outputs": [
    {
     "data": {
      "text/plain": [
       "<3x6 sparse matrix of type '<class 'numpy.int64'>'\n",
       "\twith 5 stored elements in Compressed Sparse Row format>"
      ]
     },
     "execution_count": 6,
     "metadata": {},
     "output_type": "execute_result"
    }
   ],
   "source": [
    "# create a dense matrix\n",
    "a = np.array([[1,0,0,1,0,0],\n",
    "              [0,0,2,0,0,2],\n",
    "              [0,0,0,2,0,0]])\n",
    "s = sparse.csr_matrix(a)\n",
    "s"
   ]
  },
  {
   "cell_type": "code",
   "execution_count": 8,
   "metadata": {},
   "outputs": [
    {
     "data": {
      "text/plain": [
       "matrix([[1, 0, 0, 1, 0, 0],\n",
       "        [0, 0, 2, 0, 0, 2],\n",
       "        [0, 0, 0, 2, 0, 0]], dtype=int64)"
      ]
     },
     "execution_count": 8,
     "metadata": {},
     "output_type": "execute_result"
    }
   ],
   "source": [
    "s.todense()"
   ]
  },
  {
   "cell_type": "code",
   "execution_count": 10,
   "metadata": {},
   "outputs": [
    {
     "data": {
      "text/plain": [
       "0.7222222222222222"
      ]
     },
     "execution_count": 10,
     "metadata": {},
     "output_type": "execute_result"
    }
   ],
   "source": [
    "# calculate sparsity\n",
    "sparsity = 1 - np.count_nonzero(a)/a.size\n",
    "sparsity"
   ]
  }
 ],
 "metadata": {
  "kernelspec": {
   "display_name": "Python 3",
   "language": "python",
   "name": "python3"
  },
  "language_info": {
   "codemirror_mode": {
    "name": "ipython",
    "version": 3
   },
   "file_extension": ".py",
   "mimetype": "text/x-python",
   "name": "python",
   "nbconvert_exporter": "python",
   "pygments_lexer": "ipython3",
   "version": "3.7.2"
  }
 },
 "nbformat": 4,
 "nbformat_minor": 2
}
